{
  "nbformat": 4,
  "nbformat_minor": 0,
  "metadata": {
    "colab": {
      "provenance": [],
      "authorship_tag": "ABX9TyOMHCSWw9t1rU4lICxqihWj",
      "include_colab_link": true
    },
    "kernelspec": {
      "name": "python3",
      "display_name": "Python 3"
    },
    "language_info": {
      "name": "python"
    }
  },
  "cells": [
    {
      "cell_type": "markdown",
      "metadata": {
        "id": "view-in-github",
        "colab_type": "text"
      },
      "source": [
        "<a href=\"https://colab.research.google.com/github/cown0211/AITech_5th/blob/main/Pre-Course/2_2_File_Exception_Log_Handling.ipynb\" target=\"_parent\"><img src=\"https://colab.research.google.com/assets/colab-badge.svg\" alt=\"Open In Colab\"/></a>"
      ]
    },
    {
      "cell_type": "markdown",
      "source": [
        "# 예외처리 Exception\n",
        "\n"
      ],
      "metadata": {
        "id": "v4OrqV1HDwuK"
      }
    },
    {
      "cell_type": "markdown",
      "source": [
        "## try ~ except\n",
        "\n",
        "```\n",
        "try:\n",
        " 예외 발생 가능 코드\n",
        "except <Exception Type>:\n",
        " 예외 발생 시 대응하는 코드\n",
        "```"
      ],
      "metadata": {
        "id": "JpM4mtYEHCP2"
      }
    },
    {
      "cell_type": "code",
      "execution_count": 4,
      "metadata": {
        "colab": {
          "base_uri": "https://localhost:8080/"
        },
        "id": "Nel-J-MHDtPA",
        "outputId": "509aded5-4ab2-4b50-c64d-e4c449a371fb"
      },
      "outputs": [
        {
          "output_type": "stream",
          "name": "stdout",
          "text": [
            "Not divided by 0\n",
            "1 10\n",
            "2 5\n",
            "3 3\n",
            "4 2\n",
            "5 2\n",
            "6 1\n",
            "7 1\n",
            "8 1\n",
            "9 1\n"
          ]
        }
      ],
      "source": [
        "for i in range(10): # i; 0~9\n",
        "  try:\n",
        "    print(i, 10//i)\n",
        "  except ZeroDivisionError:  # ZeroDivisionError는 빌트인 에러\n",
        "    print(\"Not divided by 0\")\n",
        "  # except ValueError:           # 제대로 된 에러 설정 안해주면 아예 코드가 멈춤\n",
        "  #   print(\"Not divided by 0\")"
      ]
    },
    {
      "cell_type": "code",
      "source": [
        "# 대표적인 빌트인 예외\n",
        "# IndexError; 리스트의 인덱스 범위 넘어갈 때\n",
        "# NameError; 존재하지 않는 변수 호출 시\n",
        "# ZeroDivisionError; 0으로 숫자 나눌 때\n",
        "# ValueError; 변환할 수 없는 문자/숫자를 변환할 때\n",
        "# FileNotFoundError; 존재하지 않는 파일 호출 시"
      ],
      "metadata": {
        "id": "k9sD7Vs3EwMY"
      },
      "execution_count": null,
      "outputs": []
    },
    {
      "cell_type": "code",
      "source": [
        "a = [1,2,3,4,5]\n",
        "\n",
        "for i in range(10): # i ; 0~9\n",
        "  try:\n",
        "    print(i, 10//i)\n",
        "    print(a[i])        # a 리스트의 인덱스 범위 넘어감으로 아래에 예외 또 달아줘야 함\n",
        "  except ZeroDivisionError:\n",
        "    print(\"Error\")\n",
        "    print(\"Not divided by 0\")\n",
        "  except IndexError as e:\n",
        "    print(e)"
      ],
      "metadata": {
        "colab": {
          "base_uri": "https://localhost:8080/"
        },
        "id": "S97wy0DFFLsw",
        "outputId": "8c76ab59-a62b-4068-c7b0-600ae765ba22"
      },
      "execution_count": 6,
      "outputs": [
        {
          "output_type": "stream",
          "name": "stdout",
          "text": [
            "Error\n",
            "Not divided by 0\n",
            "1 10\n",
            "2\n",
            "2 5\n",
            "3\n",
            "3 3\n",
            "4\n",
            "4 2\n",
            "5\n",
            "5 2\n",
            "list index out of range\n",
            "6 1\n",
            "list index out of range\n",
            "7 1\n",
            "list index out of range\n",
            "8 1\n",
            "list index out of range\n",
            "9 1\n",
            "list index out of range\n"
          ]
        }
      ]
    },
    {
      "cell_type": "markdown",
      "source": [
        "## try ~ except ~ else\n",
        "\n",
        "```\n",
        "try:\n",
        " 예외 발생 가능 코드\n",
        "except <Exception Type>:\n",
        " 예외 발생 시 대응하는 코드\n",
        "else:\n",
        " 예외가 발생하지 않을 때 동작하는 코드\n",
        "```"
      ],
      "metadata": {
        "id": "dUOg8GxXHKpw"
      }
    },
    {
      "cell_type": "code",
      "source": [
        "# else 구문\n",
        "# try ~ except ~ else\n",
        "\n",
        "for i in range(10): # i; 0~9\n",
        "  try:\n",
        "    result = 10//i\n",
        "  except ZeroDivisionError:\n",
        "    print(\"Not divided by 0\")\n",
        "  else:\n",
        "    print(10//i)"
      ],
      "metadata": {
        "colab": {
          "base_uri": "https://localhost:8080/"
        },
        "id": "UzBTtr4EF83j",
        "outputId": "95c84dbf-9dd6-4623-dbf6-76e78d30211a"
      },
      "execution_count": 7,
      "outputs": [
        {
          "output_type": "stream",
          "name": "stdout",
          "text": [
            "Not divided by 0\n",
            "10\n",
            "5\n",
            "3\n",
            "2\n",
            "2\n",
            "1\n",
            "1\n",
            "1\n",
            "1\n"
          ]
        }
      ]
    },
    {
      "cell_type": "markdown",
      "source": [
        "## try ~ except ~ finally\n",
        "\n",
        "```\n",
        "try:\n",
        " 예외 발생 가능 코드\n",
        "except <Exception Type>:\n",
        " 예외 발생 시 대응하는 코드\n",
        "finally:\n",
        " 예외 발생 여부와 상관없이 실행\n",
        "```"
      ],
      "metadata": {
        "id": "IHQ3egvHHXSs"
      }
    },
    {
      "cell_type": "code",
      "source": [
        "# finally 구문\n",
        "# try ~ except ~ finally\n",
        "\n",
        "for i in range(0,10):\n",
        "  try:\n",
        "    result = 10//i\n",
        "  except ZeroDivisionError:\n",
        "    print(\"Not divided by 0\")\n",
        "  else:\n",
        "    print(10//i)\n",
        "  finally:\n",
        "    print(i, \"------\", result)"
      ],
      "metadata": {
        "colab": {
          "base_uri": "https://localhost:8080/"
        },
        "id": "MyXaKr0CGVIW",
        "outputId": "bf74d24a-db9b-42ad-d2d3-adcdc34507da"
      },
      "execution_count": 8,
      "outputs": [
        {
          "output_type": "stream",
          "name": "stdout",
          "text": [
            "Not divided by 0\n",
            "0 ------ 1\n",
            "10\n",
            "1 ------ 10\n",
            "5\n",
            "2 ------ 5\n",
            "3\n",
            "3 ------ 3\n",
            "2\n",
            "4 ------ 2\n",
            "2\n",
            "5 ------ 2\n",
            "1\n",
            "6 ------ 1\n",
            "1\n",
            "7 ------ 1\n",
            "1\n",
            "8 ------ 1\n",
            "1\n",
            "9 ------ 1\n"
          ]
        }
      ]
    },
    {
      "cell_type": "markdown",
      "source": [
        "## raise 구문\n",
        "필요에 따라 강제로 Exception 발생\n",
        "\n",
        "\n",
        "\n",
        "```\n",
        "raise <Exception Type>(예외정보)\n",
        "```\n",
        "\n"
      ],
      "metadata": {
        "id": "2L6YoltoIJHp"
      }
    },
    {
      "cell_type": "code",
      "source": [
        "while True:\n",
        "  value = input(\"변환할 정수 값을 입력해주세요\")\n",
        "  for digit in value:\n",
        "    if digit not in \"0123456789\":\n",
        "      raise ValueError(\"숫자값을 입력하지 않으셨습니다\")\n",
        "  print(\"정수 값으로 변환된 숫자 -\", int(value))"
      ],
      "metadata": {
        "colab": {
          "base_uri": "https://localhost:8080/",
          "height": 359
        },
        "id": "f-U15TGEIRU_",
        "outputId": "dcefad97-bff7-4706-915a-c0bf34898d44"
      },
      "execution_count": 12,
      "outputs": [
        {
          "name": "stdout",
          "output_type": "stream",
          "text": [
            "변환할 정수 값을 입력해주세요1\n",
            "정수 값으로 변환된 숫자 - 1\n",
            "변환할 정수 값을 입력해주세요2\n",
            "정수 값으로 변환된 숫자 - 2\n",
            "변환할 정수 값을 입력해주세요4\n",
            "정수 값으로 변환된 숫자 - 4\n",
            "변환할 정수 값을 입력해주세요4asf\n"
          ]
        },
        {
          "output_type": "error",
          "ename": "ValueError",
          "evalue": "ignored",
          "traceback": [
            "\u001b[0;31m---------------------------------------------------------------------------\u001b[0m",
            "\u001b[0;31mValueError\u001b[0m                                Traceback (most recent call last)",
            "\u001b[0;32m<ipython-input-12-ff59aa6cf4d5>\u001b[0m in \u001b[0;36m<module>\u001b[0;34m\u001b[0m\n\u001b[1;32m      3\u001b[0m   \u001b[0;32mfor\u001b[0m \u001b[0mdigit\u001b[0m \u001b[0;32min\u001b[0m \u001b[0mvalue\u001b[0m\u001b[0;34m:\u001b[0m\u001b[0;34m\u001b[0m\u001b[0;34m\u001b[0m\u001b[0m\n\u001b[1;32m      4\u001b[0m     \u001b[0;32mif\u001b[0m \u001b[0mdigit\u001b[0m \u001b[0;32mnot\u001b[0m \u001b[0;32min\u001b[0m \u001b[0;34m\"0123456789\"\u001b[0m\u001b[0;34m:\u001b[0m\u001b[0;34m\u001b[0m\u001b[0;34m\u001b[0m\u001b[0m\n\u001b[0;32m----> 5\u001b[0;31m       \u001b[0;32mraise\u001b[0m \u001b[0mValueError\u001b[0m\u001b[0;34m(\u001b[0m\u001b[0;34m\"숫자값을 입력하지 않으셨습니다\"\u001b[0m\u001b[0;34m)\u001b[0m\u001b[0;34m\u001b[0m\u001b[0;34m\u001b[0m\u001b[0m\n\u001b[0m\u001b[1;32m      6\u001b[0m   \u001b[0mprint\u001b[0m\u001b[0;34m(\u001b[0m\u001b[0;34m\"정수 값으로 변환된 숫자 -\"\u001b[0m\u001b[0;34m,\u001b[0m \u001b[0mint\u001b[0m\u001b[0;34m(\u001b[0m\u001b[0mvalue\u001b[0m\u001b[0;34m)\u001b[0m\u001b[0;34m)\u001b[0m\u001b[0;34m\u001b[0m\u001b[0;34m\u001b[0m\u001b[0m\n",
            "\u001b[0;31mValueError\u001b[0m: 숫자값을 입력하지 않으셨습니다"
          ]
        }
      ]
    },
    {
      "cell_type": "markdown",
      "source": [
        "## assert 구문\n",
        "특정 조건에 만족하지 않을 경우 예외 발생\n",
        "\n",
        "```\n",
        "assert 예외조건\n",
        "```"
      ],
      "metadata": {
        "id": "KOHHLUQaJBbg"
      }
    },
    {
      "cell_type": "code",
      "source": [
        "def get_binary_number(decimal_number: int):\n",
        "  assert isinstance(decimal_number, int)\n",
        "  # assert 뒤의 구문을 True or False로 반환되도록 하고 False일 경우 Error 발생시킴\n",
        "  return bin(decimal_number)\n",
        "\n",
        "print(get_binary_number(10.0))"
      ],
      "metadata": {
        "colab": {
          "base_uri": "https://localhost:8080/",
          "height": 340
        },
        "id": "9Db1rdDTJKzL",
        "outputId": "43acd633-81aa-4e53-fc49-f230337c323e"
      },
      "execution_count": 14,
      "outputs": [
        {
          "output_type": "error",
          "ename": "AssertionError",
          "evalue": "ignored",
          "traceback": [
            "\u001b[0;31m---------------------------------------------------------------------------\u001b[0m",
            "\u001b[0;31mAssertionError\u001b[0m                            Traceback (most recent call last)",
            "\u001b[0;32m<ipython-input-14-f1268e6cfa3b>\u001b[0m in \u001b[0;36m<module>\u001b[0;34m\u001b[0m\n\u001b[1;32m      3\u001b[0m   \u001b[0;32mreturn\u001b[0m \u001b[0mbin\u001b[0m\u001b[0;34m(\u001b[0m\u001b[0mdecimal_number\u001b[0m\u001b[0;34m)\u001b[0m\u001b[0;34m\u001b[0m\u001b[0;34m\u001b[0m\u001b[0m\n\u001b[1;32m      4\u001b[0m \u001b[0;34m\u001b[0m\u001b[0m\n\u001b[0;32m----> 5\u001b[0;31m \u001b[0mprint\u001b[0m\u001b[0;34m(\u001b[0m\u001b[0mget_binary_number\u001b[0m\u001b[0;34m(\u001b[0m\u001b[0;36m10.0\u001b[0m\u001b[0;34m)\u001b[0m\u001b[0;34m)\u001b[0m\u001b[0;34m\u001b[0m\u001b[0;34m\u001b[0m\u001b[0m\n\u001b[0m",
            "\u001b[0;32m<ipython-input-14-f1268e6cfa3b>\u001b[0m in \u001b[0;36mget_binary_number\u001b[0;34m(decimal_number)\u001b[0m\n\u001b[1;32m      1\u001b[0m \u001b[0;32mdef\u001b[0m \u001b[0mget_binary_number\u001b[0m\u001b[0;34m(\u001b[0m\u001b[0mdecimal_number\u001b[0m\u001b[0;34m:\u001b[0m \u001b[0mint\u001b[0m\u001b[0;34m)\u001b[0m\u001b[0;34m:\u001b[0m\u001b[0;34m\u001b[0m\u001b[0;34m\u001b[0m\u001b[0m\n\u001b[0;32m----> 2\u001b[0;31m   \u001b[0;32massert\u001b[0m \u001b[0misinstance\u001b[0m\u001b[0;34m(\u001b[0m\u001b[0mdecimal_number\u001b[0m\u001b[0;34m,\u001b[0m \u001b[0mint\u001b[0m\u001b[0;34m)\u001b[0m\u001b[0;34m\u001b[0m\u001b[0;34m\u001b[0m\u001b[0m\n\u001b[0m\u001b[1;32m      3\u001b[0m   \u001b[0;32mreturn\u001b[0m \u001b[0mbin\u001b[0m\u001b[0;34m(\u001b[0m\u001b[0mdecimal_number\u001b[0m\u001b[0;34m)\u001b[0m\u001b[0;34m\u001b[0m\u001b[0;34m\u001b[0m\u001b[0m\n\u001b[1;32m      4\u001b[0m \u001b[0;34m\u001b[0m\u001b[0m\n\u001b[1;32m      5\u001b[0m \u001b[0mprint\u001b[0m\u001b[0;34m(\u001b[0m\u001b[0mget_binary_number\u001b[0m\u001b[0;34m(\u001b[0m\u001b[0;36m10.0\u001b[0m\u001b[0;34m)\u001b[0m\u001b[0;34m)\u001b[0m\u001b[0;34m\u001b[0m\u001b[0;34m\u001b[0m\u001b[0m\n",
            "\u001b[0;31mAssertionError\u001b[0m: "
          ]
        }
      ]
    },
    {
      "cell_type": "markdown",
      "source": [
        "# 파일 File\n",
        "\n",
        "* text 파일과 binary 파일로 나눔\n",
        "\n",
        "* 컴퓨터는 text 파일을 binary 파일로 변환시킴\n",
        "\n",
        "* 사람의 눈에 \"a\"라는 글자가 ASCII 코드의 65로 읽는 개념"
      ],
      "metadata": {
        "id": "ReY_rQ8HKBjO"
      }
    },
    {
      "cell_type": "markdown",
      "source": [
        "## 파이썬 File I/O\n",
        "\n",
        "* 파이썬은 파일 처리를 위해 open 키워드를 사용함\n",
        "\n",
        "  ```\n",
        "  f = open(\"<파일이름>\", \"접근 모드\")\n",
        "  f.close()\n",
        "  ```\n",
        "* 접근모드\n",
        "\n",
        "  r; 읽기모드; 파일을 읽기만 할 때\n",
        "\n",
        "  w; 쓰기모드; 파일에 내용을 쓸 때\n",
        "\n",
        "  a; 추가모드; 파일의 마지막에 새로운 내용을 추가할 때"
      ],
      "metadata": {
        "id": "Iipvz5ZNK6MW"
      }
    },
    {
      "cell_type": "markdown",
      "source": [
        "## 파이썬 File Read\n",
        "\n",
        "* read(); txt 파일 안에 있는 내용을 문자열로 반환\n",
        "  \n",
        "  ```\n",
        "  # 파일이 코드파일과 같은 폴더에 있어야 함\n",
        "  f = open(\"i_have_a_dream.txt\", \"r\") # 정확히는 파일의 주소를 할당하는 것\n",
        "  contents = f.read() # 파일 내의 내용을 문자열로 반환하고 contents라는 변수에 할당\n",
        "  print(contents)\n",
        "  f.close() # 열려있는 파일 주소 닫음\n",
        "  ```\n",
        "\n",
        "* with 구문과 함께 사용\n",
        "  \n",
        "  read()와 용례는 똑같으나 형태만 다름\n",
        "\n",
        "  ```\n",
        "  with open(\"i_have_a_dream.txt\", \"r\") as my_file:\n",
        "    contents = my_file.read()\n",
        "    print(type(contents), contents)\n",
        "  ```\n",
        "\n",
        "\n",
        "* 한 줄씩 읽어 리스트 형태로 반환\n",
        "\n",
        "  ```\n",
        "  with open(\"i_have_a_dream.txt\", \"r\") as my_file:\n",
        "    content_list = my_file.readlines() # 파일 전체를 \"\\n\"을 기준으로 list로 반환\n",
        "    print(type(content_list)) # type 확인\n",
        "    print(content_list) # 리스트 출력\n",
        "  ```\n",
        "\n",
        "\n",
        "\n",
        "* 실행 시마다 한 줄씩 읽어오기\n",
        "  \n",
        "  readlines는 한꺼번에 읽어와서 한줄씩 끊는 개념이라면\n",
        "  \n",
        "  얘는 읽어올 때부터 한 줄씩 읽어옴(파일이 너무 크다던지...)\n",
        "  ```\n",
        "  with open(\"i_have_a_dream.txt\", \"r\") as my_file:\n",
        "    i = 0\n",
        "    while True:\n",
        "      line = my_file.readline() # readline()\n",
        "      if not line:\n",
        "        break\n",
        "      print(str(i) + \" === \" + line.replace(\"\\n\", \"\"))\n",
        "      i += 1\n",
        "  ```"
      ],
      "metadata": {
        "id": "XcAAjfntMzxK"
      }
    },
    {
      "cell_type": "markdown",
      "source": [
        "## 파이썬 File Write\n",
        "\n",
        "  * mode는 \"w\", encoding = \"utf8\"\n",
        "    \n",
        "    w모드이면 파일을 새로 만들거나 덮어써버림\n",
        "\n",
        "  ```\n",
        "  f = open(\"count_log.txt\", mode = \"w\", encoding = \"utf8\")\n",
        "  for i in range(1,11):\n",
        "      data = \"{0}번째 줄입니다. \\n\".format(i)\n",
        "      f.write(data)\n",
        "  f.close()\n",
        "  ```\n",
        "\n",
        "  * mode = \"a\"라면 기존 파일에 덮어쓰기\n",
        "    \n",
        "  ```\n",
        "  with open(\"count_log.txt\", mode = \"a\", encoding = \"utf8\") as f:\n",
        "      for i in range(11,21):\n",
        "        data = \"{0}번째 줄입니다. \\n\".format(i)\n",
        "        f.write(data\n",
        "  ```\n"
      ],
      "metadata": {
        "id": "KALeJPtsOuZ1"
      }
    },
    {
      "cell_type": "markdown",
      "source": [
        "## 파이썬 디렉토리 다루기"
      ],
      "metadata": {
        "id": "budEOR8mQD8Q"
      }
    },
    {
      "cell_type": "code",
      "source": [
        "import os\n",
        "os.mkdir(\"log\") # log라는 이름을 가지는 폴더 생성"
      ],
      "metadata": {
        "colab": {
          "base_uri": "https://localhost:8080/",
          "height": 193
        },
        "id": "l59CdhPaQJvQ",
        "outputId": "06f2092a-7764-44e5-904c-82d179cef8ae"
      },
      "execution_count": 18,
      "outputs": [
        {
          "output_type": "error",
          "ename": "FileExistsError",
          "evalue": "ignored",
          "traceback": [
            "\u001b[0;31m---------------------------------------------------------------------------\u001b[0m",
            "\u001b[0;31mFileExistsError\u001b[0m                           Traceback (most recent call last)",
            "\u001b[0;32m<ipython-input-18-93bf95500a7d>\u001b[0m in \u001b[0;36m<module>\u001b[0;34m\u001b[0m\n\u001b[1;32m      1\u001b[0m \u001b[0;32mimport\u001b[0m \u001b[0mos\u001b[0m\u001b[0;34m\u001b[0m\u001b[0;34m\u001b[0m\u001b[0m\n\u001b[0;32m----> 2\u001b[0;31m \u001b[0mos\u001b[0m\u001b[0;34m.\u001b[0m\u001b[0mmkdir\u001b[0m\u001b[0;34m(\u001b[0m\u001b[0;34m\"log\"\u001b[0m\u001b[0;34m)\u001b[0m \u001b[0;31m# log라는 이름을 가지는 폴더 생성\u001b[0m\u001b[0;34m\u001b[0m\u001b[0;34m\u001b[0m\u001b[0m\n\u001b[0m",
            "\u001b[0;31mFileExistsError\u001b[0m: [Errno 17] File exists: 'log'"
          ]
        }
      ]
    },
    {
      "cell_type": "code",
      "source": [
        "# 기존에 있는 폴더명과 겹치면 File exists라는 에러 발생!\n",
        "\n",
        "try:\n",
        "  os.mkdir(\"log\")\n",
        "except FileExistsError as e:\n",
        "  print(e)\n",
        "  print(\"Already created\")"
      ],
      "metadata": {
        "colab": {
          "base_uri": "https://localhost:8080/"
        },
        "id": "DH1s06BmQVwf",
        "outputId": "e38854e9-7be0-483f-d4df-6a397cad9f2a"
      },
      "execution_count": 21,
      "outputs": [
        {
          "output_type": "stream",
          "name": "stdout",
          "text": [
            "[Errno 17] File exists: 'log'\n",
            "Already created\n"
          ]
        }
      ]
    },
    {
      "cell_type": "code",
      "source": [
        "os.path.exists(\"log\")\n",
        "# log라는 폴더가 존재하는지 T/F 반환"
      ],
      "metadata": {
        "colab": {
          "base_uri": "https://localhost:8080/"
        },
        "id": "hOPbHBETQpaM",
        "outputId": "b606f0eb-ce07-48b1-fe43-d6689417e005"
      },
      "execution_count": 22,
      "outputs": [
        {
          "output_type": "execute_result",
          "data": {
            "text/plain": [
              "True"
            ]
          },
          "metadata": {},
          "execution_count": 22
        }
      ]
    },
    {
      "cell_type": "code",
      "source": [
        "import shutil\n",
        "\n",
        "source = \"i_have_a_dream.txt\"\n",
        "dest = os.path.join(\"abc\", \"log.txt\")\n",
        "# join() 메서드로 \"abc\\\\log.txt\"라는 경로 생성\n",
        "\n",
        "shutil.copy(source, dest)"
      ],
      "metadata": {
        "id": "17uIz_-IQyCx"
      },
      "execution_count": null,
      "outputs": []
    },
    {
      "cell_type": "code",
      "source": [
        "import os\n",
        "\n",
        "if not os.path.isdir(\"log\"): # log 폴더가 없다면?\n",
        "  os.mkdir(\"log\")            # log 폴더 생성!\n",
        "if not os.path.exists(\"log/count_log.txt\"):    # count_log.txt라는 파일이 없다면?\n",
        "  f = open(\"log/count_log.txt\", \"w\", encoding = \"utf8\") # count_log.txt 생성!\n",
        "  f.write(\"기록이 시작됩니다\\n\")\n",
        "  f.close()\n",
        "\n",
        "with open(\"log/count_log.txt\", \"a\", encoding = \"utf8\") as f: # count_log.txt에 append 해줌으로 계속 기록\n",
        "  import random, datetime\n",
        "  for i in range(1,11):\n",
        "    stamp = str(datetime.datetime.now())\n",
        "    value = random.random() * 10000000\n",
        "    log_line = stamp + \"\\t\" + str(value) + \"값이 생성되었습니다\" + \"\\n\"\n",
        "    f.write(log_line)"
      ],
      "metadata": {
        "id": "HDeHnAhXTlf6"
      },
      "execution_count": 25,
      "outputs": []
    },
    {
      "cell_type": "markdown",
      "source": [
        "## Pickle\n",
        "\n",
        "* 파이썬 객체를 영속화 하는 빌트인 객체\n",
        "\n",
        "* 데이터, object 등 실행중 정보를 저장 -> 나중에 불러올 수 있도록"
      ],
      "metadata": {
        "id": "KqscIrXvUtNl"
      }
    },
    {
      "cell_type": "code",
      "source": [
        "import pickle\n",
        "\n",
        "f = open(\"list.pickle\", \"wb\") # \"wb\"는 write binary의 약자\n",
        "test = [1,2,3,4,5]\n",
        "pickle.dump(test, f) # test라는 변수를 덮어 씌움\n",
        "f.close()\n",
        "\n",
        "# list.pickle 파일을 열어도 binary이기 때문에 메모장에서 깨짐"
      ],
      "metadata": {
        "id": "fW2v2dTPU3MV"
      },
      "execution_count": 26,
      "outputs": []
    },
    {
      "cell_type": "code",
      "source": [
        "del test; test\n",
        "# test라는 변수를 파이썬 환경에서 삭제해도 밖에 저장된 정보는 남음"
      ],
      "metadata": {
        "colab": {
          "base_uri": "https://localhost:8080/",
          "height": 174
        },
        "id": "HZ4JooLaVUee",
        "outputId": "f493fcc4-df23-469a-c79c-997a1acf6e3b"
      },
      "execution_count": 27,
      "outputs": [
        {
          "output_type": "error",
          "ename": "NameError",
          "evalue": "ignored",
          "traceback": [
            "\u001b[0;31m---------------------------------------------------------------------------\u001b[0m",
            "\u001b[0;31mNameError\u001b[0m                                 Traceback (most recent call last)",
            "\u001b[0;32m<ipython-input-27-361e776a65c6>\u001b[0m in \u001b[0;36m<module>\u001b[0;34m\u001b[0m\n\u001b[0;32m----> 1\u001b[0;31m \u001b[0;32mdel\u001b[0m \u001b[0mtest\u001b[0m\u001b[0;34m;\u001b[0m \u001b[0mtest\u001b[0m\u001b[0;34m\u001b[0m\u001b[0;34m\u001b[0m\u001b[0m\n\u001b[0m",
            "\u001b[0;31mNameError\u001b[0m: name 'test' is not defined"
          ]
        }
      ]
    },
    {
      "cell_type": "code",
      "source": [
        "f = open(\"list.pickle\", \"rb\") # \"rb\"는 read binary\n",
        "test_pickle = pickle.load(f)\n",
        "print(test_pickle)\n",
        "f.close()"
      ],
      "metadata": {
        "colab": {
          "base_uri": "https://localhost:8080/",
          "height": 248
        },
        "id": "TZFSeIS7Vbm6",
        "outputId": "7e4da790-fd57-4a5a-be8a-c09c1cc0be2d"
      },
      "execution_count": 34,
      "outputs": [
        {
          "output_type": "error",
          "ename": "UnpicklingError",
          "evalue": "ignored",
          "traceback": [
            "\u001b[0;31m---------------------------------------------------------------------------\u001b[0m",
            "\u001b[0;31mUnpicklingError\u001b[0m                           Traceback (most recent call last)",
            "\u001b[0;32m<ipython-input-34-16bc098717dc>\u001b[0m in \u001b[0;36m<module>\u001b[0;34m\u001b[0m\n\u001b[1;32m      1\u001b[0m \u001b[0;32mimport\u001b[0m \u001b[0mpickle\u001b[0m\u001b[0;34m\u001b[0m\u001b[0;34m\u001b[0m\u001b[0m\n\u001b[1;32m      2\u001b[0m \u001b[0mf\u001b[0m \u001b[0;34m=\u001b[0m \u001b[0mopen\u001b[0m\u001b[0;34m(\u001b[0m\u001b[0;34m\"list.pickle\"\u001b[0m\u001b[0;34m,\u001b[0m \u001b[0;34m\"rb\"\u001b[0m\u001b[0;34m)\u001b[0m \u001b[0;31m# \"rb\"는 read binary\u001b[0m\u001b[0;34m\u001b[0m\u001b[0;34m\u001b[0m\u001b[0m\n\u001b[0;32m----> 3\u001b[0;31m \u001b[0mtest_pickle\u001b[0m \u001b[0;34m=\u001b[0m \u001b[0mpickle\u001b[0m\u001b[0;34m.\u001b[0m\u001b[0mload\u001b[0m\u001b[0;34m(\u001b[0m\u001b[0mf\u001b[0m\u001b[0;34m)\u001b[0m\u001b[0;34m\u001b[0m\u001b[0;34m\u001b[0m\u001b[0m\n\u001b[0m\u001b[1;32m      4\u001b[0m \u001b[0mprint\u001b[0m\u001b[0;34m(\u001b[0m\u001b[0mtest_pickle\u001b[0m\u001b[0;34m)\u001b[0m\u001b[0;34m\u001b[0m\u001b[0;34m\u001b[0m\u001b[0m\n\u001b[1;32m      5\u001b[0m \u001b[0mf\u001b[0m\u001b[0;34m.\u001b[0m\u001b[0mclose\u001b[0m\u001b[0;34m(\u001b[0m\u001b[0;34m)\u001b[0m\u001b[0;34m\u001b[0m\u001b[0;34m\u001b[0m\u001b[0m\n",
            "\u001b[0;31mUnpicklingError\u001b[0m: invalid load key, '\\xef'."
          ]
        }
      ]
    },
    {
      "cell_type": "markdown",
      "source": [
        "# 로그 Log\n",
        "\n",
        "* 프로그램 실행되는 동안 정보를 기록\n",
        "\n",
        "* 유저의 접근, 프로그램의 Exception, 특정 함수의 사용\n",
        "\n",
        "* 화면에 출력 or 파일이나 DB에 남기기"
      ],
      "metadata": {
        "id": "YBBChKC7RrOK"
      }
    },
    {
      "cell_type": "markdown",
      "source": [
        "## logging 모듈"
      ],
      "metadata": {
        "id": "623Ha8vfYhHm"
      }
    },
    {
      "cell_type": "code",
      "source": [
        "import logging\n",
        "\n",
        "logging.debug(\"틀렸잖아!\")\n",
        "logging.info(\"확인해\")\n",
        "logging.warning(\"조심해!\")\n",
        "logging.error(\"에러!!\")\n",
        "logging.critical(\"큰일!!\")\n",
        "\n",
        "# 그냥 실행하면 warning부터 나오는데\n",
        "# debug에서 critical 순으로 레벨이 설정돼있기 때문"
      ],
      "metadata": {
        "colab": {
          "base_uri": "https://localhost:8080/"
        },
        "id": "8Qh6whLtYMfZ",
        "outputId": "8e6a20bc-3bdc-4f76-d3e8-36f6a87efb23"
      },
      "execution_count": 35,
      "outputs": [
        {
          "output_type": "stream",
          "name": "stderr",
          "text": [
            "WARNING:root:조심해!\n",
            "ERROR:root:에러!!\n",
            "CRITICAL:root:큰일!!\n"
          ]
        }
      ]
    },
    {
      "cell_type": "code",
      "source": [
        "# level 설정, 로그를 화면에 띄울지 파일에 저장할지...\n",
        "\n",
        "if __name__ == \"__main__\":\n",
        "  logger = logging.getLogger(\"main\")\n",
        "  logging.basicConfig(level = logging.CRITICAL)\n",
        "  logger.setLevel(logging.INFO)\n",
        "\n",
        "\n",
        "  steam_hander = logging.FileHandler(\"my.log\",\n",
        "                                      mode = \"a\",\n",
        "                                      encoding = \"utf8\"\n",
        "                                      )\n",
        "  logger.addHandler(steam_hander)\n",
        "\n",
        "\n",
        "  logger.debug(\"틀렸잖아!\")\n",
        "  logger.info(\"확인해\")\n",
        "  logger.warning(\"조심해!\")\n",
        "  logger.error(\"에러!!\")\n",
        "  logger.critical(\"큰일!!\")"
      ],
      "metadata": {
        "colab": {
          "base_uri": "https://localhost:8080/"
        },
        "id": "G52mu_MKb4dl",
        "outputId": "f1349360-9b8f-4011-8707-d4a3133afea2"
      },
      "execution_count": 53,
      "outputs": [
        {
          "output_type": "stream",
          "name": "stderr",
          "text": [
            "확인해\n",
            "확인해\n",
            "확인해\n",
            "확인해\n",
            "INFO:main:확인해\n",
            "조심해!\n",
            "조심해!\n",
            "조심해!\n",
            "조심해!\n",
            "WARNING:main:조심해!\n",
            "에러!!\n",
            "에러!!\n",
            "에러!!\n",
            "에러!!\n",
            "ERROR:main:에러!!\n",
            "큰일!!\n",
            "큰일!!\n",
            "큰일!!\n",
            "큰일!!\n",
            "CRITICAL:main:큰일!!\n"
          ]
        }
      ]
    },
    {
      "cell_type": "markdown",
      "source": [
        "## configparser\n",
        " \n",
        " * 프로그램의 실행 설정을 file에 저장함\n",
        " \n",
        " * section, key, value 값의 형태로 설정된 설정 파일 사용\n",
        "\n",
        " * 설정파일을 dict type으로 호출 후 사용"
      ],
      "metadata": {
        "id": "XtJgFeeIdJxI"
      }
    },
    {
      "cell_type": "code",
      "source": [
        "import configparser\n",
        "\n",
        "config = configparser.ConfigParser()\n",
        "config.sections()\n",
        "\n",
        "config.read(\"example.cfg\")\n",
        "config.sections()\n",
        "\n",
        "for key in config[\"SectionOne\"]:\n",
        "  value = config[\"SectionOne\"][key]\n",
        "  print(\"{0} : {1}\".format(key, value))\n",
        "\n",
        "print(config[\"SectionOne\"][\"status\"])\n",
        "print(config.sections())\n",
        "print(config[\"SectionThree\"])"
      ],
      "metadata": {
        "colab": {
          "base_uri": "https://localhost:8080/"
        },
        "id": "UnxpoE51dGa_",
        "outputId": "a7c83947-9b94-4258-8622-f5539a259007"
      },
      "execution_count": 67,
      "outputs": [
        {
          "output_type": "stream",
          "name": "stdout",
          "text": [
            "status : Single\n",
            "name : Derek\n",
            "value : Yes\n",
            "age : 30\n",
            "single : True\n",
            "Single\n",
            "['SectionOne', 'SectionTwo', 'SectionThree']\n",
            "<Section: SectionThree>\n"
          ]
        }
      ]
    },
    {
      "cell_type": "markdown",
      "source": [
        "## argparser\n",
        "\n",
        "* 콘솔 창에서 프로그램 실행 시 setting 정보를 저장함\n",
        "\n",
        "* command-line option이라고도 부름"
      ],
      "metadata": {
        "id": "aWlDiEKwfWZF"
      }
    },
    {
      "cell_type": "code",
      "source": [
        "import argparse\n",
        "\n",
        "parser = argparse.ArgumentParser(description = \"Sum two integers.\")\n",
        "\n",
        "parser.add_argument(\"-a\", \"--a_value\", dest = \"A_value\", help = \"A integers\", type = int)\n",
        "parser.add_argument(\"-b\", \"--b_value\", dest = \"B_value\", help = \"B integers\", type = int)\n",
        "\n",
        "args = parser.parse_args()\n",
        "\n",
        "print(args)\n",
        "print(args.a)\n",
        "print(args.b)\n",
        "print(args.a + args.b)"
      ],
      "metadata": {
        "colab": {
          "base_uri": "https://localhost:8080/",
          "height": 213
        },
        "id": "OYhhKnRoejuV",
        "outputId": "a5ce3677-cf5a-49ad-8f4a-95e6da20bf69"
      },
      "execution_count": 72,
      "outputs": [
        {
          "output_type": "stream",
          "name": "stderr",
          "text": [
            "usage: ipykernel_launcher.py [-h] [-a A_VALUE] [-b B_VALUE]\n",
            "ipykernel_launcher.py: error: unrecognized arguments: -f /root/.local/share/jupyter/runtime/kernel-37603932-bf10-4d59-b574-e1a0dadb4dba.json\n"
          ]
        },
        {
          "output_type": "error",
          "ename": "SystemExit",
          "evalue": "ignored",
          "traceback": [
            "An exception has occurred, use %tb to see the full traceback.\n",
            "\u001b[0;31mSystemExit\u001b[0m\u001b[0;31m:\u001b[0m 2\n"
          ]
        },
        {
          "output_type": "stream",
          "name": "stderr",
          "text": [
            "/usr/local/lib/python3.8/dist-packages/IPython/core/interactiveshell.py:3334: UserWarning: To exit: use 'exit', 'quit', or Ctrl-D.\n",
            "  warn(\"To exit: use 'exit', 'quit', or Ctrl-D.\", stacklevel=1)\n"
          ]
        }
      ]
    }
  ]
}