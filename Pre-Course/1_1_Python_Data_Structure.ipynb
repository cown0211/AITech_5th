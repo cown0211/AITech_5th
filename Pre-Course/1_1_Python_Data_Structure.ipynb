{
  "nbformat": 4,
  "nbformat_minor": 0,
  "metadata": {
    "colab": {
      "provenance": [],
      "authorship_tag": "ABX9TyMTRR/cHb0NPzfaz70t1wMW",
      "include_colab_link": true
    },
    "kernelspec": {
      "name": "python3",
      "display_name": "Python 3"
    },
    "language_info": {
      "name": "python"
    }
  },
  "cells": [
    {
      "cell_type": "markdown",
      "metadata": {
        "id": "view-in-github",
        "colab_type": "text"
      },
      "source": [
        "<a href=\"https://colab.research.google.com/github/cown0211/AITech_5th/blob/main/Pre-Course/1_1_Python_Data_Structure.ipynb\" target=\"_parent\"><img src=\"https://colab.research.google.com/assets/colab-badge.svg\" alt=\"Open In Colab\"/></a>"
      ]
    },
    {
      "cell_type": "markdown",
      "source": [
        "# Stack\n",
        "* 나중에 넣은 데이터를 먼저 반환\n",
        "* Last In First Out (LIFO)\n",
        "* 입력은 push, 출력은 pop"
      ],
      "metadata": {
        "id": "DCWRS9Pbh-K4"
      }
    },
    {
      "cell_type": "code",
      "execution_count": 6,
      "metadata": {
        "id": "t-o3VUdOe5L-",
        "outputId": "9e18b0ed-577a-42a7-ba0b-8f89b71c587f",
        "colab": {
          "base_uri": "https://localhost:8080/"
        }
      },
      "outputs": [
        {
          "output_type": "stream",
          "name": "stdout",
          "text": [
            "[1, 2, 3, 4, 5, 10, 20]\n",
            "20\n",
            "[1, 2, 3, 4, 5, 10]\n",
            "10\n"
          ]
        }
      ],
      "source": [
        "# 리스트를 사용하여 스택 구조 구현\n",
        "# push는 append, pop은 pop\n",
        "\n",
        "a = [1,2,3,4,5]\n",
        "a.append(10)    # a 리스트 맨 뒤에 10 push\n",
        "a.append(20)    # a 리스트 맨 뒤에 20 push\n",
        "\n",
        "print(a)\n",
        "print(a.pop())  # a 리스트 맨 뒤인 20을 pop\n",
        "\n",
        "print(a)\n",
        "print(a.pop())  # a 리스트 맨 뒤인 10을 pop"
      ]
    },
    {
      "cell_type": "code",
      "source": [
        "# pop 함수는 리턴을 하면서 데이터를 변환함\n",
        "\n",
        "c = a.pop()  # a 리스트를 pop 한 걸 c에 저장\n",
        "\n",
        "print(a)    # a에 대고 pop \n",
        "print(c)"
      ],
      "metadata": {
        "id": "ZTTuBhxve8pM",
        "outputId": "63a51bed-1f6a-409b-8a3c-0e01fb2b7199",
        "colab": {
          "base_uri": "https://localhost:8080/"
        }
      },
      "execution_count": 7,
      "outputs": [
        {
          "output_type": "stream",
          "name": "stdout",
          "text": [
            "[1, 2, 3, 4]\n",
            "5\n"
          ]
        }
      ]
    }
  ]
}