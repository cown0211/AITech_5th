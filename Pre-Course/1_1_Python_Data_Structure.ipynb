{
  "nbformat": 4,
  "nbformat_minor": 0,
  "metadata": {
    "colab": {
      "provenance": [],
      "mount_file_id": "https://github.com/cown0211/AITech_5th/blob/main/Pre-Course/1_1_Python_Data_Structure.ipynb",
      "authorship_tag": "ABX9TyORUa3VCSBHy9wJcSCC9qeg",
      "include_colab_link": true
    },
    "kernelspec": {
      "name": "python3",
      "display_name": "Python 3"
    },
    "language_info": {
      "name": "python"
    }
  },
  "cells": [
    {
      "cell_type": "markdown",
      "metadata": {
        "id": "view-in-github",
        "colab_type": "text"
      },
      "source": [
        "<a href=\"https://colab.research.google.com/github/cown0211/AITech_5th/blob/main/Pre-Course/1_1_Python_Data_Structure.ipynb\" target=\"_parent\"><img src=\"https://colab.research.google.com/assets/colab-badge.svg\" alt=\"Open In Colab\"/></a>"
      ]
    },
    {
      "cell_type": "markdown",
      "source": [
        "# Stack\n",
        "\n",
        "* 나중에 넣은 데이터를 먼저 반환\n",
        "* Last In First Out (LIFO)\n",
        "* 입력은 push, 출력은 pop"
      ],
      "metadata": {
        "id": "DCWRS9Pbh-K4"
      }
    },
    {
      "cell_type": "code",
      "execution_count": 26,
      "metadata": {
        "id": "t-o3VUdOe5L-",
        "outputId": "9afcc78d-875a-4484-f893-54474f20e9bf",
        "colab": {
          "base_uri": "https://localhost:8080/"
        }
      },
      "outputs": [
        {
          "output_type": "stream",
          "name": "stdout",
          "text": [
            "[1, 2, 3, 4, 5, 10, 20]\n",
            "20\n",
            "[1, 2, 3, 4, 5, 10]\n",
            "10\n"
          ]
        }
      ],
      "source": [
        "# 리스트를 사용하여 스택 구조 구현\n",
        "# push는 append, pop은 pop\n",
        "\n",
        "a = [1,2,3,4,5]\n",
        "a.append(10)    # a 리스트 맨 뒤에 10 push\n",
        "a.append(20)    # a 리스트 맨 뒤에 20 push\n",
        "\n",
        "print(a)\n",
        "print(a.pop())  # a 리스트 맨 뒤인 20을 pop\n",
        "\n",
        "print(a)\n",
        "print(a.pop())  # a 리스트 맨 뒤인 10을 pop"
      ]
    },
    {
      "cell_type": "code",
      "source": [
        "# pop 함수는 리턴을 하면서 데이터를 변환함\n",
        "\n",
        "c = a.pop()  # a 리스트를 pop 한 걸 c에 저장\n",
        "\n",
        "print(a)\n",
        "print(c)"
      ],
      "metadata": {
        "id": "ZTTuBhxve8pM",
        "outputId": "2d62e0c4-9057-4d38-d5dd-f0552134602c",
        "colab": {
          "base_uri": "https://localhost:8080/"
        }
      },
      "execution_count": 27,
      "outputs": [
        {
          "output_type": "stream",
          "name": "stdout",
          "text": [
            "[1, 2, 3, 4]\n",
            "5\n"
          ]
        }
      ]
    },
    {
      "cell_type": "code",
      "source": [
        "# stack 예제\n",
        "# 입력된 글자를 역순으로 출력\n",
        "\n",
        "word = input(\"input a word : \")  # 문자열 입력\n",
        "word_list = list(word)           # 문자열을 리스트화 -> stack화\n",
        "\n",
        "# 역순으로 출력\n",
        "for _ in range(len(word_list)):\n",
        "  print(word_list.pop())\n",
        "  print(word_list)\n",
        "  print(\"\\n\")"
      ],
      "metadata": {
        "id": "om5zUih7eK6F",
        "outputId": "437f4845-1843-4235-f140-a91019be43b4",
        "colab": {
          "base_uri": "https://localhost:8080/"
        }
      },
      "execution_count": 29,
      "outputs": [
        {
          "output_type": "stream",
          "name": "stdout",
          "text": [
            "input a word : hello world\n",
            "d\n",
            "['h', 'e', 'l', 'l', 'o', ' ', 'w', 'o', 'r', 'l']\n",
            "\n",
            "\n",
            "l\n",
            "['h', 'e', 'l', 'l', 'o', ' ', 'w', 'o', 'r']\n",
            "\n",
            "\n",
            "r\n",
            "['h', 'e', 'l', 'l', 'o', ' ', 'w', 'o']\n",
            "\n",
            "\n",
            "o\n",
            "['h', 'e', 'l', 'l', 'o', ' ', 'w']\n",
            "\n",
            "\n",
            "w\n",
            "['h', 'e', 'l', 'l', 'o', ' ']\n",
            "\n",
            "\n",
            " \n",
            "['h', 'e', 'l', 'l', 'o']\n",
            "\n",
            "\n",
            "o\n",
            "['h', 'e', 'l', 'l']\n",
            "\n",
            "\n",
            "l\n",
            "['h', 'e', 'l']\n",
            "\n",
            "\n",
            "l\n",
            "['h', 'e']\n",
            "\n",
            "\n",
            "e\n",
            "['h']\n",
            "\n",
            "\n",
            "h\n",
            "[]\n",
            "\n",
            "\n"
          ]
        }
      ]
    },
    {
      "cell_type": "markdown",
      "source": [
        "# Queue\n",
        "\n",
        "* 먼저 넣은 데이터를 먼저 반환\n",
        "* First In First Out (FIFO)\n",
        "* Stack과 반대"
      ],
      "metadata": {
        "id": "l9SfPQ6medcf"
      }
    },
    {
      "cell_type": "code",
      "source": [
        "# 리스트로 queue 구현\n",
        "# put을 append(), get을 pop(0)\n",
        "\n",
        "a = [1,2,3,4,5]  # a라는 queue 정의\n",
        "a.append(10)     # 10을 put\n",
        "a.append(20)     # 20을 put\n",
        "print(a)"
      ],
      "metadata": {
        "id": "pUiYWqQQfMRv",
        "outputId": "f7a6bc60-e17a-4e77-ffb3-c8e76f496b49",
        "colab": {
          "base_uri": "https://localhost:8080/"
        }
      },
      "execution_count": 30,
      "outputs": [
        {
          "output_type": "stream",
          "name": "stdout",
          "text": [
            "[1, 2, 3, 4, 5, 10, 20]\n"
          ]
        }
      ]
    },
    {
      "cell_type": "code",
      "source": [
        "print(a.pop(0))  # a라는 queue의 맨 앞 값을 반환\n",
        "print(a)         # 1 제외된 것을 확인\n",
        "\n",
        "print(a.pop(0))\n",
        "print(a)"
      ],
      "metadata": {
        "id": "YsCatizignkg",
        "outputId": "b16cbb0b-e73b-4a9b-b127-69b2d04ce94e",
        "colab": {
          "base_uri": "https://localhost:8080/"
        }
      },
      "execution_count": 32,
      "outputs": [
        {
          "output_type": "stream",
          "name": "stdout",
          "text": [
            "2\n",
            "[3, 4, 5, 10, 20]\n",
            "3\n",
            "[4, 5, 10, 20]\n"
          ]
        }
      ]
    },
    {
      "cell_type": "markdown",
      "source": [
        "# Tuple\n",
        "\n",
        "* 리스트와 비슷하나 값의 변경이 불가\n",
        "* 대괄호[]가 아닌 소괄호()로 선언\n",
        "* 리스트 연산은 가능\n",
        "* 왜 쓸까?\n",
        " * 프로그램 동작 중 변경돼선 안되는 데이터 저장 ex) 학번, 우편번호 등등...\n",
        " * 함수의 반환값 등 사용자 실수에 의한 에러 방지"
      ],
      "metadata": {
        "id": "vIq7hoZliHyn"
      }
    },
    {
      "cell_type": "code",
      "source": [
        "t = (1,2,3)  # 소괄호()로 선언\n",
        "print(t)\n",
        "print(type(t))"
      ],
      "metadata": {
        "id": "gCT5LEGOgwHK",
        "outputId": "52181a43-fc2b-4cdf-c620-d1ecf4c05f15",
        "colab": {
          "base_uri": "https://localhost:8080/"
        }
      },
      "execution_count": 40,
      "outputs": [
        {
          "output_type": "stream",
          "name": "stdout",
          "text": [
            "(1, 2, 3)\n",
            "<class 'tuple'>\n"
          ]
        }
      ]
    },
    {
      "cell_type": "code",
      "source": [
        "print(t + t)\n",
        "print(t * 3)\n",
        "print(len(t))\n",
        "# 리스트 연산 기능은 모두 가능"
      ],
      "metadata": {
        "id": "fPalAgE0ik6_",
        "outputId": "b13e487e-47ea-49fa-c32f-eff5d61dc321",
        "colab": {
          "base_uri": "https://localhost:8080/"
        }
      },
      "execution_count": 38,
      "outputs": [
        {
          "output_type": "stream",
          "name": "stdout",
          "text": [
            "(1, 2, 3, 1, 2, 3)\n",
            "(1, 2, 3, 1, 2, 3, 1, 2, 3)\n",
            "3\n"
          ]
        }
      ]
    },
    {
      "cell_type": "code",
      "source": [
        "t[0] = 1\n",
        "# 튜플 내의 값 변경은 불가"
      ],
      "metadata": {
        "id": "WZr2knloiuFh",
        "outputId": "8dab9832-485f-49b1-cd22-e6a6448ea05b",
        "colab": {
          "base_uri": "https://localhost:8080/",
          "height": 174
        }
      },
      "execution_count": 39,
      "outputs": [
        {
          "output_type": "error",
          "ename": "TypeError",
          "evalue": "ignored",
          "traceback": [
            "\u001b[0;31m---------------------------------------------------------------------------\u001b[0m",
            "\u001b[0;31mTypeError\u001b[0m                                 Traceback (most recent call last)",
            "\u001b[0;32m<ipython-input-39-c8aeb8cd20ae>\u001b[0m in \u001b[0;36m<module>\u001b[0;34m\u001b[0m\n\u001b[0;32m----> 1\u001b[0;31m \u001b[0mt\u001b[0m\u001b[0;34m[\u001b[0m\u001b[0;36m0\u001b[0m\u001b[0;34m]\u001b[0m \u001b[0;34m=\u001b[0m \u001b[0;36m1\u001b[0m\u001b[0;34m\u001b[0m\u001b[0;34m\u001b[0m\u001b[0m\n\u001b[0m",
            "\u001b[0;31mTypeError\u001b[0m: 'tuple' object does not support item assignment"
          ]
        }
      ]
    },
    {
      "cell_type": "code",
      "source": [
        "t = (1)\n",
        "print(type(t)) # int\n",
        "\n",
        "t = (1,)\n",
        "print(type(t)) # 튜플\n",
        "\n",
        "# 길이 1짜리 선언 시에는 ,를 넣어줘야 함"
      ],
      "metadata": {
        "id": "I-f4woJ8i9-Z",
        "outputId": "3ec7fbd2-60b2-451e-baf7-36bbc0d8e274",
        "colab": {
          "base_uri": "https://localhost:8080/"
        }
      },
      "execution_count": 41,
      "outputs": [
        {
          "output_type": "stream",
          "name": "stdout",
          "text": [
            "<class 'int'>\n",
            "<class 'tuple'>\n"
          ]
        }
      ]
    },
    {
      "cell_type": "markdown",
      "source": [
        "# Set\n",
        "\n",
        "* 값을 순서 없이 저장, 중복 불허\n",
        "* set() 객체 선언을 이용하여 생성 or 중괄호{}로 선언\n",
        "* 다이어그램 연산에 활용"
      ],
      "metadata": {
        "id": "e32WffX7jnOg"
      }
    },
    {
      "cell_type": "code",
      "source": [
        "s = set([1,2,3,4,2,3,1]) # 중복되는 여러 수를 set()으로 정의\n",
        "s\n",
        "# 중복되는 숫자는 모두 제외됨\n",
        "# set() 메서드 안에는 리스트[]로 숫자를 넣어줘야 함"
      ],
      "metadata": {
        "id": "dfRncgqLjtXV",
        "outputId": "44fef0cf-a5b6-46f7-8b2f-58baf655ae17",
        "colab": {
          "base_uri": "https://localhost:8080/"
        }
      },
      "execution_count": 61,
      "outputs": [
        {
          "output_type": "execute_result",
          "data": {
            "text/plain": [
              "{1, 2, 3, 4}"
            ]
          },
          "metadata": {},
          "execution_count": 61
        }
      ]
    },
    {
      "cell_type": "code",
      "source": [
        "s = {1,2,52,5,3,1,2,3}  # 중괄호{}로 선언\n",
        "s\n",
        "# 중괄호{} 선언 시에는 리스트x"
      ],
      "metadata": {
        "id": "K3NrwlPxkLVf",
        "outputId": "460716e3-e7fa-4fec-8d6d-e0c91137f2b7",
        "colab": {
          "base_uri": "https://localhost:8080/"
        }
      },
      "execution_count": 62,
      "outputs": [
        {
          "output_type": "execute_result",
          "data": {
            "text/plain": [
              "{1, 2, 3, 5, 52}"
            ]
          },
          "metadata": {},
          "execution_count": 62
        }
      ]
    },
    {
      "cell_type": "code",
      "source": [
        "s.add(1)\n",
        "s\n",
        "# .add()로 값추가 가능\n",
        "# 1은 이미 존재하므로 중복 반영x\n",
        "\n",
        "s.add(78)\n",
        "s\n",
        "# 78은 존재x -> 반영"
      ],
      "metadata": {
        "id": "ISe5U5LEkfKR",
        "outputId": "123f8203-70c4-4f3a-a80c-b24c60ed3c4d",
        "colab": {
          "base_uri": "https://localhost:8080/"
        }
      },
      "execution_count": 63,
      "outputs": [
        {
          "output_type": "execute_result",
          "data": {
            "text/plain": [
              "{1, 2, 3, 5, 52, 78}"
            ]
          },
          "metadata": {},
          "execution_count": 63
        }
      ]
    },
    {
      "cell_type": "code",
      "source": [
        "s.remove(3)\n",
        "s\n",
        "# remove() 메서드로 값 삭제"
      ],
      "metadata": {
        "id": "ZgOExN6vk5ot",
        "outputId": "d89c10c8-0258-4b5b-afda-f3fb94e8171f",
        "colab": {
          "base_uri": "https://localhost:8080/"
        }
      },
      "execution_count": 64,
      "outputs": [
        {
          "output_type": "execute_result",
          "data": {
            "text/plain": [
              "{1, 2, 5, 52, 78}"
            ]
          },
          "metadata": {},
          "execution_count": 64
        }
      ]
    },
    {
      "cell_type": "code",
      "source": [
        "s.update([4,2,5,3,1,7])\n",
        "s\n",
        "# update() 메서드로 여러개 값 입력"
      ],
      "metadata": {
        "id": "3FPaLb0FlAhf",
        "outputId": "23d3704c-9ae9-48e0-d676-ca90da4ba11e",
        "colab": {
          "base_uri": "https://localhost:8080/"
        }
      },
      "execution_count": 65,
      "outputs": [
        {
          "output_type": "execute_result",
          "data": {
            "text/plain": [
              "{1, 2, 3, 4, 5, 7, 52, 78}"
            ]
          },
          "metadata": {},
          "execution_count": 65
        }
      ]
    },
    {
      "cell_type": "code",
      "source": [
        "s.discard(52)\n",
        "s\n",
        "# discard() 메서드로 해당값만 삭제"
      ],
      "metadata": {
        "id": "PdLDHzbNlaXe",
        "outputId": "ea42f534-fa20-4a6f-b1c2-7038fc90b725",
        "colab": {
          "base_uri": "https://localhost:8080/"
        }
      },
      "execution_count": 66,
      "outputs": [
        {
          "output_type": "execute_result",
          "data": {
            "text/plain": [
              "{1, 2, 3, 4, 5, 7, 78}"
            ]
          },
          "metadata": {},
          "execution_count": 66
        }
      ]
    },
    {
      "cell_type": "code",
      "source": [
        "s.clear()\n",
        "s\n",
        "# clear() 메서드로 값 전체 삭제"
      ],
      "metadata": {
        "id": "J7n44hJKlpiv",
        "outputId": "a381d0e3-a7bb-4811-af51-3eaaf74bf887",
        "colab": {
          "base_uri": "https://localhost:8080/"
        }
      },
      "execution_count": 67,
      "outputs": [
        {
          "output_type": "execute_result",
          "data": {
            "text/plain": [
              "set()"
            ]
          },
          "metadata": {},
          "execution_count": 67
        }
      ]
    },
    {
      "cell_type": "code",
      "source": [
        "# 집합연산\n",
        "\n",
        "s1 = set([1,2,3,4,5])\n",
        "s2 = set([3,4,5,6,7])\n",
        "\n",
        "# 합집합\n",
        "print(s1.union(s2))\n",
        "print(s1 | s2)\n",
        "\n",
        "# 교집합\n",
        "print(s1.intersection(s2))\n",
        "print(s1 & s2)\n",
        "\n",
        "# 차집합\n",
        "print(s1.difference(s2))\n",
        "print(s1 - s2)"
      ],
      "metadata": {
        "id": "LktwGI3Xlz9b",
        "outputId": "6ea114ba-37f8-42ae-abc7-d83198f02531",
        "colab": {
          "base_uri": "https://localhost:8080/"
        }
      },
      "execution_count": 68,
      "outputs": [
        {
          "output_type": "stream",
          "name": "stdout",
          "text": [
            "{1, 2, 3, 4, 5, 6, 7}\n",
            "{1, 2, 3, 4, 5, 6, 7}\n",
            "{3, 4, 5}\n",
            "{3, 4, 5}\n",
            "{1, 2}\n",
            "{1, 2}\n"
          ]
        }
      ]
    },
    {
      "cell_type": "markdown",
      "source": [
        "# Dict\n",
        "\n",
        "* 데이터 저장 시 키 값을 같이 저장\n",
        "* 키 값을 활용하여 데이터 값(value)을 관리\n",
        "* key와 value를 매칭, key로 value를 검색\n",
        "* {key1: value1, key2: value2, ...} 형태"
      ],
      "metadata": {
        "id": "fcUTCTFamqmT"
      }
    },
    {
      "cell_type": "code",
      "source": [
        "country_code = {}     # Dict 생성법1\n",
        "country_code = dict() # Dict 생성법2\n",
        "\n",
        "country_code = {\"America\":1, \"Korea\":82, \"China\":86, \"Japan\":81}\n",
        "country_code"
      ],
      "metadata": {
        "id": "yj62v4WRo-Nj",
        "outputId": "f9349161-0499-4fe4-da17-15a87a5bac1e",
        "colab": {
          "base_uri": "https://localhost:8080/"
        }
      },
      "execution_count": 78,
      "outputs": [
        {
          "output_type": "execute_result",
          "data": {
            "text/plain": [
              "{'America': 1, 'Korea': 82, 'China': 86, 'Japan': 81}"
            ]
          },
          "metadata": {},
          "execution_count": 78
        }
      ]
    },
    {
      "cell_type": "code",
      "source": [
        "print(country_code.items())\n",
        "# items() 메서드로 key,value 쌍을 출력\n",
        "# dict_items([]) 형태로 출력"
      ],
      "metadata": {
        "id": "XPY5N_zAtfal",
        "outputId": "3e7f7cc0-0561-4e86-8dd6-014661563f6f",
        "colab": {
          "base_uri": "https://localhost:8080/"
        }
      },
      "execution_count": 96,
      "outputs": [
        {
          "output_type": "stream",
          "name": "stdout",
          "text": [
            "dict_items([('America', 1), ('Korea', 82), ('China', 86), ('Japan', 81), ('German', 55)])\n"
          ]
        }
      ]
    },
    {
      "cell_type": "code",
      "source": [
        "# for문과 활용하여 출력하기도 함\n",
        "for dict_items in country_code.items():\n",
        "  print(dict_items)\n",
        "  print(type(dict_items)) # key,value 쌍이 튜플 형태라 수정불가"
      ],
      "metadata": {
        "id": "8R_2u4TJptuw",
        "outputId": "e3f2a284-a8f4-4fc6-9792-4760ac43de8b",
        "colab": {
          "base_uri": "https://localhost:8080/"
        }
      },
      "execution_count": 97,
      "outputs": [
        {
          "output_type": "stream",
          "name": "stdout",
          "text": [
            "('America', 1)\n",
            "<class 'tuple'>\n",
            "('Korea', 82)\n",
            "<class 'tuple'>\n",
            "('China', 86)\n",
            "<class 'tuple'>\n",
            "('Japan', 81)\n",
            "<class 'tuple'>\n",
            "('German', 55)\n",
            "<class 'tuple'>\n"
          ]
        }
      ]
    },
    {
      "cell_type": "code",
      "source": [
        "country_code.keys()\n",
        "# key 값만 출력"
      ],
      "metadata": {
        "id": "z3NI52BOqyzd",
        "outputId": "810e8f8e-61ca-4748-9b47-129a4e11e182",
        "colab": {
          "base_uri": "https://localhost:8080/"
        }
      },
      "execution_count": 86,
      "outputs": [
        {
          "output_type": "execute_result",
          "data": {
            "text/plain": [
              "dict_keys(['America', 'Korea', 'China', 'Japan'])"
            ]
          },
          "metadata": {},
          "execution_count": 86
        }
      ]
    },
    {
      "cell_type": "code",
      "source": [
        "country_code.values()\n",
        "# value 값만 출력"
      ],
      "metadata": {
        "id": "UF9sOaPzsiPj",
        "outputId": "7a367d90-cc03-4a40-d4ed-61aaac8bf54e",
        "colab": {
          "base_uri": "https://localhost:8080/"
        }
      },
      "execution_count": 87,
      "outputs": [
        {
          "output_type": "execute_result",
          "data": {
            "text/plain": [
              "dict_values([1, 82, 86, 81])"
            ]
          },
          "metadata": {},
          "execution_count": 87
        }
      ]
    },
    {
      "cell_type": "code",
      "source": [
        "country_code[\"German\"] = 49\n",
        "country_code\n",
        "# 새로운 값 입력"
      ],
      "metadata": {
        "id": "iyM1cbxhslWG",
        "outputId": "425f7d5f-27e4-46a5-de9b-7c87fd2a790c",
        "colab": {
          "base_uri": "https://localhost:8080/"
        }
      },
      "execution_count": 89,
      "outputs": [
        {
          "output_type": "execute_result",
          "data": {
            "text/plain": [
              "{'America': 1, 'Korea': 82, 'China': 86, 'Japan': 81, 'German': 49}"
            ]
          },
          "metadata": {},
          "execution_count": 89
        }
      ]
    },
    {
      "cell_type": "code",
      "source": [
        "country_code[\"German\"] = 55\n",
        "country_code\n",
        "# 기존 값 수정"
      ],
      "metadata": {
        "id": "QiudMj4nswOb",
        "outputId": "d1b7ac7a-6886-4f64-b64e-4dcd6ef66cff",
        "colab": {
          "base_uri": "https://localhost:8080/"
        }
      },
      "execution_count": 90,
      "outputs": [
        {
          "output_type": "execute_result",
          "data": {
            "text/plain": [
              "{'America': 1, 'Korea': 82, 'China': 86, 'Japan': 81, 'German': 55}"
            ]
          },
          "metadata": {},
          "execution_count": 90
        }
      ]
    },
    {
      "cell_type": "code",
      "source": [
        "for k,v in country_code.items():\n",
        "  print(\"Key: \", k)\n",
        "  print(\"Value: \", v)\n",
        "\n",
        "# items() 메서드의 결과가 key,value 튜플 쌍으로 반환되기 때문에\n",
        "# for문을 이용해 k,v에 할당"
      ],
      "metadata": {
        "id": "JffyE9G7s1E3",
        "outputId": "365796db-31bf-48c0-987c-59a808642245",
        "colab": {
          "base_uri": "https://localhost:8080/"
        }
      },
      "execution_count": 93,
      "outputs": [
        {
          "output_type": "stream",
          "name": "stdout",
          "text": [
            "Key:  America\n",
            "Value:  1\n",
            "Key:  Korea\n",
            "Value:  82\n",
            "Key:  China\n",
            "Value:  86\n",
            "Key:  Japan\n",
            "Value:  81\n",
            "Key:  German\n",
            "Value:  55\n"
          ]
        }
      ]
    },
    {
      "cell_type": "code",
      "source": [
        "\"Korea\" in country_code.keys()\n",
        "# 특정 값이 key 값으로 지정돼있는지 확인"
      ],
      "metadata": {
        "id": "PIGfs2nbtQj3",
        "outputId": "a368378e-70ec-422a-d666-920bfe977204",
        "colab": {
          "base_uri": "https://localhost:8080/"
        }
      },
      "execution_count": 94,
      "outputs": [
        {
          "output_type": "execute_result",
          "data": {
            "text/plain": [
              "True"
            ]
          },
          "metadata": {},
          "execution_count": 94
        }
      ]
    },
    {
      "cell_type": "code",
      "source": [
        "82 in country_code.values()\n",
        "# 특정 값이 value 값으로 지정돼있는지 확인"
      ],
      "metadata": {
        "id": "KOMogZ8dtXKo",
        "outputId": "c284c98e-31c2-4b6f-9f94-d0fac9793546",
        "colab": {
          "base_uri": "https://localhost:8080/"
        }
      },
      "execution_count": 95,
      "outputs": [
        {
          "output_type": "execute_result",
          "data": {
            "text/plain": [
              "True"
            ]
          },
          "metadata": {},
          "execution_count": 95
        }
      ]
    },
    {
      "cell_type": "markdown",
      "source": [
        "# Lab - Dict\n",
        "\n",
        "* data source: https://bit.ly/3nR3qFa\n",
        " * 어떤 id가 어떤 command를 입력했는지"
      ],
      "metadata": {
        "id": "B5oMHuVztl4G"
      }
    },
    {
      "cell_type": "code",
      "source": [
        "### Command Analyzer ###\n",
        "\n",
        "\n",
        "import csv\n",
        "\n",
        "\n",
        "def getKey(item): # 정렬을 위한 함수\n",
        "  return item[1]  # 신경 쓸 필요 없음\n",
        "\n",
        "\n",
        "# 파일 읽어오기\n",
        "command_data = []\n",
        "with open(\"command_data.csv\", \"r\") as csvfile:\n",
        "  spamreader = csv.reader(csvfile, delimiter=',', quotechar='\"')\n",
        "  for row in spamreader:\n",
        "    command_data.append(row)\n",
        "\n",
        "\n",
        "command_counter = {}              # dict 생성, 아이디를 key값, 입력줄수를 value값\n",
        "for data in command_data:         # list 데이터를 dict로 변경\n",
        "  if data[1] in command_counter.keys(): # 아이디가 이미 Key값으로 변경되었을 때\n",
        "    command_counter[data[1]] += 1 # 기존 출현한 아이디\n",
        "  else:\n",
        "    command_counter[data[1]] = 1  # 처음 나온 아이디\n",
        "\n",
        "\n",
        "# dict를 list로 변경\n",
        "dictlist = []\n",
        "for key, value in command_counter.items():\n",
        "  temp = [key,value]\n",
        "  dictlist.append(temp)\n",
        "\n",
        "\n",
        "sorted_dict = sorted(dictlist, key=getKey, reverse=True) # list를 입력 줄 수로 정렬\n",
        "print (sorted_dict[:100]) # List의 상위 10개 값만 출력"
      ],
      "metadata": {
        "id": "zSbVQpiTvZ3L",
        "outputId": "785c3ad9-0053-4629-d4ae-a35204f99f43",
        "colab": {
          "base_uri": "https://localhost:8080/"
        }
      },
      "execution_count": 1,
      "outputs": [
        {
          "output_type": "stream",
          "name": "stdout",
          "text": [
            "[['bookworm', 8500], ['elsa', 7500], ['fillmore', 7394], ['francis', 5978], ['anton_ego', 5819], ['queen_grimhilde', 5000], ['kristoff', 4934], ['brent_mustangburger', 4838], ['emperor_zurg', 4470], ['tarzan', 4193], ['stitch', 3742], ['marlon_the_alligator', 3203], ['faline', 3115], ['meg', 3098], ['fear', 2968], ['roo', 2782], ['claire_wheeler', 2777], ['don_carlton', 2773], ['guido', 2541], ['flynn_rider', 1996], ['mama_odie', 1883], ['darla_sherman', 1861], ['tiger_lily', 1846], ['chick_hicks', 1678], ['louis_the_alligator', 1374], ['the_dodo', 1364], ['ray_the_firefly', 998], ['tigger', 884], ['jane_porter', 852], ['al_mcwhiggin', 777], ['tinker_bell', 696], ['peter_pig', 500], ['rocket_raccoon', 473], ['charlotte_la_bouff', 472], ['peter_pan', 463], ['auto', 458], ['kocoum', 438], ['prince_naveen', 425], ['flik', 424], ['dory', 410], ['bo_peep', 407], ['captain_hook', 403], ['aladdin', 402], ['chatter_telephone', 372], ['django', 371], ['charlie', 363], ['bomb_voyage', 337], ['riley_anderson', 330], ['flo', 324], ['finn_mcmissile', 319], ['nani_pelekai', 319], ['pocahontas', 312], ['chum', 311], ['bing_bong', 311], ['disgust', 305], ['anna', 304], ['boo', 304], ['fa_zhou', 299], ['francesco_bernoulli', 292], ['bambi', 275], ['prince_hans', 275], ['aurora', 267], ['duke_of_weselton', 264], ['bumblebee', 260], ['joy', 258], ['dolly', 254], ['flora', 247], ['fred', 244], ['brock_pearson', 242], ['dim', 240], ['eve', 239], ['white_rabbit', 237], ['mungo', 237], ['crush', 231], ['pascal', 224], ['carrie_williams', 223], ['rapunzel', 219], ['merryweather', 219], ['wendy_darling', 218], ['roger_rabbit', 211], ['collette_tatou', 206], ['cheshire_cat', 200], ['eudora', 191], ['lilo_pelekai', 190], ['mulan', 188], ['coral', 186], ['maximus', 172], ['emile', 168], ['tiana', 167], ['auguste_gusteau', 153], ['darrell_cartrip', 146], ['sadness', 133], ['nakoma', 133], ['chunk', 126], ['alice', 123], ['the_magic_mirror', 116], ['snow_white', 115], ['splunk_teamlab', 115], ['thor', 98], ['fritz', 94]]\n"
          ]
        }
      ]
    },
    {
      "cell_type": "markdown",
      "source": [
        "# Collections\n",
        "\n",
        "* List, Tuple, Dict의 확장구조\n",
        "* 기존의 구조보다 속도,효율 증가"
      ],
      "metadata": {
        "id": "9wOP7OeO0Kmy"
      }
    },
    {
      "cell_type": "code",
      "source": [
        "# 아래와 같은 모듈을 가짐\n",
        "\n",
        "from collections import deque\n",
        "from collections import Counter\n",
        "from collections import OrderedDict\n",
        "from collections import defaultdict\n",
        "from collections import namedtuple"
      ],
      "metadata": {
        "id": "URBNS4GW0Sls"
      },
      "execution_count": null,
      "outputs": []
    },
    {
      "cell_type": "markdown",
      "source": [
        "## deque\n",
        "\n",
        "* stack과 queue를 지원\n",
        "* rotate, reverse 등 Linked List의 특성 지원\n",
        "* 기존 List보다 속도가 더 빠름"
      ],
      "metadata": {
        "id": "z7J0U0Tk0mw3"
      }
    },
    {
      "cell_type": "code",
      "source": [
        "from collections import deque\n",
        "\n",
        "deque_list = deque() # deque 리스트 선언\n",
        "for i in range(5):\n",
        "  deque_list.append(i)\n",
        "print(deque_list)    # 0~4까지 입력\n",
        "\n",
        "# appendleft() 메서드로 선입 데이터로 처리 가능\n",
        "deque_list.appendleft(10)\n",
        "print(deque_list)\n",
        "\n",
        "# append() 메서드로 후입 처리\n",
        "deque_list.append(24)\n",
        "print(deque_list)"
      ],
      "metadata": {
        "id": "kZtYaMWC05ed",
        "outputId": "939b0e62-53f8-4933-b07c-b24f8f18fe17",
        "colab": {
          "base_uri": "https://localhost:8080/"
        }
      },
      "execution_count": 12,
      "outputs": [
        {
          "output_type": "stream",
          "name": "stdout",
          "text": [
            "deque([0, 1, 2, 3, 4])\n",
            "deque([10, 0, 1, 2, 3, 4])\n",
            "deque([10, 0, 1, 2, 3, 4, 24])\n"
          ]
        }
      ]
    },
    {
      "cell_type": "code",
      "source": [
        "# rotate(n) 메서드를 사용해 데이터를 우측으로 n칸씩 미룸\n",
        "\n",
        "deque_list.rotate() # 24, 10, 0, ...\n",
        "print(deque_list)\n",
        "\n",
        "deque_list.rotate(1) # 4, 24, 10, ...\n",
        "print(deque_list)\n",
        "\n",
        "deque_list.rotate(-1) # 24, 10, 0, ...\n",
        "print(deque_list)"
      ],
      "metadata": {
        "id": "-W6evu8L1TRl",
        "outputId": "eb20b508-17c8-4a37-bda6-aaeecdb29114",
        "colab": {
          "base_uri": "https://localhost:8080/"
        }
      },
      "execution_count": 13,
      "outputs": [
        {
          "output_type": "stream",
          "name": "stdout",
          "text": [
            "deque([24, 10, 0, 1, 2, 3, 4])\n",
            "deque([4, 24, 10, 0, 1, 2, 3])\n",
            "deque([24, 10, 0, 1, 2, 3, 4])\n"
          ]
        }
      ]
    },
    {
      "cell_type": "code",
      "source": [
        "# 리스트에서 쓰이는 extend()도 그대로 활용 가능\n",
        "\n",
        "deque_list.extend([5,6,7])\n",
        "print(deque_list)\n",
        "\n",
        "deque_list.extendleft([5,6,7]) # 선입 처리하되 순서가 뒤집힘\n",
        "print(deque_list) # 7,6,5,기존deque 순서"
      ],
      "metadata": {
        "id": "1tCeH-gq2g84",
        "outputId": "909ccb75-ac0c-4f5e-cc16-0d8ce78c2633",
        "colab": {
          "base_uri": "https://localhost:8080/"
        }
      },
      "execution_count": 15,
      "outputs": [
        {
          "output_type": "stream",
          "name": "stdout",
          "text": [
            "deque([24, 10, 0, 1, 2, 3, 4, 5, 6, 7, 5, 6, 7])\n",
            "deque([7, 6, 5, 24, 10, 0, 1, 2, 3, 4, 5, 6, 7, 5, 6, 7])\n"
          ]
        }
      ]
    },
    {
      "cell_type": "markdown",
      "source": [
        "## OrderedDict\n",
        "\n",
        "* 예전 Dict는 순서를 보장 안해줬는데 그때 순서를 보장해주는 것\n",
        "* 요샌 Dict가 순서 보장해줘서 잘 안씀"
      ],
      "metadata": {
        "id": "g8XU9dsd3eql"
      }
    },
    {
      "cell_type": "markdown",
      "source": [
        "## defaultdict\n",
        "\n",
        "* Dict type의 값에 기본 값을 지정, 신규값 생성시 사용"
      ],
      "metadata": {
        "id": "qiR92H9A3zDO"
      }
    },
    {
      "cell_type": "code",
      "source": [
        "d = dict()\n",
        "print(d[\"first\"])\n",
        "\n",
        "# Dict 선언 후 키값을 안넣어주면 KeyError 발생"
      ],
      "metadata": {
        "id": "tCFQRwf_35VU",
        "outputId": "74356c5f-610a-4d15-b0bd-9cce4cdc1bfb",
        "colab": {
          "base_uri": "https://localhost:8080/",
          "height": 193
        }
      },
      "execution_count": 21,
      "outputs": [
        {
          "output_type": "error",
          "ename": "KeyError",
          "evalue": "ignored",
          "traceback": [
            "\u001b[0;31m---------------------------------------------------------------------------\u001b[0m",
            "\u001b[0;31mKeyError\u001b[0m                                  Traceback (most recent call last)",
            "\u001b[0;32m<ipython-input-21-3b4ee8f5b4c3>\u001b[0m in \u001b[0;36m<module>\u001b[0;34m\u001b[0m\n\u001b[1;32m      1\u001b[0m \u001b[0md\u001b[0m \u001b[0;34m=\u001b[0m \u001b[0mdict\u001b[0m\u001b[0;34m(\u001b[0m\u001b[0;34m)\u001b[0m\u001b[0;34m\u001b[0m\u001b[0;34m\u001b[0m\u001b[0m\n\u001b[0;32m----> 2\u001b[0;31m \u001b[0mprint\u001b[0m\u001b[0;34m(\u001b[0m\u001b[0md\u001b[0m\u001b[0;34m[\u001b[0m\u001b[0;34m\"first\"\u001b[0m\u001b[0;34m]\u001b[0m\u001b[0;34m)\u001b[0m\u001b[0;34m\u001b[0m\u001b[0;34m\u001b[0m\u001b[0m\n\u001b[0m",
            "\u001b[0;31mKeyError\u001b[0m: 'first'"
          ]
        }
      ]
    },
    {
      "cell_type": "code",
      "source": [
        "from collections import defaultdict\n",
        "\n",
        "# d라는 defaultdict를 선언하고 기본값을 0으로 설정\n",
        "d = defaultdict(lambda: 0)\n",
        "\n",
        "print(d)           # d라는 defaultdict는 비어있음\n",
        "print(d[\"first\"])  # 어떤 key를 넣어도 기본값인 0으로 반환\n",
        "print(d[\"second\"])"
      ],
      "metadata": {
        "id": "G1Ifl2wT429G",
        "outputId": "0e53815b-9d67-48a7-b6a6-c85ff812cd22",
        "colab": {
          "base_uri": "https://localhost:8080/"
        }
      },
      "execution_count": 34,
      "outputs": [
        {
          "output_type": "stream",
          "name": "stdout",
          "text": [
            "defaultdict(<function <lambda> at 0x7f5a6bae3e50>, {})\n",
            "0\n",
            "0\n"
          ]
        }
      ]
    },
    {
      "cell_type": "code",
      "source": [
        "# defaultdict 예제\n",
        "# 하나의 지문에 각 단어가 몇개나 있는지 세고 싶을 때\n",
        "# text-mining 접근법; Vector Space Model\n",
        "\n",
        "text = \"\"\"A press release is the quickest and easiest way to get free publicity. If \n",
        "well written, a press release can result in multiple published articles about your \n",
        "firm and its products. And that can mean new prospects contacting you asking you to \n",
        "sell to them. ….\"\"\".lower().split(); text"
      ],
      "metadata": {
        "id": "tbiZaBOZ5geb",
        "outputId": "e83dd2f7-f698-4e91-b75f-c3e7f7da139b",
        "colab": {
          "base_uri": "https://localhost:8080/"
        }
      },
      "execution_count": 32,
      "outputs": [
        {
          "output_type": "execute_result",
          "data": {
            "text/plain": [
              "['a',\n",
              " 'press',\n",
              " 'release',\n",
              " 'is',\n",
              " 'the',\n",
              " 'quickest',\n",
              " 'and',\n",
              " 'easiest',\n",
              " 'way',\n",
              " 'to',\n",
              " 'get',\n",
              " 'free',\n",
              " 'publicity.',\n",
              " 'if',\n",
              " 'well',\n",
              " 'written,',\n",
              " 'a',\n",
              " 'press',\n",
              " 'release',\n",
              " 'can',\n",
              " 'result',\n",
              " 'in',\n",
              " 'multiple',\n",
              " 'published',\n",
              " 'articles',\n",
              " 'about',\n",
              " 'your',\n",
              " 'firm',\n",
              " 'and',\n",
              " 'its',\n",
              " 'products.',\n",
              " 'and',\n",
              " 'that',\n",
              " 'can',\n",
              " 'mean',\n",
              " 'new',\n",
              " 'prospects',\n",
              " 'contacting',\n",
              " 'you',\n",
              " 'asking',\n",
              " 'you',\n",
              " 'to',\n",
              " 'sell',\n",
              " 'to',\n",
              " 'them.',\n",
              " '….']"
            ]
          },
          "metadata": {},
          "execution_count": 32
        }
      ]
    },
    {
      "cell_type": "code",
      "source": [
        "for word in text: # 각 텍스트를 \n",
        "  d[word] += 1    # 각 텍스트를 key로 설정하고 문장에서의 개수를 value\n",
        "d"
      ],
      "metadata": {
        "id": "RtAtNWM56C__",
        "outputId": "805f98cd-46eb-4582-ae11-7ab7eaa2a119",
        "colab": {
          "base_uri": "https://localhost:8080/"
        }
      },
      "execution_count": 35,
      "outputs": [
        {
          "output_type": "execute_result",
          "data": {
            "text/plain": [
              "defaultdict(<function __main__.<lambda>()>,\n",
              "            {'first': 0,\n",
              "             'second': 0,\n",
              "             'a': 2,\n",
              "             'press': 2,\n",
              "             'release': 2,\n",
              "             'is': 1,\n",
              "             'the': 1,\n",
              "             'quickest': 1,\n",
              "             'and': 3,\n",
              "             'easiest': 1,\n",
              "             'way': 1,\n",
              "             'to': 3,\n",
              "             'get': 1,\n",
              "             'free': 1,\n",
              "             'publicity.': 1,\n",
              "             'if': 1,\n",
              "             'well': 1,\n",
              "             'written,': 1,\n",
              "             'can': 2,\n",
              "             'result': 1,\n",
              "             'in': 1,\n",
              "             'multiple': 1,\n",
              "             'published': 1,\n",
              "             'articles': 1,\n",
              "             'about': 1,\n",
              "             'your': 1,\n",
              "             'firm': 1,\n",
              "             'its': 1,\n",
              "             'products.': 1,\n",
              "             'that': 1,\n",
              "             'mean': 1,\n",
              "             'new': 1,\n",
              "             'prospects': 1,\n",
              "             'contacting': 1,\n",
              "             'you': 2,\n",
              "             'asking': 1,\n",
              "             'sell': 1,\n",
              "             'them.': 1,\n",
              "             '….': 1})"
            ]
          },
          "metadata": {},
          "execution_count": 35
        }
      ]
    },
    {
      "cell_type": "code",
      "source": [
        "# 위의 결과를 개수 순으로 정렬\n",
        "\n",
        "from collections import OrderedDict\n",
        "\n",
        "word_count = defaultdict(lambda: 0) # Default 값을 0으로 설정\n",
        "\n",
        "# 이 반복문이 위의 반복문과 같음\n",
        "for word in text:\n",
        "  word_count[word] += 1\n",
        "\n",
        "# 이 반복문이 정렬\n",
        "for i, v in OrderedDict(sorted(word_count.items()\n",
        "                               , key=lambda t: t[1]\n",
        "                               , reverse=True)).items():\n",
        "  print(i, v)"
      ],
      "metadata": {
        "id": "APmE_nmQ6vyD",
        "outputId": "ec9abcd3-f4b2-47d9-8c0c-73e1c6178126",
        "colab": {
          "base_uri": "https://localhost:8080/"
        }
      },
      "execution_count": 38,
      "outputs": [
        {
          "output_type": "stream",
          "name": "stdout",
          "text": [
            "and 3\n",
            "to 3\n",
            "a 2\n",
            "press 2\n",
            "release 2\n",
            "can 2\n",
            "you 2\n",
            "is 1\n",
            "the 1\n",
            "quickest 1\n",
            "easiest 1\n",
            "way 1\n",
            "get 1\n",
            "free 1\n",
            "publicity. 1\n",
            "if 1\n",
            "well 1\n",
            "written, 1\n",
            "result 1\n",
            "in 1\n",
            "multiple 1\n",
            "published 1\n",
            "articles 1\n",
            "about 1\n",
            "your 1\n",
            "firm 1\n",
            "its 1\n",
            "products. 1\n",
            "that 1\n",
            "mean 1\n",
            "new 1\n",
            "prospects 1\n",
            "contacting 1\n",
            "asking 1\n",
            "sell 1\n",
            "them. 1\n",
            "…. 1\n"
          ]
        }
      ]
    },
    {
      "cell_type": "markdown",
      "source": [
        "## Counter\n",
        "\n",
        "* sequence type의 data element들의 개수를 dict 형태로 반환"
      ],
      "metadata": {
        "id": "SVHukZTV7cSo"
      }
    },
    {
      "cell_type": "code",
      "source": [
        "ball_strike_list = [\"B\", \"S\", \"S\", \"S\", \"S\", \"B\", \"B\"]"
      ],
      "metadata": {
        "id": "jmLupeHO738N"
      },
      "execution_count": 40,
      "outputs": []
    },
    {
      "cell_type": "code",
      "source": [
        "from collections import Counter\n",
        "\n",
        "c = Counter(ball_strike_list)\n",
        "print(c)\n",
        "\n",
        "# 각 값의 개수를 dict 형태로 반환"
      ],
      "metadata": {
        "id": "UdYmH4VM7gOU",
        "outputId": "7feeb41e-a2ec-49d0-8d80-9a4f8c63ddce",
        "colab": {
          "base_uri": "https://localhost:8080/"
        }
      },
      "execution_count": 41,
      "outputs": [
        {
          "output_type": "stream",
          "name": "stdout",
          "text": [
            "Counter({'S': 4, 'B': 3})\n"
          ]
        }
      ]
    },
    {
      "cell_type": "code",
      "source": [
        "c = Counter({\"red\":4, \"blue\":2})\n",
        "\n",
        "print(list(c.elements())) # dict 형태를 리스트로 풀어서 써주기도 함\n",
        "print(c)"
      ],
      "metadata": {
        "id": "cL6BdK2Q8bJo",
        "outputId": "af418f68-9aae-4d7e-fc98-3e288dcb49eb",
        "colab": {
          "base_uri": "https://localhost:8080/"
        }
      },
      "execution_count": 44,
      "outputs": [
        {
          "output_type": "stream",
          "name": "stdout",
          "text": [
            "['red', 'red', 'red', 'red', 'blue', 'blue']\n",
            "Counter({'red': 4, 'blue': 2})\n"
          ]
        }
      ]
    },
    {
      "cell_type": "code",
      "source": [
        "c = Counter(cats = 4, dogs = 8) # dict 형태로 안써도 선언 가능\n",
        "\n",
        "print(list(c.elements()))\n",
        "print(c)"
      ],
      "metadata": {
        "id": "EHI4A-2x8bRO",
        "outputId": "6eb5a0b2-7859-40a0-fedf-52868fb53803",
        "colab": {
          "base_uri": "https://localhost:8080/"
        }
      },
      "execution_count": 46,
      "outputs": [
        {
          "output_type": "stream",
          "name": "stdout",
          "text": [
            "['cats', 'cats', 'cats', 'cats', 'dogs', 'dogs', 'dogs', 'dogs', 'dogs', 'dogs', 'dogs', 'dogs']\n",
            "Counter({'dogs': 8, 'cats': 4})\n"
          ]
        }
      ]
    },
    {
      "cell_type": "code",
      "source": [
        "# set의 연산을 지원\n",
        "\n",
        "c = Counter(a=4, b=2, c=0, d=-2)\n",
        "d = Counter(a=1, b=2, c=3, d=4)\n",
        "\n",
        "print(c.subtract(d)) # c-d 연산 수행, 반환값 없음\n",
        "print(c)             # 반환값은 c에 저장됨"
      ],
      "metadata": {
        "id": "fVN2-uML88fs",
        "outputId": "e043ee44-c0ef-4270-9b41-3e4d862e7838",
        "colab": {
          "base_uri": "https://localhost:8080/"
        }
      },
      "execution_count": 50,
      "outputs": [
        {
          "output_type": "stream",
          "name": "stdout",
          "text": [
            "None\n",
            "Counter({'a': 3, 'b': 0, 'c': -3, 'd': -6})\n"
          ]
        }
      ]
    },
    {
      "cell_type": "code",
      "source": [
        "# set의 연산을 지원2\n",
        "\n",
        "c = Counter(a=4, b=2, c=0, d=-2)\n",
        "d = Counter(a=1, b=2, c=3, d=4)\n",
        "\n",
        "print(c + d)\n",
        "print(c & d)\n",
        "print(c | d)"
      ],
      "metadata": {
        "id": "SboN0OjR9dDV",
        "outputId": "e35a6838-9c0b-438b-f6b2-a57a70ccfb01",
        "colab": {
          "base_uri": "https://localhost:8080/"
        }
      },
      "execution_count": 51,
      "outputs": [
        {
          "output_type": "stream",
          "name": "stdout",
          "text": [
            "Counter({'a': 5, 'b': 4, 'c': 3, 'd': 2})\n",
            "Counter({'b': 2, 'a': 1})\n",
            "Counter({'a': 4, 'd': 4, 'c': 3, 'b': 2})\n"
          ]
        }
      ]
    },
    {
      "cell_type": "code",
      "source": [
        "# defaultdict에서 다룬 word counter 기능 쉽게 가능\n",
        "\n",
        "text = \"\"\"A press release is the quickest and easiest way to get free publicity. If \n",
        "well written, a press release can result in multiple published articles about your \n",
        "firm and its products. And that can mean new prospects contacting you asking you to \n",
        "sell to them. ….\"\"\".lower().split()\n",
        "\n",
        "print(Counter(text))\n",
        "print(Counter(text)[\"a\"])"
      ],
      "metadata": {
        "id": "ftOhgBgG9lR_",
        "outputId": "fb343cae-c06e-40cd-b542-c2f843d0e693",
        "colab": {
          "base_uri": "https://localhost:8080/"
        }
      },
      "execution_count": 56,
      "outputs": [
        {
          "output_type": "stream",
          "name": "stdout",
          "text": [
            "Counter({'and': 3, 'to': 3, 'a': 2, 'press': 2, 'release': 2, 'can': 2, 'you': 2, 'is': 1, 'the': 1, 'quickest': 1, 'easiest': 1, 'way': 1, 'get': 1, 'free': 1, 'publicity.': 1, 'if': 1, 'well': 1, 'written,': 1, 'result': 1, 'in': 1, 'multiple': 1, 'published': 1, 'articles': 1, 'about': 1, 'your': 1, 'firm': 1, 'its': 1, 'products.': 1, 'that': 1, 'mean': 1, 'new': 1, 'prospects': 1, 'contacting': 1, 'asking': 1, 'sell': 1, 'them.': 1, '….': 1})\n",
            "2\n"
          ]
        }
      ]
    },
    {
      "cell_type": "code",
      "source": [
        "# sorted()로 정렬\n",
        "\n",
        "sorted(Counter(text).items(), key = lambda t: t[1], reverse = True)"
      ],
      "metadata": {
        "id": "tX-UWs_Q93iv",
        "outputId": "277028f4-4925-462f-801c-febdd1f706a9",
        "colab": {
          "base_uri": "https://localhost:8080/"
        }
      },
      "execution_count": 55,
      "outputs": [
        {
          "output_type": "execute_result",
          "data": {
            "text/plain": [
              "[('and', 3),\n",
              " ('to', 3),\n",
              " ('a', 2),\n",
              " ('press', 2),\n",
              " ('release', 2),\n",
              " ('can', 2),\n",
              " ('you', 2),\n",
              " ('is', 1),\n",
              " ('the', 1),\n",
              " ('quickest', 1),\n",
              " ('easiest', 1),\n",
              " ('way', 1),\n",
              " ('get', 1),\n",
              " ('free', 1),\n",
              " ('publicity.', 1),\n",
              " ('if', 1),\n",
              " ('well', 1),\n",
              " ('written,', 1),\n",
              " ('result', 1),\n",
              " ('in', 1),\n",
              " ('multiple', 1),\n",
              " ('published', 1),\n",
              " ('articles', 1),\n",
              " ('about', 1),\n",
              " ('your', 1),\n",
              " ('firm', 1),\n",
              " ('its', 1),\n",
              " ('products.', 1),\n",
              " ('that', 1),\n",
              " ('mean', 1),\n",
              " ('new', 1),\n",
              " ('prospects', 1),\n",
              " ('contacting', 1),\n",
              " ('asking', 1),\n",
              " ('sell', 1),\n",
              " ('them.', 1),\n",
              " ('….', 1)]"
            ]
          },
          "metadata": {},
          "execution_count": 55
        }
      ]
    },
    {
      "cell_type": "markdown",
      "source": [
        "## namedtuple\n",
        "\n",
        "* tuple 형태로 Data 구조체 저장하는 방법"
      ],
      "metadata": {
        "id": "em1eF_hM-HOV"
      }
    },
    {
      "cell_type": "code",
      "source": [
        "from collections import namedtuple\n",
        "\n",
        "Point = namedtuple(\"Point\", [\"x\",\"y\"])"
      ],
      "metadata": {
        "id": "tCmPRGYf-Mj9"
      },
      "execution_count": 58,
      "outputs": []
    },
    {
      "cell_type": "code",
      "source": [
        "Point"
      ],
      "metadata": {
        "id": "MHKbw7bO-fG6",
        "outputId": "7f6b3830-b752-4f05-ee0c-95381bbb2550",
        "colab": {
          "base_uri": "https://localhost:8080/"
        }
      },
      "execution_count": 59,
      "outputs": [
        {
          "output_type": "execute_result",
          "data": {
            "text/plain": [
              "__main__.Point"
            ]
          },
          "metadata": {},
          "execution_count": 59
        }
      ]
    },
    {
      "cell_type": "code",
      "source": [
        "p = Point(x=11, y=22)\n",
        "p[0], p[1]"
      ],
      "metadata": {
        "id": "NOjL1JaQ-oYq",
        "outputId": "5b9fb1fc-ca97-43a3-d06f-35dbd694f9c9",
        "colab": {
          "base_uri": "https://localhost:8080/"
        }
      },
      "execution_count": 61,
      "outputs": [
        {
          "output_type": "execute_result",
          "data": {
            "text/plain": [
              "(11, 22)"
            ]
          },
          "metadata": {},
          "execution_count": 61
        }
      ]
    },
    {
      "cell_type": "code",
      "source": [
        "p"
      ],
      "metadata": {
        "id": "XjaI9Hvb-xTm",
        "outputId": "a08fe329-7eae-4b4d-95d4-a4d1e30c05c2",
        "colab": {
          "base_uri": "https://localhost:8080/"
        }
      },
      "execution_count": 62,
      "outputs": [
        {
          "output_type": "execute_result",
          "data": {
            "text/plain": [
              "Point(x=11, y=22)"
            ]
          },
          "metadata": {},
          "execution_count": 62
        }
      ]
    },
    {
      "cell_type": "code",
      "source": [
        "print(p.x + p.y)"
      ],
      "metadata": {
        "id": "HlVNVa-G-0ty",
        "outputId": "a72378b4-a619-4c8e-d597-67c25b38218f",
        "colab": {
          "base_uri": "https://localhost:8080/"
        }
      },
      "execution_count": 63,
      "outputs": [
        {
          "output_type": "stream",
          "name": "stdout",
          "text": [
            "33\n"
          ]
        }
      ]
    }
  ]
}