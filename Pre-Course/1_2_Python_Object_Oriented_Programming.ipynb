{
  "nbformat": 4,
  "nbformat_minor": 0,
  "metadata": {
    "colab": {
      "provenance": [],
      "authorship_tag": "ABX9TyPCyntYTU+JC2Hp/Co+pStx",
      "include_colab_link": true
    },
    "kernelspec": {
      "name": "python3",
      "display_name": "Python 3"
    },
    "language_info": {
      "name": "python"
    }
  },
  "cells": [
    {
      "cell_type": "markdown",
      "metadata": {
        "id": "view-in-github",
        "colab_type": "text"
      },
      "source": [
        "<a href=\"https://colab.research.google.com/github/cown0211/AITech_5th/blob/main/Pre-Course/1_2_Python_Object_Oriented_Programming.ipynb\" target=\"_parent\"><img src=\"https://colab.research.google.com/assets/colab-badge.svg\" alt=\"Open In Colab\"/></a>"
      ]
    },
    {
      "cell_type": "markdown",
      "source": [
        "# 객체지향 프로그래밍\n",
        "\n",
        "* Object-Oriented Programming, OOP\n",
        "\n",
        "* 객체; 실생활의 물건으로 비유, 속성(attribute)과 행동(action)을 가짐\n",
        "\n",
        "* OOP에서는 속성을 변수(variable), 행동은 함수(method)로 표현\n",
        "\n",
        "* ex) 인공지능 축구 프로그램 작성\n",
        " * 객체; 팀, 선수, 심판, 공\n",
        " * action; 선수 - 공을 차다, 패스하다 // 심판 - 휘슬, 경고\n",
        " * attribute; 선수 - 이름, 포지션, 소속팀 // 팀 - 팀이름, 연고지, 소속선수\n",
        "\n",
        "\n",
        "\n",
        " * OOP는 설계도에 해당하는 클래스(class)와 실제 구현체인 인스턴스(instance)로 나뉨\n",
        "\n",
        "* 명명법\n",
        "\n",
        " * 변수,함수명; snake_case; 띄어쓰기에 언더바_\n",
        " * Class명; CamelCase; 띄어쓰기에 대문자"
      ],
      "metadata": {
        "id": "CnNjDXtnllVc"
      }
    },
    {
      "cell_type": "code",
      "execution_count": 6,
      "metadata": {
        "id": "Eut9QG1vAEcM"
      },
      "outputs": [],
      "source": [
        "class SoccerPlayer(object):\n",
        "  def __init__(self, name, position, back_number):\n",
        "    self.name = name\n",
        "    self.position = position\n",
        "    self.back_number = back_number\n",
        "\n",
        "  def change_back_number(self, new_number):\n",
        "    print(\"선수의 등번호를 변경합니다 : From %d to %d\" % (self.back_number, new_number))\n",
        "    self.back_number = new_number\n",
        "\n",
        "  def __str__(self):\n",
        "    return \"Hello. My name os %s. My back number is %d\" % (self.name, self.back_number)"
      ]
    },
    {
      "cell_type": "markdown",
      "source": [
        "# class 선언\n",
        "\n",
        "\n",
        "> `class SoccerPlayer(object):`\n",
        "\n",
        "\n",
        "class; class 예약어\n",
        "\n",
        "SoccerPlayer; class 이름\n",
        "\n",
        "object; 상속받는 객체명"
      ],
      "metadata": {
        "id": "rJUA4p7KqD5m"
      }
    },
    {
      "cell_type": "markdown",
      "source": [
        "# attribute 추가\n",
        "\n",
        "\n",
        "> `def __init__(self, name, position, back_nuber):`\n",
        "\n",
        "\n",
        "attribute 추가는 \\_\\_init__, self와 함께!\n",
        "\n",
        "\\_\\_init__; 객체 초기화 예약 함수\n",
        "\n",
        "self; 항상 넣어줘야 함, 설명은 나중에\n",
        "\n",
        "소괄호로 입력받을 변수명 지정\n",
        "\n",
        "## \\_\\_의 의미\n",
        "\n",
        "특수한 예약함수나 변수, 함수면 변경(맨글링)으로 사용\n",
        "\n",
        "ex) \\_\\_main__ , \\_\\_add__ , \\_\\_str__ , ...\n"
      ],
      "metadata": {
        "id": "dUw-4DllqrwO"
      }
    },
    {
      "cell_type": "code",
      "source": [
        "class SoccerPlayer(object):\n",
        "  pass\n",
        "# 이렇게만 써줘도 클래스 정의 가능\n",
        "\n",
        "# 객체지향 언어이므로 여러 객체에 할당 가능\n",
        "abc = SoccerPlayer()\n",
        "ddd = SoccerPlayer()\n",
        "eee = SoccerPlayer()"
      ],
      "metadata": {
        "id": "e6CGIXQjqDor"
      },
      "execution_count": 8,
      "outputs": []
    },
    {
      "cell_type": "code",
      "source": [
        "abc == ddd\n",
        "# 두 객체가 같지는 않음"
      ],
      "metadata": {
        "id": "A9a9SbyYpjF0",
        "outputId": "efc194b9-ba74-4d31-8b67-6f5b589daaad",
        "colab": {
          "base_uri": "https://localhost:8080/"
        }
      },
      "execution_count": 9,
      "outputs": [
        {
          "output_type": "execute_result",
          "data": {
            "text/plain": [
              "False"
            ]
          },
          "metadata": {},
          "execution_count": 9
        }
      ]
    },
    {
      "cell_type": "code",
      "source": [
        "class SoccerPlayer(object):\n",
        "  def __init__(self, name : str, position : str, back_number : int): # 변수명 뒤 : 콜론으로 힌트 작성\n",
        "    self.name = name\n",
        "    self.position = position\n",
        "    self.back_number = back_number\n",
        "# 위에선 빈 깡통이었고 여기에서는 name, position, back_number 받는 클래스 생성"
      ],
      "metadata": {
        "id": "e1FQdeUgvBPr"
      },
      "execution_count": 13,
      "outputs": []
    },
    {
      "cell_type": "code",
      "source": [
        "abc = SoccerPlayer()\n",
        "ddd = SoccerPlayer()\n",
        "eee = SoccerPlayer()\n",
        "# 객체에 할당하려 하면 에러 나는데 초기 3개 값인 name, position, back_number가 없다고 함"
      ],
      "metadata": {
        "id": "-C-oTlGwvHRS",
        "outputId": "38905de6-389b-4f51-88b8-4d020825709c",
        "colab": {
          "base_uri": "https://localhost:8080/",
          "height": 211
        }
      },
      "execution_count": 12,
      "outputs": [
        {
          "output_type": "error",
          "ename": "TypeError",
          "evalue": "ignored",
          "traceback": [
            "\u001b[0;31m---------------------------------------------------------------------------\u001b[0m",
            "\u001b[0;31mTypeError\u001b[0m                                 Traceback (most recent call last)",
            "\u001b[0;32m<ipython-input-12-66719b1df446>\u001b[0m in \u001b[0;36m<module>\u001b[0;34m\u001b[0m\n\u001b[0;32m----> 1\u001b[0;31m \u001b[0mabc\u001b[0m \u001b[0;34m=\u001b[0m \u001b[0mSoccerPlayer\u001b[0m\u001b[0;34m(\u001b[0m\u001b[0;34m)\u001b[0m\u001b[0;34m\u001b[0m\u001b[0;34m\u001b[0m\u001b[0m\n\u001b[0m\u001b[1;32m      2\u001b[0m \u001b[0mddd\u001b[0m \u001b[0;34m=\u001b[0m \u001b[0mSoccerPlayer\u001b[0m\u001b[0;34m(\u001b[0m\u001b[0;34m)\u001b[0m\u001b[0;34m\u001b[0m\u001b[0;34m\u001b[0m\u001b[0m\n\u001b[1;32m      3\u001b[0m \u001b[0meee\u001b[0m \u001b[0;34m=\u001b[0m \u001b[0mSoccerPlayer\u001b[0m\u001b[0;34m(\u001b[0m\u001b[0;34m)\u001b[0m\u001b[0;34m\u001b[0m\u001b[0;34m\u001b[0m\u001b[0m\n",
            "\u001b[0;31mTypeError\u001b[0m: __init__() missing 3 required positional arguments: 'name', 'position', and 'back_number'"
          ]
        }
      ]
    },
    {
      "cell_type": "code",
      "source": [
        "abc = SoccerPlayer(\"son\", \"FW\", 7)\n",
        "park = SoccerPlayer(\"park\", \"MF\", 13)\n",
        "# 초기값 넣어주면 abc, park이라는 객체에 SoccerPlayer 클래스라는 틀을 활용하여 생성"
      ],
      "metadata": {
        "id": "MtRr73PUva4q"
      },
      "execution_count": 16,
      "outputs": []
    },
    {
      "cell_type": "code",
      "source": [
        "abc == park\n",
        "# SoccerPlayer라는 틀만 같이 썼을 뿐 서로 다름"
      ],
      "metadata": {
        "id": "62QgUQIZv9f0",
        "outputId": "d0338e8c-2f5b-4ec7-e697-2fdc304c5d4d",
        "colab": {
          "base_uri": "https://localhost:8080/"
        }
      },
      "execution_count": 17,
      "outputs": [
        {
          "output_type": "execute_result",
          "data": {
            "text/plain": [
              "False"
            ]
          },
          "metadata": {},
          "execution_count": 17
        }
      ]
    },
    {
      "cell_type": "code",
      "source": [
        "# 클래스에 __str__을 지정 안해주면 그냥 메모리 주소만 나옴\n",
        "print(park)"
      ],
      "metadata": {
        "id": "MyxNBGwawTFI",
        "outputId": "b0e0ada2-955a-42b8-ccf5-51d525513169",
        "colab": {
          "base_uri": "https://localhost:8080/"
        }
      },
      "execution_count": 19,
      "outputs": [
        {
          "output_type": "stream",
          "name": "stdout",
          "text": [
            "<__main__.SoccerPlayer object at 0x7f83ce65ec70>\n"
          ]
        }
      ]
    },
    {
      "cell_type": "code",
      "source": [
        "class SoccerPlayer(object):\n",
        "  def __init__(self, name, position, back_number):\n",
        "    self.name = name\n",
        "    self.position = position\n",
        "    self.back_number = back_number\n",
        "\n",
        "  def __str__(self): # print() 했을 때의 반환값 설정\n",
        "    return \"Hello. My name os %s. My back number is %d\" % (self.name, self.back_number)"
      ],
      "metadata": {
        "id": "NaqIgeNswH3V"
      },
      "execution_count": 20,
      "outputs": []
    },
    {
      "cell_type": "code",
      "source": [
        "park = SoccerPlayer(\"park\", \"MF\", 13)\n",
        "print(park)\n",
        "\n",
        "# __str__ 말고도 다른 매직 메소드들 참고자료\n",
        "# https://corikachu.github.io/articles/python/python-magic-method"
      ],
      "metadata": {
        "id": "WJhXRLeRwbc6",
        "outputId": "3b038115-f6be-4e7f-b438-71cded8faba4",
        "colab": {
          "base_uri": "https://localhost:8080/"
        }
      },
      "execution_count": 23,
      "outputs": [
        {
          "output_type": "stream",
          "name": "stdout",
          "text": [
            "Hello. My name os park. My back number is 13\n"
          ]
        }
      ]
    },
    {
      "cell_type": "markdown",
      "source": [
        "# method 구현하기\n",
        "\n",
        "\n",
        "\n",
        "> `def change_back_number(self, new_number): \n",
        "      print(\"선수의 등번호를 변경합니다 : From %d to %d\" % (self.back_number, new_number))\n",
        "    self.back_number = new_number`\n",
        "\n",
        "\n",
        "method 추가는 기존 함수와 같으나 반드시 self를 추가해야먄 class 함수로 인정됨"
      ],
      "metadata": {
        "id": "OutRoIeWxBE3"
      }
    },
    {
      "cell_type": "code",
      "source": [
        "class SoccerPlayer(object):\n",
        "  def __init__(self, name, position, back_number):\n",
        "    self.name = name\n",
        "    self.position = position\n",
        "    self.back_number = back_number\n",
        "\n",
        "  def change_back_number(self, new_number):\n",
        "    print(\"선수의 등번호를 변경합니다 : From %d to %d\" % (self.back_number, new_number))\n",
        "    self.back_number = new_number\n",
        "\n",
        "  def __str__(self):\n",
        "    return \"Hello. My name os %s. My back number is %d\" % (self.name, self.back_number)"
      ],
      "metadata": {
        "id": "JrB4EJeFxNcq"
      },
      "execution_count": 24,
      "outputs": []
    },
    {
      "cell_type": "code",
      "source": [
        "son = SoccerPlayer(\"son\", \"FW\", 7)\n",
        "park = SoccerPlayer(\"park\", \"MF\", 13)"
      ],
      "metadata": {
        "id": "EV8W1awNxqLu"
      },
      "execution_count": 25,
      "outputs": []
    },
    {
      "cell_type": "code",
      "source": [
        "park.change_back_number(10)\n",
        "print(park)"
      ],
      "metadata": {
        "id": "D5780s5oxsj7",
        "outputId": "ce57d61d-a5fd-49d9-bb5c-119c7cd1d841",
        "colab": {
          "base_uri": "https://localhost:8080/"
        }
      },
      "execution_count": 28,
      "outputs": [
        {
          "output_type": "stream",
          "name": "stdout",
          "text": [
            "선수의 등번호를 변경합니다 : From 10 to 10\n",
            "Hello. My name os park. My back number is 10\n"
          ]
        }
      ]
    },
    {
      "cell_type": "markdown",
      "source": [
        "# 구현 가능한 OOP 만들기 - 노트북 예제\n",
        "\n",
        "* Note를 정리하는 프로그램\n",
        "\n",
        "* 사용자는 Note에 뭔가를 적을 수 있다\n",
        "\n",
        "* Note에는 Content가 있고, 내용을 제거할 수 있다\n",
        "\n",
        "* 두 개의 노트북을 합쳐 하나로 만들 수 있다\n",
        "\n",
        "* Note는 Notebook에 삽입된다\n",
        "\n",
        "* Notebook은 Note가 삽입될 때 페이지를 생성하며 최고 300 페이지까지 저장 가능하다\n",
        "\n",
        "* 300 페이지가 넘으면 더 이상 노트를 삽입하지 못한다\n"
      ],
      "metadata": {
        "id": "xKQAqZIsyUDH"
      }
    },
    {
      "cell_type": "code",
      "source": [
        "\"\"\"\n",
        "method\n",
        "Notebook; add_note, remove_note, get_number_of_pages\n",
        "Note; write_content, remove_all\n",
        "\n",
        "variable\n",
        "Notebook; title, page_number, notes\n",
        "Note; content\n",
        "\"\"\""
      ],
      "metadata": {
        "id": "SSmy7lf_2uWM"
      },
      "execution_count": null,
      "outputs": []
    },
    {
      "cell_type": "code",
      "source": [
        "class Note(object):\n",
        "  def __init__(self, content = None): # content는 기본 None\n",
        "    self.content = content\n",
        "  \n",
        "  def write_content(self, content):\n",
        "    self.content = content\n",
        "\n",
        "  def remove_all(self):\n",
        "    self.content = \"\"\n",
        "\n",
        "  def __add__(self, other):\n",
        "    return self.content + other.content\n",
        "\n",
        "  def __str__(self):\n",
        "    return self.content"
      ],
      "metadata": {
        "id": "SFjvn6ggyq5c"
      },
      "execution_count": 29,
      "outputs": []
    },
    {
      "cell_type": "code",
      "source": [
        "class NoteBook(object):\n",
        "  def __init__(self, title):\n",
        "    self.title = title\n",
        "    self.page_number = 1\n",
        "    self.notes = {}\n",
        "\n",
        "  def add_note(self, note, page = 0):\n",
        "    if self.page_number < 300:\n",
        "      if page == 0:\n",
        "        self.notes[self.page_number] = note\n",
        "        self.page_number += 1\n",
        "      else:\n",
        "        self.notes[page] = note\n",
        "        self.page_number += 1\n",
        "    else:\n",
        "      print(\"Page가 모두 채워졌습니다\")\n",
        "  \n",
        "  def remove_note(self, page_number):\n",
        "    if page_number in self.notes.keys():\n",
        "      return self.notes.pop(page_number)\n",
        "    else:\n",
        "      print(\"해당 페이지는 존재하지 않습니다\")\n",
        "\n",
        "  def get_number_of_pages(self):\n",
        "   return len(self.notes.keys())"
      ],
      "metadata": {
        "id": "hTbdjZKl32Ty"
      },
      "execution_count": 41,
      "outputs": []
    },
    {
      "cell_type": "markdown",
      "source": [
        "# 상속\n",
        "\n",
        "* 부모클래스의 속성과 method를 물려받은 자식클래스 생성"
      ],
      "metadata": {
        "id": "IQE72PQG9Cpe"
      }
    },
    {
      "cell_type": "code",
      "source": [
        "class Person(object):\n",
        "  def __init__(self, name, age):\n",
        "    self.name = name\n",
        "    self.age = age\n",
        "\n",
        "  def __str__(self):\n",
        "    return \"저의 이름은 {0} 입니다. 나이는 {1} 살입니다.\".format(self.name, self.age)\n",
        "# Person이라는 클래스 생성"
      ],
      "metadata": {
        "id": "eo5Sm07M9JzT"
      },
      "execution_count": 46,
      "outputs": []
    },
    {
      "cell_type": "code",
      "source": [
        "class Korean(Person): # 소괄호에 Person을 씀으로써 Person 클래스 상속\n",
        "  pass # 아무내용 안적음"
      ],
      "metadata": {
        "id": "Jqhg3clx9UIK"
      },
      "execution_count": 53,
      "outputs": []
    },
    {
      "cell_type": "code",
      "source": [
        "first_korean = Korean(\"sungchul\", 35)\n",
        "print(first_korean)\n",
        "# Korean이라는 클래스에는 아무것도 정의 안돼있는데도 상속받아 Person의 것을 사용"
      ],
      "metadata": {
        "id": "0MRIjvyf9cZ1",
        "outputId": "6ef5932a-f3ed-42d6-e5ca-7e70116b8286",
        "colab": {
          "base_uri": "https://localhost:8080/"
        }
      },
      "execution_count": 49,
      "outputs": [
        {
          "output_type": "stream",
          "name": "stdout",
          "text": [
            "저의 이름은 sungchul 입니다. 나이는 35 살입니다.\n"
          ]
        }
      ]
    },
    {
      "cell_type": "code",
      "source": [
        "class Person(object):\n",
        "  def __init__(self, name, age, gender):\n",
        "    self.name = name\n",
        "    self.age = age\n",
        "    self.gender = gender\n",
        "\n",
        "  def about_me(self):\n",
        "    print(\"저의 이름은\", self.name, \"입니다. 제 나이는 \", str(self.age), \"살 입니다.\")\n",
        "\n",
        "  def __str__(self):\n",
        "    return \"저의 이름은 {0} 입니다. 나이는 {1} 살입니다.\".format(self.name, self.age)\n",
        "# Person이라는 클래스 생성"
      ],
      "metadata": {
        "id": "Sr2jiTULAOGh"
      },
      "execution_count": 51,
      "outputs": []
    },
    {
      "cell_type": "code",
      "source": [
        "class Employee(Person):\n",
        "  def __init__(self, name, age, gender, salary, hire_date):\n",
        "    super().__init__(name, age, gender) # 부모클래스의 __init__ 사용\n",
        "    self.salary = salary\n",
        "    self.hire_date = hire_date\n",
        "  \n",
        "  def do_work(self):\n",
        "    print(\"열심히 일을 합니다\")\n",
        "  \n",
        "  def about_me(self):\n",
        "    super().about_me()   # 부모클래스의 클래스 함수 사용\n",
        "    print(\"제 급여는\", self.salary, \"원 입니다. 제 입사일은 \", self.hire_date, \"입니다.\")"
      ],
      "metadata": {
        "id": "xDRzHy7rAeia"
      },
      "execution_count": 52,
      "outputs": []
    },
    {
      "cell_type": "code",
      "source": [
        "myPerson = Person(\"john\", 34, \"M\")\n",
        "myEmployee = Employee(\"dh\", 34, \"M\", 30000, \"2021/03/01\")"
      ],
      "metadata": {
        "id": "pYoGM5sgBPn8"
      },
      "execution_count": 54,
      "outputs": []
    },
    {
      "cell_type": "code",
      "source": [
        "print(myPerson.about_me())\n",
        "print(myEmployee.about_me())"
      ],
      "metadata": {
        "id": "ihsr_9LlBaYG",
        "outputId": "d881f9c2-f964-4cc6-82e7-8f0e63f33e27",
        "colab": {
          "base_uri": "https://localhost:8080/"
        }
      },
      "execution_count": 56,
      "outputs": [
        {
          "output_type": "stream",
          "name": "stdout",
          "text": [
            "저의 이름은 john 입니다. 제 나이는  34 살 입니다.\n",
            "None\n",
            "저의 이름은 dh 입니다. 제 나이는  34 살 입니다.\n",
            "제 급여는 30000 원 입니다. 제 입사일은  2021/03/01 입니다.\n",
            "None\n"
          ]
        }
      ]
    },
    {
      "cell_type": "markdown",
      "source": [
        "# 다형성\n",
        "\n",
        "* 같은 이름의 메소드의 내부 로직을 다르게 작성\n"
      ],
      "metadata": {
        "id": "IZucvqm4B3Io"
      }
    },
    {
      "cell_type": "code",
      "source": [
        "class Animal:\n",
        "  def __init__(self, name):\n",
        "    self.name = name\n",
        "  \n",
        "  def talk(self):\n",
        "    raise NotImplementedError(\"Subclass must implement abstract method\")"
      ],
      "metadata": {
        "id": "48aODS4SDsTW"
      },
      "execution_count": 60,
      "outputs": []
    },
    {
      "cell_type": "code",
      "source": [
        "class Cat(Animal):\n",
        "  def talk(self):\n",
        "    return \"Meow!\"\n",
        "\n",
        "class Dog(Animal):\n",
        "  def talk(self):\n",
        "    return \"Woof! Woof!\""
      ],
      "metadata": {
        "id": "60ySgGTuD6lp"
      },
      "execution_count": 61,
      "outputs": []
    },
    {
      "cell_type": "code",
      "source": [
        "animals = [Cat(\"Missy\"),\n",
        "           Cat(\"Mr.Mistoffelees\"),\n",
        "           Dog(\"Lassie\")]\n",
        "\n",
        "for animal in animals:\n",
        "  print(animal.name + \": \" + animal.talk())\n",
        "  # 모두 .talk() 메서드로 불렀지만 Cat이냐 Dog이냐에 따라 결과가 다름"
      ],
      "metadata": {
        "id": "6WOid_RSEEpJ",
        "outputId": "97f29363-5ad0-4434-a095-d74a0a02a086",
        "colab": {
          "base_uri": "https://localhost:8080/"
        }
      },
      "execution_count": 63,
      "outputs": [
        {
          "output_type": "stream",
          "name": "stdout",
          "text": [
            "Missy: Meow!\n",
            "Mr.Mistoffelees: Meow!\n",
            "Lassie: Woof! Woof!\n"
          ]
        }
      ]
    },
    {
      "cell_type": "markdown",
      "source": [
        "# 가시성 Visibility\n",
        "\n",
        "* 객체의 정보를 볼 수 있는 레벨을 조절하는 것\n",
        "\n",
        "* 누구나 객체 안에 모든 변수를 볼 필요가 없음"
      ],
      "metadata": {
        "id": "i8MSKpVzEirT"
      }
    },
    {
      "cell_type": "code",
      "source": [
        "# 예제\n",
        "\n",
        "# Product 객체를 Inventory 객체에 추가\n",
        "# Inventory에는 오직 Product 객체만 들어감\n",
        "# Inventory에 Product가 몇 개인지 확인이 필요\n",
        "# Inventory에 Product items는 직접 접근이 불가"
      ],
      "metadata": {
        "id": "fsCb6cYLErBZ"
      },
      "execution_count": null,
      "outputs": []
    },
    {
      "cell_type": "code",
      "source": [
        "class Product(object):\n",
        "  pass\n",
        "\n",
        "class Inventory(object):\n",
        "  def __init__(self):\n",
        "    self.items = []\n",
        "  \n",
        "  def add_new_item(self, product):\n",
        "    if type(product) == Product:\n",
        "      self.items.append(product)\n",
        "      print(\"new item added\")\n",
        "    else:\n",
        "      raise ValueError(\"Invalid Item\")\n",
        "    \n",
        "  def get_number_of_items(self):\n",
        "    return len(self.items)"
      ],
      "metadata": {
        "id": "JeCo0CKPGOva"
      },
      "execution_count": 66,
      "outputs": []
    },
    {
      "cell_type": "code",
      "source": [
        "my_inventory = Inventory()\n",
        "my_inventory.add_new_item(Product())\n",
        "my_inventory.add_new_item(Product())\n",
        "my_inventory"
      ],
      "metadata": {
        "id": "sya5aWeCGR3r",
        "outputId": "3bd09a9b-b3a7-4e28-de34-c603bb1053eb",
        "colab": {
          "base_uri": "https://localhost:8080/"
        }
      },
      "execution_count": 67,
      "outputs": [
        {
          "output_type": "stream",
          "name": "stdout",
          "text": [
            "new item added\n",
            "new item added\n"
          ]
        },
        {
          "output_type": "execute_result",
          "data": {
            "text/plain": [
              "<__main__.Inventory at 0x7f83c6741340>"
            ]
          },
          "metadata": {},
          "execution_count": 67
        }
      ]
    },
    {
      "cell_type": "code",
      "source": [
        "my_inventory.items.append(\"abc\")\n",
        "my_inventory.items\n",
        "\n",
        "# 위와 같은 코드는 item에 모두 접근을 해버림"
      ],
      "metadata": {
        "id": "hqzYj5VAGcyc",
        "outputId": "fd7872a6-3f37-4e84-b6b4-17086b79c067",
        "colab": {
          "base_uri": "https://localhost:8080/"
        }
      },
      "execution_count": 68,
      "outputs": [
        {
          "output_type": "execute_result",
          "data": {
            "text/plain": [
              "[<__main__.Product at 0x7f83c6741b50>,\n",
              " <__main__.Product at 0x7f83c6741fa0>,\n",
              " 'abc']"
            ]
          },
          "metadata": {},
          "execution_count": 68
        }
      ]
    },
    {
      "cell_type": "code",
      "source": [
        "class Product(object):\n",
        "  pass\n",
        "\n",
        "class Inventory(object):\n",
        "  def __init__(self):\n",
        "    self.__items = [] # __items의 __는 private 변수를 의미, 타객체가 접근 못함\n",
        "  \n",
        "  def add_new_item(self, product):\n",
        "    if type(product) == Product:\n",
        "      self.__items.append(product)\n",
        "      print(\"new item added\")\n",
        "    else:\n",
        "      raise ValueError(\"Invalid Item\")\n",
        "    \n",
        "  def get_number_of_items(self):\n",
        "    return len(self.__items)"
      ],
      "metadata": {
        "id": "2bUJY8HzFIgN"
      },
      "execution_count": 69,
      "outputs": []
    },
    {
      "cell_type": "code",
      "source": [
        "my_inventory = Inventory()\n",
        "my_inventory.add_new_item(Product())\n",
        "my_inventory.add_new_item(Product())\n",
        "my_inventory"
      ],
      "metadata": {
        "id": "glm7fjgvGrCK",
        "outputId": "cdda43d1-cc0d-4480-a3ec-07e2d0cd2c65",
        "colab": {
          "base_uri": "https://localhost:8080/"
        }
      },
      "execution_count": 70,
      "outputs": [
        {
          "output_type": "stream",
          "name": "stdout",
          "text": [
            "new item added\n",
            "new item added\n"
          ]
        },
        {
          "output_type": "execute_result",
          "data": {
            "text/plain": [
              "<__main__.Inventory at 0x7f83c66fb7f0>"
            ]
          },
          "metadata": {},
          "execution_count": 70
        }
      ]
    },
    {
      "cell_type": "code",
      "source": [
        "my_inventory.__items\n",
        "# 접근 불가능함"
      ],
      "metadata": {
        "id": "7Xkd9_85G1SJ",
        "outputId": "44849149-ba49-438c-b857-7d6219536e96",
        "colab": {
          "base_uri": "https://localhost:8080/",
          "height": 174
        }
      },
      "execution_count": 73,
      "outputs": [
        {
          "output_type": "error",
          "ename": "AttributeError",
          "evalue": "ignored",
          "traceback": [
            "\u001b[0;31m---------------------------------------------------------------------------\u001b[0m",
            "\u001b[0;31mAttributeError\u001b[0m                            Traceback (most recent call last)",
            "\u001b[0;32m<ipython-input-73-11cc93e1f4f4>\u001b[0m in \u001b[0;36m<module>\u001b[0;34m\u001b[0m\n\u001b[0;32m----> 1\u001b[0;31m \u001b[0mmy_inventory\u001b[0m\u001b[0;34m.\u001b[0m\u001b[0m__items\u001b[0m\u001b[0;34m\u001b[0m\u001b[0;34m\u001b[0m\u001b[0m\n\u001b[0m",
            "\u001b[0;31mAttributeError\u001b[0m: 'Inventory' object has no attribute '__items'"
          ]
        }
      ]
    },
    {
      "cell_type": "code",
      "source": [
        "# 예제2\n",
        "\n",
        "# Product 객체를 Inventory 객체에 추가\n",
        "# Inventory에는 오직 Product 객체만 들어감\n",
        "# Inventory에 Product가 몇 개인지 확인이 필요\n",
        "# Inventory에 Product items 접근 허용"
      ],
      "metadata": {
        "id": "Z3GOrHUtHD13"
      },
      "execution_count": null,
      "outputs": []
    },
    {
      "cell_type": "code",
      "source": [
        "class Inventory(object):\n",
        "  def __init__(self):\n",
        "    self.__items = [] # __items의 __는 private 변수를 의미, 타객체가 접근 못함\n",
        "  \n",
        "  def add_new_item(self, product):\n",
        "    if type(product) == Product:\n",
        "      self.__items.append(product)\n",
        "      print(\"new item added\")\n",
        "    else:\n",
        "      raise ValueError(\"Invalid Item\")\n",
        "    \n",
        "  def get_number_of_items(self):\n",
        "    return len(self.__items)\n",
        "\n",
        "  @property # 데코레이터라고 부름, 접근권한 설정\n",
        "  def items(self):\n",
        "    return self.__items"
      ],
      "metadata": {
        "id": "Ka7T_0YCHSKG"
      },
      "execution_count": 74,
      "outputs": []
    },
    {
      "cell_type": "code",
      "source": [
        "my_inventory = Inventory()\n",
        "my_inventory.add_new_item(Product())\n",
        "my_inventory.add_new_item(Product())\n",
        "my_inventory"
      ],
      "metadata": {
        "id": "o7KI4jU5HjvP",
        "outputId": "14c97c68-230a-49cc-ec9e-e61a23383345",
        "colab": {
          "base_uri": "https://localhost:8080/"
        }
      },
      "execution_count": 75,
      "outputs": [
        {
          "output_type": "stream",
          "name": "stdout",
          "text": [
            "new item added\n",
            "new item added\n"
          ]
        },
        {
          "output_type": "execute_result",
          "data": {
            "text/plain": [
              "<__main__.Inventory at 0x7f83c67036d0>"
            ]
          },
          "metadata": {},
          "execution_count": 75
        }
      ]
    },
    {
      "cell_type": "code",
      "source": [
        "my_inventory.__items\n",
        "# 이렇게 접근하면 접근 불가"
      ],
      "metadata": {
        "id": "gLKIhQljHlyI",
        "outputId": "cf36cbdc-0d3c-4e8d-99ad-35aaec66273d",
        "colab": {
          "base_uri": "https://localhost:8080/",
          "height": 174
        }
      },
      "execution_count": 77,
      "outputs": [
        {
          "output_type": "error",
          "ename": "AttributeError",
          "evalue": "ignored",
          "traceback": [
            "\u001b[0;31m---------------------------------------------------------------------------\u001b[0m",
            "\u001b[0;31mAttributeError\u001b[0m                            Traceback (most recent call last)",
            "\u001b[0;32m<ipython-input-77-11cc93e1f4f4>\u001b[0m in \u001b[0;36m<module>\u001b[0;34m\u001b[0m\n\u001b[0;32m----> 1\u001b[0;31m \u001b[0mmy_inventory\u001b[0m\u001b[0;34m.\u001b[0m\u001b[0m__items\u001b[0m\u001b[0;34m\u001b[0m\u001b[0;34m\u001b[0m\u001b[0m\n\u001b[0m",
            "\u001b[0;31mAttributeError\u001b[0m: 'Inventory' object has no attribute '__items'"
          ]
        }
      ]
    },
    {
      "cell_type": "code",
      "source": [
        "my_inventory.items\n",
        "# 이렇게 접근하면 가능"
      ],
      "metadata": {
        "id": "cDl4KV2eHtEG",
        "outputId": "8cfce8ef-6b1c-4995-9a3b-f36461475ef1",
        "colab": {
          "base_uri": "https://localhost:8080/"
        }
      },
      "execution_count": 78,
      "outputs": [
        {
          "output_type": "execute_result",
          "data": {
            "text/plain": [
              "[<__main__.Product at 0x7f83c6703220>, <__main__.Product at 0x7f83c67034f0>]"
            ]
          },
          "metadata": {},
          "execution_count": 78
        }
      ]
    },
    {
      "cell_type": "markdown",
      "source": [
        "# first-class objects\n",
        " * 일등함수 or 일급객체\n",
        " * 변수나 데이터 구조에 할당이 가능한 객체\n",
        " * 파라미터로 전달이 가능, 리턴값으로 사용\n",
        "   * 파이썬의 함수는 일급함수"
      ],
      "metadata": {
        "id": "-Gtc7TqSH75G"
      }
    },
    {
      "cell_type": "code",
      "source": [
        "def square(x):\n",
        "  return x * x\n",
        "# 함수 정의\n",
        "\n",
        "f = square\n",
        "# 함수를 하나의 변수로 사용\n",
        "\n",
        "f(5)"
      ],
      "metadata": {
        "id": "ccLK0F0zH-QD",
        "outputId": "4548ecfe-7009-479e-9c40-03c628c1227a",
        "colab": {
          "base_uri": "https://localhost:8080/"
        }
      },
      "execution_count": 81,
      "outputs": [
        {
          "output_type": "execute_result",
          "data": {
            "text/plain": [
              "25"
            ]
          },
          "metadata": {},
          "execution_count": 81
        }
      ]
    },
    {
      "cell_type": "code",
      "source": [
        "def square(x):\n",
        "  return x*x\n",
        "\n",
        "def cube(x):\n",
        "  return x*x*x\n",
        "\n",
        "def formula(method, argument_list):\n",
        "  return [method(value) for value in argument_list]\n",
        "\n",
        "print(formula(square, [1,2,3]))\n",
        "print(formula(cube, [1,2,3]))"
      ],
      "metadata": {
        "id": "qTAjtlFdIjuP",
        "outputId": "42338586-cbe8-4084-df33-33ad51af1707",
        "colab": {
          "base_uri": "https://localhost:8080/"
        }
      },
      "execution_count": 84,
      "outputs": [
        {
          "output_type": "stream",
          "name": "stdout",
          "text": [
            "[1, 4, 9]\n",
            "[1, 8, 27]\n"
          ]
        }
      ]
    },
    {
      "cell_type": "markdown",
      "source": [
        "# inner function\n",
        "\n",
        "* 함수 내에 또 다른 함수가 존재"
      ],
      "metadata": {
        "id": "BH8vNvylI8uf"
      }
    },
    {
      "cell_type": "code",
      "source": [
        "def print_msg(msg):\n",
        "  def printer():\n",
        "    print(msg)\n",
        "  printer()\n",
        "\n",
        "print_msg(\"Hello, Python\")"
      ],
      "metadata": {
        "id": "2yw2PHr7I_kP",
        "outputId": "b4ed912c-1809-4269-f35a-fac8c5d0935e",
        "colab": {
          "base_uri": "https://localhost:8080/"
        }
      },
      "execution_count": 85,
      "outputs": [
        {
          "output_type": "stream",
          "name": "stdout",
          "text": [
            "Hello, Python\n"
          ]
        }
      ]
    },
    {
      "cell_type": "code",
      "source": [
        "# closures: inner function을 return 값으로 반환\n",
        "\n",
        "def print_msg(msg):\n",
        "  def printer():\n",
        "    print(msg)\n",
        "  return printer\n",
        "\n",
        "another = print_msg(\"Hello, Python\")\n",
        "another()"
      ],
      "metadata": {
        "id": "QhuB1iHrJM3L",
        "outputId": "73f3cb59-3440-4b64-8be9-d6a7dcf070dc",
        "colab": {
          "base_uri": "https://localhost:8080/"
        }
      },
      "execution_count": 86,
      "outputs": [
        {
          "output_type": "stream",
          "name": "stdout",
          "text": [
            "Hello, Python\n"
          ]
        }
      ]
    },
    {
      "cell_type": "code",
      "source": [
        "# closures 예제\n",
        "\n",
        "def tag_func(tag, text):\n",
        "  text = text\n",
        "  tag = tag\n",
        "\n",
        "  def inner_func():\n",
        "    return '<{0}>{1}<{0}>'.format(tag, text)\n",
        "  \n",
        "  return inner_func\n",
        "\n",
        "h1_func = tag_func(\"title\", \"this is python class\")\n",
        "p_func = tag_func(\"p\", \"data academy\")"
      ],
      "metadata": {
        "id": "T3oJh2AYJqI4"
      },
      "execution_count": 91,
      "outputs": []
    },
    {
      "cell_type": "markdown",
      "source": [
        "# decorator function\n",
        "\n",
        "* 복잡한 클로져 함수를 간단하게!"
      ],
      "metadata": {
        "id": "ehJRV-MpKZFi"
      }
    },
    {
      "cell_type": "code",
      "source": [
        "def star(func):\n",
        "  def inner(*args, **kwargs):\n",
        "    print(args[1] * 30)\n",
        "    func(*args, **kwargs)\n",
        "    print(args[1] * 30)\n",
        "  return inner\n",
        "\n",
        "@star\n",
        "def printer(msg, mark):\n",
        "  print(msg)\n",
        "\n",
        "printer(\"Hello\", \"T\")"
      ],
      "metadata": {
        "id": "iRZjxeAbKcYn",
        "outputId": "714462d9-0cd3-4f67-807a-53face609f66",
        "colab": {
          "base_uri": "https://localhost:8080/"
        }
      },
      "execution_count": 94,
      "outputs": [
        {
          "output_type": "stream",
          "name": "stdout",
          "text": [
            "TTTTTTTTTTTTTTTTTTTTTTTTTTTTTT\n",
            "Hello\n",
            "TTTTTTTTTTTTTTTTTTTTTTTTTTTTTT\n"
          ]
        }
      ]
    },
    {
      "cell_type": "code",
      "source": [
        "def star(func):\n",
        "  def inner(*args, **kwargs):\n",
        "    print(\"*\" * 30)\n",
        "    func(*args, **kwargs)\n",
        "    print(\"*\" * 30)\n",
        "  return inner\n",
        "\n",
        "def percent(func):\n",
        "  def inner(*args, **kwargs):\n",
        "    print(\"%\" * 30)\n",
        "    func(*args, **kwargs)\n",
        "    print(\"%\" * 30)\n",
        "  return inner\n",
        "\n",
        "\n",
        "@percent\n",
        "@star\n",
        "def printer(msg):\n",
        "  print(msg)\n",
        "\n",
        "printer(\"Hello\")\n"
      ],
      "metadata": {
        "id": "auwrisOoLMeu",
        "outputId": "187649f2-1336-4fe3-b0e4-f16846036d28",
        "colab": {
          "base_uri": "https://localhost:8080/"
        }
      },
      "execution_count": 96,
      "outputs": [
        {
          "output_type": "stream",
          "name": "stdout",
          "text": [
            "%%%%%%%%%%%%%%%%%%%%%%%%%%%%%%\n",
            "******************************\n",
            "Hello\n",
            "******************************\n",
            "%%%%%%%%%%%%%%%%%%%%%%%%%%%%%%\n"
          ]
        }
      ]
    }
  ]
}