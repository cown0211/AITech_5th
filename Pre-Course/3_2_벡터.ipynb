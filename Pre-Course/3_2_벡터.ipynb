{
  "nbformat": 4,
  "nbformat_minor": 0,
  "metadata": {
    "colab": {
      "provenance": [],
      "authorship_tag": "ABX9TyM/oOH9Ohz3NdiZsZoFWId4",
      "include_colab_link": true
    },
    "kernelspec": {
      "name": "python3",
      "display_name": "Python 3"
    },
    "language_info": {
      "name": "python"
    }
  },
  "cells": [
    {
      "cell_type": "markdown",
      "metadata": {
        "id": "view-in-github",
        "colab_type": "text"
      },
      "source": [
        "<a href=\"https://colab.research.google.com/github/cown0211/AITech_5th/blob/main/Pre-Course/3_2_%EB%B2%A1%ED%84%B0.ipynb\" target=\"_parent\"><img src=\"https://colab.research.google.com/assets/colab-badge.svg\" alt=\"Open In Colab\"/></a>"
      ]
    },
    {
      "cell_type": "markdown",
      "source": [
        "# 벡터가 뭔가요??\n",
        "\n",
        "* 벡터는 숫자를 원소로 가지는 리스트(list) 또는 배열(array)\n",
        "\n",
        "  $ X = \\left[\n",
        "  \\begin{matrix}\n",
        "      1 \\\\\n",
        "      7 \\\\\n",
        "      2 \\\\\n",
        "  \\end{matrix}\n",
        "  \\right] \n",
        "  $\n",
        "  ,     $ X^T = \\left[\n",
        "  \\begin{matrix}\n",
        "      1 ,\n",
        "      7 ,\n",
        "      2 \n",
        "  \\end{matrix}\n",
        "  \\right] $\n",
        "\n",
        "  ```\n",
        "  x = [1, 7, 2]\n",
        "  x = np.array([1,7,2])\n",
        "  ```\n",
        "  \n",
        "  * 위의 수식에서 X를 열벡터, X^T를 행벡터로 부름\n",
        "  * 벡터 안의 요소의 개수 = 벡터의 차원\n",
        "\n"
      ],
      "metadata": {
        "id": "fwAxd3lDlQAT"
      }
    }
  ]
}