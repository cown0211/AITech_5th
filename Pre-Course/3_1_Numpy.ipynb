{
  "nbformat": 4,
  "nbformat_minor": 0,
  "metadata": {
    "colab": {
      "provenance": [],
      "authorship_tag": "ABX9TyP1OsIfejz5d1ydt/ZKl9XY",
      "include_colab_link": true
    },
    "kernelspec": {
      "name": "python3",
      "display_name": "Python 3"
    },
    "language_info": {
      "name": "python"
    }
  },
  "cells": [
    {
      "cell_type": "markdown",
      "metadata": {
        "id": "view-in-github",
        "colab_type": "text"
      },
      "source": [
        "<a href=\"https://colab.research.google.com/github/cown0211/AITech_5th/blob/main/Pre-Course/3_1_Numpy.ipynb\" target=\"_parent\"><img src=\"https://colab.research.google.com/assets/colab-badge.svg\" alt=\"Open In Colab\"/></a>"
      ]
    },
    {
      "cell_type": "markdown",
      "source": [
        "  수식을 행렬형태로 작성하려면?\n",
        "  \n",
        "  아래와 같이 리스트 형태로...\n",
        "\n",
        "  ```\n",
        "  coefficient_matrix = [[2,2,1], [2,-1,2], [1,-1,2]]\n",
        "  constant_vector = [9,6,5]\n",
        "  ```\n",
        "\n",
        "  but\n",
        "\n",
        "  matrix가 커질수록 리스트는 비효율적!\n",
        "\n",
        "  \n",
        "  # **NumPy**"
      ],
      "metadata": {
        "id": "FTBB4r7Jjc-b"
      }
    },
    {
      "cell_type": "code",
      "source": [
        "# array 생성\n",
        "\n",
        "a = [1,2,3,4,5]\n",
        "b = [5,4,3,2,1]"
      ],
      "metadata": {
        "id": "5PdLYsEjOKpv"
      },
      "execution_count": null,
      "outputs": []
    },
    {
      "cell_type": "code",
      "source": [
        "import numpy as np\n",
        "\n",
        "a = np.array(a, int) # 사용할 리스트, 데이터 타입\n",
        "a"
      ],
      "metadata": {
        "id": "zSRh33-XOP2w",
        "outputId": "b6f73a60-5541-45cd-80b9-670bc9d663d0",
        "colab": {
          "base_uri": "https://localhost:8080/"
        }
      },
      "execution_count": null,
      "outputs": [
        {
          "output_type": "execute_result",
          "data": {
            "text/plain": [
              "array([1, 2, 3, 4, 5])"
            ]
          },
          "metadata": {},
          "execution_count": 6
        }
      ]
    },
    {
      "cell_type": "code",
      "execution_count": null,
      "metadata": {
        "id": "_aYB9bIXixN-",
        "outputId": "facc6c2c-09ec-47b8-fec3-0848ef9c084d",
        "colab": {
          "base_uri": "https://localhost:8080/"
        }
      },
      "outputs": [
        {
          "output_type": "stream",
          "name": "stdout",
          "text": [
            "[1.  4.  5.3 8. ]\n",
            "<class 'numpy.float64'>\n"
          ]
        }
      ],
      "source": [
        "test_array = np.array([1,\"4\",5.3,8], float) # 생성할 리스트, 데이터 타입\n",
        "print(test_array)\n",
        "print(type(test_array[3]))\n",
        "\n",
        "# numpy의 np.array는 하나의 데이터 type만 넣을 수 있음"
      ]
    },
    {
      "cell_type": "markdown",
      "source": [
        "## NumPy array vs Python List\n",
        "\n",
        "* 파이썬 리스트는 데이터의 주소를 저장함\n",
        "\n",
        " * 값은 이미 정적인 공간에 들어가있고 그 값으로 접근하는 주소를 저장하는 개념\n",
        "\n",
        "* 넘파이 어레이는 값 자체를 저장해버림"
      ],
      "metadata": {
        "id": "nGhIGBZzQm95"
      }
    },
    {
      "cell_type": "code",
      "source": [
        "a[0] is b[-1]\n",
        "\n",
        "# a[0] == 1, b[-1] == 1이지만 각각 주소를 저장하기 때문에 True\n",
        "# 파이썬이 저장하는 1의 주소가 같다는 의미"
      ],
      "metadata": {
        "id": "VFuggSCvQlah",
        "outputId": "f72aa2c2-8595-4232-ce57-9e1617aa52d2",
        "colab": {
          "base_uri": "https://localhost:8080/"
        }
      },
      "execution_count": null,
      "outputs": [
        {
          "output_type": "execute_result",
          "data": {
            "text/plain": [
              "True"
            ]
          },
          "metadata": {},
          "execution_count": 13
        }
      ]
    },
    {
      "cell_type": "code",
      "source": [
        "a = np.array(a)\n",
        "b = np.array(b)\n",
        "a[1] is b[-2]\n",
        "\n",
        "# ndarray에서는 값 자체를 저장하고, 각 어레이가 다른 메모리에 할당돼있으므로 False"
      ],
      "metadata": {
        "id": "2f6PtfNcRpVy",
        "outputId": "73591b6b-a8b8-46a0-e2cf-32cc033e5202",
        "colab": {
          "base_uri": "https://localhost:8080/"
        }
      },
      "execution_count": null,
      "outputs": [
        {
          "output_type": "execute_result",
          "data": {
            "text/plain": [
              "False"
            ]
          },
          "metadata": {},
          "execution_count": 11
        }
      ]
    },
    {
      "cell_type": "markdown",
      "source": [
        "## shape, dtype\n",
        "\n",
        "* shape: numpy array의 dimension 구성을 반환\n",
        "\n",
        "* dtype: numpy array의 데이터 type 반환"
      ],
      "metadata": {
        "id": "LrQRMSmXSd3z"
      }
    },
    {
      "cell_type": "code",
      "source": [
        "test_array.dtype\n",
        "# ndarray는 모두 같은 타입을 가짐"
      ],
      "metadata": {
        "id": "gzeHiJ8TSSHj",
        "outputId": "678a29f5-3d28-48fe-96c8-5f757aa69d23",
        "colab": {
          "base_uri": "https://localhost:8080/"
        }
      },
      "execution_count": null,
      "outputs": [
        {
          "output_type": "execute_result",
          "data": {
            "text/plain": [
              "dtype('float64')"
            ]
          },
          "metadata": {},
          "execution_count": 15
        }
      ]
    },
    {
      "cell_type": "code",
      "source": [
        "a = [[1,2,3], [4,5,6], [4,5,6]]\n",
        "np.array(a).shape"
      ],
      "metadata": {
        "id": "gGVz2aVYSv_o",
        "outputId": "fd9bf4cd-3ba8-4b38-c6f9-b8060270559b",
        "colab": {
          "base_uri": "https://localhost:8080/"
        }
      },
      "execution_count": null,
      "outputs": [
        {
          "output_type": "execute_result",
          "data": {
            "text/plain": [
              "(3, 3)"
            ]
          },
          "metadata": {},
          "execution_count": 19
        }
      ]
    },
    {
      "cell_type": "markdown",
      "source": [
        "## reshape\n",
        "\n",
        "* array shape을 변경, element 갯수는 동일"
      ],
      "metadata": {
        "id": "Kq2-PUo9VDzi"
      }
    },
    {
      "cell_type": "code",
      "source": [
        "test_matrix = [[1,2,3,4], [1,2,5,8]]\n",
        "np.array(test_matrix).shape # 2*4 matrix"
      ],
      "metadata": {
        "id": "QLc5KL4QSwD6",
        "outputId": "4cbc2d89-37b3-47c9-b294-d35af403c056",
        "colab": {
          "base_uri": "https://localhost:8080/"
        }
      },
      "execution_count": null,
      "outputs": [
        {
          "output_type": "execute_result",
          "data": {
            "text/plain": [
              "(2, 4)"
            ]
          },
          "metadata": {},
          "execution_count": 20
        }
      ]
    },
    {
      "cell_type": "code",
      "source": [
        "np.array(test_matrix).reshape(8,) # 2행4열 행렬을 8행1열 벡터로 변환"
      ],
      "metadata": {
        "id": "box1Cn0uVmCj",
        "outputId": "ef4075cc-98e6-435d-ca44-138193816a93",
        "colab": {
          "base_uri": "https://localhost:8080/"
        }
      },
      "execution_count": null,
      "outputs": [
        {
          "output_type": "execute_result",
          "data": {
            "text/plain": [
              "array([1, 2, 3, 4, 1, 2, 5, 8])"
            ]
          },
          "metadata": {},
          "execution_count": 21
        }
      ]
    },
    {
      "cell_type": "code",
      "source": [
        "np.array(test_matrix).reshape(2,4)"
      ],
      "metadata": {
        "id": "65shr05dVz13",
        "outputId": "394da195-dbbd-43f9-a231-8ac9e41297f3",
        "colab": {
          "base_uri": "https://localhost:8080/"
        }
      },
      "execution_count": null,
      "outputs": [
        {
          "output_type": "execute_result",
          "data": {
            "text/plain": [
              "array([[1, 2, 3, 4],\n",
              "       [1, 2, 5, 8]])"
            ]
          },
          "metadata": {},
          "execution_count": 23
        }
      ]
    },
    {
      "cell_type": "code",
      "source": [
        "np.array(test_matrix).reshape(-1,2)\n",
        "# -1; size를 기반으로 row 개수 선정\n",
        "# 여기에선 전체 element = 8이고, reshape 열 개수를 2로 했으므로 \n",
        "# row를 4로 자동으로 선정"
      ],
      "metadata": {
        "id": "KQd1C2lGV5lF",
        "outputId": "b055c815-81c5-47b2-d0b7-6077f0baac3b",
        "colab": {
          "base_uri": "https://localhost:8080/"
        }
      },
      "execution_count": null,
      "outputs": [
        {
          "output_type": "execute_result",
          "data": {
            "text/plain": [
              "array([[1, 2],\n",
              "       [3, 4],\n",
              "       [1, 2],\n",
              "       [5, 8]])"
            ]
          },
          "metadata": {},
          "execution_count": 24
        }
      ]
    },
    {
      "cell_type": "code",
      "source": [
        "np.array(test_matrix).reshape(2,-1)\n",
        "# 열을 알아서 4개로 선정"
      ],
      "metadata": {
        "id": "iqxA_9E6WPRT",
        "outputId": "264dd044-a8b5-49cd-fcf2-10c3b94b5f12",
        "colab": {
          "base_uri": "https://localhost:8080/"
        }
      },
      "execution_count": null,
      "outputs": [
        {
          "output_type": "execute_result",
          "data": {
            "text/plain": [
              "array([[1, 2, 3, 4],\n",
              "       [1, 2, 5, 8]])"
            ]
          },
          "metadata": {},
          "execution_count": 25
        }
      ]
    },
    {
      "cell_type": "code",
      "source": [
        "np.array(test_matrix).reshape(2,2,2)\n",
        "# 3차원으로 재정렬"
      ],
      "metadata": {
        "id": "R9fKAeWWWUUu",
        "outputId": "d5e178e2-2d92-4849-8026-77df9ea66561",
        "colab": {
          "base_uri": "https://localhost:8080/"
        }
      },
      "execution_count": null,
      "outputs": [
        {
          "output_type": "execute_result",
          "data": {
            "text/plain": [
              "array([[[1, 2],\n",
              "        [3, 4]],\n",
              "\n",
              "       [[1, 2],\n",
              "        [5, 8]]])"
            ]
          },
          "metadata": {},
          "execution_count": 26
        }
      ]
    },
    {
      "cell_type": "code",
      "source": [
        "np.array(test_matrix).reshape(1,-1,2)\n",
        "# 열을 알아서 4개로 선정"
      ],
      "metadata": {
        "id": "R4uloizbWhV_",
        "outputId": "470c1672-2dc5-499a-8acf-ad449cc1e09d",
        "colab": {
          "base_uri": "https://localhost:8080/"
        }
      },
      "execution_count": null,
      "outputs": [
        {
          "output_type": "execute_result",
          "data": {
            "text/plain": [
              "array([[[1, 2],\n",
              "        [3, 4],\n",
              "        [1, 2],\n",
              "        [5, 8]]])"
            ]
          },
          "metadata": {},
          "execution_count": 27
        }
      ]
    },
    {
      "cell_type": "markdown",
      "source": [
        "## flatten\n",
        "\n",
        "* 다차원 array를 1차원 array로 변환"
      ],
      "metadata": {
        "id": "RdOwMaSwWxQO"
      }
    },
    {
      "cell_type": "code",
      "source": [
        "test_matrix = [[[1,2,3,4], [1,2,5,8]], [[1,2,3,4], [1,2,5,8]]] # 2,2,4 mat\n",
        "np.array(test_matrix).flatten()\n",
        "# 2,2,4 mat -> 16 열벡터"
      ],
      "metadata": {
        "id": "GhC4PdscW1XJ",
        "outputId": "8f10b33e-ab0c-403c-c7b9-f7e007d9b00a",
        "colab": {
          "base_uri": "https://localhost:8080/"
        }
      },
      "execution_count": null,
      "outputs": [
        {
          "output_type": "execute_result",
          "data": {
            "text/plain": [
              "(16,)"
            ]
          },
          "metadata": {},
          "execution_count": 31
        }
      ]
    },
    {
      "cell_type": "markdown",
      "source": [
        "## indexing"
      ],
      "metadata": {
        "id": "ZGYweCowXZZw"
      }
    },
    {
      "cell_type": "code",
      "source": [
        "a = np.array([[1,2,3], [4.5,5,6]], int)\n",
        "a"
      ],
      "metadata": {
        "id": "-9SS5QGdXkcm",
        "outputId": "2a7c25fb-1026-4098-8d45-d26b8d50aff7",
        "colab": {
          "base_uri": "https://localhost:8080/"
        }
      },
      "execution_count": null,
      "outputs": [
        {
          "output_type": "execute_result",
          "data": {
            "text/plain": [
              "array([[1, 2, 3],\n",
              "       [4, 5, 6]])"
            ]
          },
          "metadata": {},
          "execution_count": 32
        }
      ]
    },
    {
      "cell_type": "code",
      "source": [
        "print(a[0][2])\n",
        "print(a[0,2])"
      ],
      "metadata": {
        "id": "huDSH2-TXt3I",
        "outputId": "c488faac-9ffe-4ead-d433-cbaeeb7e855a",
        "colab": {
          "base_uri": "https://localhost:8080/"
        }
      },
      "execution_count": null,
      "outputs": [
        {
          "output_type": "stream",
          "name": "stdout",
          "text": [
            "3\n",
            "3\n"
          ]
        }
      ]
    },
    {
      "cell_type": "code",
      "source": [
        "a[0][0] = 10\n",
        "a"
      ],
      "metadata": {
        "id": "2Vw2udRqX1Pg",
        "outputId": "cb34aeea-78f4-4a0f-fe0b-d54bad578373",
        "colab": {
          "base_uri": "https://localhost:8080/"
        }
      },
      "execution_count": null,
      "outputs": [
        {
          "output_type": "execute_result",
          "data": {
            "text/plain": [
              "array([[10,  2,  3],\n",
              "       [ 4,  5,  6]])"
            ]
          },
          "metadata": {},
          "execution_count": 34
        }
      ]
    },
    {
      "cell_type": "code",
      "source": [
        "a[0,0] = 12\n",
        "a"
      ],
      "metadata": {
        "id": "IJJW4_jwX38g",
        "outputId": "a7298740-7129-400c-a0ef-1328668a51af",
        "colab": {
          "base_uri": "https://localhost:8080/"
        }
      },
      "execution_count": null,
      "outputs": [
        {
          "output_type": "execute_result",
          "data": {
            "text/plain": [
              "array([[12,  2,  3],\n",
              "       [ 4,  5,  6]])"
            ]
          },
          "metadata": {},
          "execution_count": 35
        }
      ]
    },
    {
      "cell_type": "markdown",
      "source": [
        "## slicing"
      ],
      "metadata": {
        "id": "nomd2bd8ZwP7"
      }
    },
    {
      "cell_type": "code",
      "source": [
        "a = np.array([[1,2,3,4,5], [4.5,5,6,62,5], [1,2,4,6,3], [5,3,6,7,8]], int)\n",
        "a"
      ],
      "metadata": {
        "id": "uJG4zagcaBO1",
        "outputId": "d3aef3d9-8d19-4a31-903b-c591e3ad7ccc",
        "colab": {
          "base_uri": "https://localhost:8080/"
        }
      },
      "execution_count": null,
      "outputs": [
        {
          "output_type": "execute_result",
          "data": {
            "text/plain": [
              "array([[ 1,  2,  3,  4,  5],\n",
              "       [ 4,  5,  6, 62,  5],\n",
              "       [ 1,  2,  4,  6,  3],\n",
              "       [ 5,  3,  6,  7,  8]])"
            ]
          },
          "metadata": {},
          "execution_count": 37
        }
      ]
    },
    {
      "cell_type": "code",
      "source": [
        "a[:,1] # 2번째 열만 추출"
      ],
      "metadata": {
        "id": "J3-tVa-SaI5s",
        "outputId": "f9a99248-b934-4788-caab-f2e423ef4150",
        "colab": {
          "base_uri": "https://localhost:8080/"
        }
      },
      "execution_count": null,
      "outputs": [
        {
          "output_type": "execute_result",
          "data": {
            "text/plain": [
              "array([2, 5, 2, 3])"
            ]
          },
          "metadata": {},
          "execution_count": 38
        }
      ]
    },
    {
      "cell_type": "code",
      "source": [
        "a[2:4,3:5]"
      ],
      "metadata": {
        "id": "PWOthhKlaP9g",
        "outputId": "dc2c2464-6592-41fa-c899-0d98b139bc8a",
        "colab": {
          "base_uri": "https://localhost:8080/"
        }
      },
      "execution_count": null,
      "outputs": [
        {
          "output_type": "execute_result",
          "data": {
            "text/plain": [
              "array([[6, 3],\n",
              "       [7, 8]])"
            ]
          },
          "metadata": {},
          "execution_count": 42
        }
      ]
    },
    {
      "cell_type": "code",
      "source": [
        "a[1] # 2번째 행만 추출"
      ],
      "metadata": {
        "id": "fNKSOHlWbFC5",
        "outputId": "ded7cc1e-45bd-4b6f-a325-750cbb8a31a9",
        "colab": {
          "base_uri": "https://localhost:8080/"
        }
      },
      "execution_count": null,
      "outputs": [
        {
          "output_type": "execute_result",
          "data": {
            "text/plain": [
              "array([ 4,  5,  6, 62,  5])"
            ]
          },
          "metadata": {},
          "execution_count": 43
        }
      ]
    },
    {
      "cell_type": "code",
      "source": [
        "a[:, ::2] # 2칸씩 뛰어서 추출"
      ],
      "metadata": {
        "id": "3iQiyc45beap",
        "outputId": "f4fbe7fa-02c3-4247-eb9c-9ea5d1991847",
        "colab": {
          "base_uri": "https://localhost:8080/"
        }
      },
      "execution_count": null,
      "outputs": [
        {
          "output_type": "execute_result",
          "data": {
            "text/plain": [
              "array([[1, 3, 5],\n",
              "       [4, 6, 5],\n",
              "       [1, 4, 3],\n",
              "       [5, 6, 8]])"
            ]
          },
          "metadata": {},
          "execution_count": 45
        }
      ]
    },
    {
      "cell_type": "code",
      "source": [
        "a[::2, ::3] # 2칸씩, 3칸씩 추출"
      ],
      "metadata": {
        "id": "09xTetyUbjOj",
        "outputId": "20341761-295a-43ad-e4ad-e46a4c5a6492",
        "colab": {
          "base_uri": "https://localhost:8080/"
        }
      },
      "execution_count": null,
      "outputs": [
        {
          "output_type": "execute_result",
          "data": {
            "text/plain": [
              "array([[1, 4],\n",
              "       [1, 6]])"
            ]
          },
          "metadata": {},
          "execution_count": 46
        }
      ]
    },
    {
      "cell_type": "markdown",
      "source": [
        "## creation function"
      ],
      "metadata": {
        "id": "YLf3zPQrbtYW"
      }
    },
    {
      "cell_type": "code",
      "source": [
        " # arange; array 범위를 지정하여 값의 list 생성\n",
        "\n",
        "np.arange(30) # list의 range와 같음"
      ],
      "metadata": {
        "id": "Ptoxuv8bbv5B",
        "outputId": "87033a43-a50d-4b05-aea3-aff605ce9c19",
        "colab": {
          "base_uri": "https://localhost:8080/"
        }
      },
      "execution_count": null,
      "outputs": [
        {
          "output_type": "execute_result",
          "data": {
            "text/plain": [
              "array([ 0,  1,  2,  3,  4,  5,  6,  7,  8,  9, 10, 11, 12, 13, 14, 15, 16,\n",
              "       17, 18, 19, 20, 21, 22, 23, 24, 25, 26, 27, 28, 29])"
            ]
          },
          "metadata": {},
          "execution_count": 48
        }
      ]
    },
    {
      "cell_type": "code",
      "source": [
        "np.arange(0, 5, 0.6) # 시작, 끝, step"
      ],
      "metadata": {
        "id": "MLZrHHWrb6Lb",
        "outputId": "35ccdfd1-9b98-4f5e-9037-6e11c154d66e",
        "colab": {
          "base_uri": "https://localhost:8080/"
        }
      },
      "execution_count": null,
      "outputs": [
        {
          "output_type": "execute_result",
          "data": {
            "text/plain": [
              "array([0. , 0.6, 1.2, 1.8, 2.4, 3. , 3.6, 4.2, 4.8])"
            ]
          },
          "metadata": {},
          "execution_count": 49
        }
      ]
    },
    {
      "cell_type": "code",
      "source": [
        "np.arange(30).reshape(5,6)"
      ],
      "metadata": {
        "id": "EvkDQdujcEIx",
        "outputId": "71e1b1d1-1597-482f-e465-c151cb66c564",
        "colab": {
          "base_uri": "https://localhost:8080/"
        }
      },
      "execution_count": null,
      "outputs": [
        {
          "output_type": "execute_result",
          "data": {
            "text/plain": [
              "array([[ 0,  1,  2,  3,  4,  5],\n",
              "       [ 6,  7,  8,  9, 10, 11],\n",
              "       [12, 13, 14, 15, 16, 17],\n",
              "       [18, 19, 20, 21, 22, 23],\n",
              "       [24, 25, 26, 27, 28, 29]])"
            ]
          },
          "metadata": {},
          "execution_count": 50
        }
      ]
    },
    {
      "cell_type": "code",
      "source": [
        "# ones, zeros and empty\n",
        "\n",
        "# zeros; 0만 있는 ndarray\n",
        "np.zeros(shape=(10,), dtype = np.int8)"
      ],
      "metadata": {
        "id": "oBgHIQUOcOVb",
        "outputId": "e49225e2-2410-4fac-b9fc-2f69cfafdc08",
        "colab": {
          "base_uri": "https://localhost:8080/"
        }
      },
      "execution_count": null,
      "outputs": [
        {
          "output_type": "execute_result",
          "data": {
            "text/plain": [
              "array([0, 0, 0, 0, 0, 0, 0, 0, 0, 0], dtype=int8)"
            ]
          },
          "metadata": {},
          "execution_count": 51
        }
      ]
    },
    {
      "cell_type": "code",
      "source": [
        "np.zeros((2,5)) # 2 by 5 mat"
      ],
      "metadata": {
        "id": "4kh2vWMlcauf",
        "outputId": "eb1aaaf0-f8be-4888-d439-18e96df228ab",
        "colab": {
          "base_uri": "https://localhost:8080/"
        }
      },
      "execution_count": null,
      "outputs": [
        {
          "output_type": "execute_result",
          "data": {
            "text/plain": [
              "array([[0., 0., 0., 0., 0.],\n",
              "       [0., 0., 0., 0., 0.]])"
            ]
          },
          "metadata": {},
          "execution_count": 52
        }
      ]
    },
    {
      "cell_type": "code",
      "source": [
        "# ones; 1만 있는 ndarray\n",
        "\n",
        "np.ones(shape = (10,), dtype = np.int8)"
      ],
      "metadata": {
        "id": "KVuQYwjUcf1q",
        "outputId": "089a15fe-85ef-4f6b-f53c-797136beca50",
        "colab": {
          "base_uri": "https://localhost:8080/"
        }
      },
      "execution_count": null,
      "outputs": [
        {
          "output_type": "execute_result",
          "data": {
            "text/plain": [
              "array([1, 1, 1, 1, 1, 1, 1, 1, 1, 1], dtype=int8)"
            ]
          },
          "metadata": {},
          "execution_count": 54
        }
      ]
    },
    {
      "cell_type": "code",
      "source": [
        "np.ones((2,5))"
      ],
      "metadata": {
        "id": "DZHwLedScqnq",
        "outputId": "fe666e37-668b-495f-cba8-6b064795090e",
        "colab": {
          "base_uri": "https://localhost:8080/"
        }
      },
      "execution_count": null,
      "outputs": [
        {
          "output_type": "execute_result",
          "data": {
            "text/plain": [
              "array([[1., 1., 1., 1., 1.],\n",
              "       [1., 1., 1., 1., 1.]])"
            ]
          },
          "metadata": {},
          "execution_count": 55
        }
      ]
    },
    {
      "cell_type": "code",
      "source": [
        "# empty; shape만 주어지고 값은 비어있는 ndarray 생성\n",
        "# 메모리만 잡고 값은 x, 이전에 할당된 값이 표현\n",
        "\n",
        "np.empty(shape = (10,), dtype = np.int8)"
      ],
      "metadata": {
        "id": "WsGCwk_tcxYb",
        "outputId": "43943f3b-6fab-43db-9b43-e4721d4cff40",
        "colab": {
          "base_uri": "https://localhost:8080/"
        }
      },
      "execution_count": null,
      "outputs": [
        {
          "output_type": "execute_result",
          "data": {
            "text/plain": [
              "array([1, 1, 1, 1, 1, 1, 1, 1, 1, 1], dtype=int8)"
            ]
          },
          "metadata": {},
          "execution_count": 56
        }
      ]
    },
    {
      "cell_type": "code",
      "source": [
        "np.empty((3,5))"
      ],
      "metadata": {
        "id": "Fev6ZGVudClr",
        "outputId": "dab6464b-2afa-4305-a527-5529f2431b87",
        "colab": {
          "base_uri": "https://localhost:8080/"
        }
      },
      "execution_count": null,
      "outputs": [
        {
          "output_type": "execute_result",
          "data": {
            "text/plain": [
              "array([[3.99432707e-316, 3.85371204e-322, 0.00000000e+000,\n",
              "        0.00000000e+000, 0.00000000e+000],\n",
              "       [1.50008929e+248, 4.31174539e-096, 9.80058441e+252,\n",
              "        1.23971686e+224, 1.05162657e-153],\n",
              "       [9.03292329e+271, 9.08366793e+223, 1.06244660e-153,\n",
              "        3.44981369e+175, 6.81019663e-310]])"
            ]
          },
          "metadata": {},
          "execution_count": 57
        }
      ]
    },
    {
      "cell_type": "code",
      "source": [
        "# something_like; ndarray의 shape 크기 만큼 1,0 또는 empty array 반환\n",
        "\n",
        "test_matrix = np.arange(30).reshape(5,6)\n",
        "np.empty_like(test_matrix)"
      ],
      "metadata": {
        "id": "9KwRYmfzdemO",
        "outputId": "4d7217d6-b1f9-490e-9f3e-4458f825225e",
        "colab": {
          "base_uri": "https://localhost:8080/"
        }
      },
      "execution_count": null,
      "outputs": [
        {
          "output_type": "execute_result",
          "data": {
            "text/plain": [
              "array([[   48858016,           0,           3,           0, 34359738373,\n",
              "                  0],\n",
              "       [          0, 17179869185,           0,           0,           0,\n",
              "                  0],\n",
              "       [          0,           0,           0,           0,           0,\n",
              "                  0],\n",
              "       [          0, 17179869185,           0,           0,           0,\n",
              "                  0],\n",
              "       [          0,           0,           0,    44302328,    79810944,\n",
              "                  0]])"
            ]
          },
          "metadata": {},
          "execution_count": 59
        }
      ]
    },
    {
      "cell_type": "code",
      "source": [
        "test_matrix = np.arange(30).reshape(5,6)\n",
        "np.ones_like(test_matrix)"
      ],
      "metadata": {
        "id": "c0oFMvZdewip",
        "outputId": "8e09f6dd-0d6d-4e07-878d-fffada7f43f3",
        "colab": {
          "base_uri": "https://localhost:8080/"
        }
      },
      "execution_count": null,
      "outputs": [
        {
          "output_type": "execute_result",
          "data": {
            "text/plain": [
              "array([[1, 1, 1, 1, 1, 1],\n",
              "       [1, 1, 1, 1, 1, 1],\n",
              "       [1, 1, 1, 1, 1, 1],\n",
              "       [1, 1, 1, 1, 1, 1],\n",
              "       [1, 1, 1, 1, 1, 1]])"
            ]
          },
          "metadata": {},
          "execution_count": 60
        }
      ]
    },
    {
      "cell_type": "markdown",
      "source": [
        "## identity\n",
        "\n",
        "단위행렬 생성"
      ],
      "metadata": {
        "id": "Gq5WQuxrfW2i"
      }
    },
    {
      "cell_type": "code",
      "source": [
        "np.identity(n=3, dtype = np.int8)"
      ],
      "metadata": {
        "id": "xGXtWiZJf81K",
        "outputId": "1fd80045-ef35-4a71-b4a4-83fac8a26fc0",
        "colab": {
          "base_uri": "https://localhost:8080/"
        }
      },
      "execution_count": null,
      "outputs": [
        {
          "output_type": "execute_result",
          "data": {
            "text/plain": [
              "array([[1, 0, 0],\n",
              "       [0, 1, 0],\n",
              "       [0, 0, 1]], dtype=int8)"
            ]
          },
          "metadata": {},
          "execution_count": 61
        }
      ]
    },
    {
      "cell_type": "markdown",
      "source": [
        "## eye\n",
        "\n",
        "대각선의 값이 1이고, k로 index 변경이 가능"
      ],
      "metadata": {
        "id": "_Y7CKbLjgSPg"
      }
    },
    {
      "cell_type": "code",
      "source": [
        "np.eye(3)"
      ],
      "metadata": {
        "id": "b8ubDZXygXH8",
        "outputId": "4a14be8e-2609-43f3-9056-353f715ac7ab",
        "colab": {
          "base_uri": "https://localhost:8080/"
        }
      },
      "execution_count": null,
      "outputs": [
        {
          "output_type": "execute_result",
          "data": {
            "text/plain": [
              "array([[1., 0., 0.],\n",
              "       [0., 1., 0.],\n",
              "       [0., 0., 1.]])"
            ]
          },
          "metadata": {},
          "execution_count": 62
        }
      ]
    },
    {
      "cell_type": "code",
      "source": [
        "np.eye(3, 5)"
      ],
      "metadata": {
        "id": "rLtjNo9xgghk",
        "outputId": "244fa895-b0e4-4d53-aace-7590a546fc32",
        "colab": {
          "base_uri": "https://localhost:8080/"
        }
      },
      "execution_count": null,
      "outputs": [
        {
          "output_type": "execute_result",
          "data": {
            "text/plain": [
              "array([[1., 0., 0., 0., 0.],\n",
              "       [0., 1., 0., 0., 0.],\n",
              "       [0., 0., 1., 0., 0.]])"
            ]
          },
          "metadata": {},
          "execution_count": 64
        }
      ]
    },
    {
      "cell_type": "code",
      "source": [
        "np.eye(3, 5, k=1)"
      ],
      "metadata": {
        "id": "cPCc3AUmggrh",
        "outputId": "fbda5d7d-f83d-4eae-c117-83cca670df40",
        "colab": {
          "base_uri": "https://localhost:8080/"
        }
      },
      "execution_count": null,
      "outputs": [
        {
          "output_type": "execute_result",
          "data": {
            "text/plain": [
              "array([[0., 1., 0., 0., 0.],\n",
              "       [0., 0., 1., 0., 0.],\n",
              "       [0., 0., 0., 1., 0.]])"
            ]
          },
          "metadata": {},
          "execution_count": 65
        }
      ]
    },
    {
      "cell_type": "code",
      "source": [
        "np.eye(3, 5, k=2)"
      ],
      "metadata": {
        "id": "Eg_QqFDSgdTq",
        "outputId": "940ae8de-71dc-4be3-caf3-b2c59cfce943",
        "colab": {
          "base_uri": "https://localhost:8080/"
        }
      },
      "execution_count": null,
      "outputs": [
        {
          "output_type": "execute_result",
          "data": {
            "text/plain": [
              "array([[0., 0., 1., 0., 0.],\n",
              "       [0., 0., 0., 1., 0.],\n",
              "       [0., 0., 0., 0., 1.]])"
            ]
          },
          "metadata": {},
          "execution_count": 63
        }
      ]
    },
    {
      "cell_type": "markdown",
      "source": [
        "## diag\n",
        "\n",
        "대각 행렬의 값을 추출, k로 index 조정"
      ],
      "metadata": {
        "id": "2O5c78n8g-ZU"
      }
    },
    {
      "cell_type": "code",
      "source": [
        "matrix = np.arange(9).reshape(3,3)\n",
        "print(matrix)\n",
        "print(np.diag(matrix))"
      ],
      "metadata": {
        "id": "a4Kd7IYjhAMm",
        "outputId": "1188d0b1-7e95-4d36-cf9b-4e14202714af",
        "colab": {
          "base_uri": "https://localhost:8080/"
        }
      },
      "execution_count": null,
      "outputs": [
        {
          "output_type": "stream",
          "name": "stdout",
          "text": [
            "[[0 1 2]\n",
            " [3 4 5]\n",
            " [6 7 8]]\n",
            "[0 4 8]\n"
          ]
        }
      ]
    },
    {
      "cell_type": "code",
      "source": [
        "matrix = np.arange(9).reshape(3,3)\n",
        "print(matrix)\n",
        "print(np.diag(matrix, k = 1))"
      ],
      "metadata": {
        "id": "83yrhf2nhRIS",
        "outputId": "212d4502-f55f-4e4a-9649-b24a3e510530",
        "colab": {
          "base_uri": "https://localhost:8080/"
        }
      },
      "execution_count": null,
      "outputs": [
        {
          "output_type": "stream",
          "name": "stdout",
          "text": [
            "[[0 1 2]\n",
            " [3 4 5]\n",
            " [6 7 8]]\n",
            "[1 5]\n"
          ]
        }
      ]
    },
    {
      "cell_type": "markdown",
      "source": [],
      "metadata": {
        "id": "Npkojmhajp_v"
      }
    },
    {
      "cell_type": "markdown",
      "source": [
        "## random sampling\n",
        "\n",
        "데이터 분포에 따른 sampling으로 array 생성"
      ],
      "metadata": {
        "id": "C5ZevqAxh_X-"
      }
    },
    {
      "cell_type": "code",
      "source": [
        "np.random.uniform(0,1,10).reshape(2,5)"
      ],
      "metadata": {
        "id": "_S6i4PthiDsl",
        "outputId": "9d1acb43-2652-43fe-b695-4cdedfb1c686",
        "colab": {
          "base_uri": "https://localhost:8080/"
        }
      },
      "execution_count": null,
      "outputs": [
        {
          "output_type": "execute_result",
          "data": {
            "text/plain": [
              "array([[0.63642901, 0.70917155, 0.94367368, 0.02670333, 0.44726251],\n",
              "       [0.35980325, 0.92190251, 0.38038028, 0.67924035, 0.34001774]])"
            ]
          },
          "metadata": {},
          "execution_count": 70
        }
      ]
    },
    {
      "cell_type": "code",
      "source": [
        "np.random.normal(0,1,10).reshape(2,5)"
      ],
      "metadata": {
        "id": "CN1L9UOAiKPw",
        "outputId": "4cf3f1bf-b1d0-4b8e-8418-16652c268535",
        "colab": {
          "base_uri": "https://localhost:8080/"
        }
      },
      "execution_count": null,
      "outputs": [
        {
          "output_type": "execute_result",
          "data": {
            "text/plain": [
              "array([[-0.56585113,  0.32985024, -0.01195053,  0.74610163,  0.52741899],\n",
              "       [ 0.134003  , -0.25648522, -0.5567959 , -1.6608065 ,  0.21276222]])"
            ]
          },
          "metadata": {},
          "execution_count": 71
        }
      ]
    },
    {
      "cell_type": "code",
      "source": [
        "np.random.exponential(scale = 2, size = 100)"
      ],
      "metadata": {
        "id": "C2O9is8ZGnv2",
        "outputId": "f95dbbb8-9442-4ee2-b4a8-e3bbee3049de",
        "colab": {
          "base_uri": "https://localhost:8080/"
        }
      },
      "execution_count": 2,
      "outputs": [
        {
          "output_type": "execute_result",
          "data": {
            "text/plain": [
              "array([1.86657287e+00, 5.36916920e-01, 1.08927591e+00, 3.96459475e+00,\n",
              "       7.91131250e-01, 6.57956870e-01, 5.07354720e+00, 1.24089300e+00,\n",
              "       3.21657351e+00, 1.21917570e+00, 7.44380510e-01, 6.46621218e+00,\n",
              "       1.77965718e+00, 2.06892407e+00, 9.91215464e-02, 2.89284599e-01,\n",
              "       1.67519693e+00, 1.67722642e+00, 5.19980731e-01, 1.07652293e+01,\n",
              "       8.92526193e-02, 1.83246366e+00, 1.02827683e+01, 2.49790493e+00,\n",
              "       1.82002319e+00, 1.38685034e+00, 7.73432166e-02, 7.39346657e-01,\n",
              "       9.42868999e+00, 4.14708871e+00, 1.56088974e+00, 7.83827240e-01,\n",
              "       7.38821478e-01, 2.90286563e-01, 1.66279425e+00, 3.51522922e+00,\n",
              "       5.65046456e-01, 2.43471866e+00, 1.93467376e+00, 9.22679750e-01,\n",
              "       2.49761145e+00, 1.21153413e+00, 3.95830352e-02, 1.88889021e+00,\n",
              "       3.92336292e-02, 1.46636859e+00, 1.46437720e-01, 8.06963051e+00,\n",
              "       1.22653150e+00, 2.02127101e+00, 3.75959981e-02, 2.50009854e+00,\n",
              "       1.04122376e+00, 3.02606719e+00, 2.63507445e+00, 8.94317461e-02,\n",
              "       1.58037088e+00, 1.07883172e+00, 1.31981089e+00, 3.56595659e+00,\n",
              "       5.00614715e-01, 8.17413457e+00, 9.29347836e-03, 1.20755967e+00,\n",
              "       1.76212754e+00, 3.09339766e+00, 3.41657225e-01, 5.87234393e+00,\n",
              "       1.75701179e-01, 3.41172214e+00, 9.27029778e-01, 6.01347575e-02,\n",
              "       1.19147716e+00, 1.87200526e-01, 1.65664283e+00, 3.14584312e+00,\n",
              "       1.11662182e+01, 2.22134900e+00, 1.00628141e-01, 6.83717016e+00,\n",
              "       1.89246379e+00, 3.00914099e+00, 7.92517399e-01, 1.69459355e+00,\n",
              "       5.30886184e+00, 3.36961113e+00, 4.26888870e+00, 4.49119255e-01,\n",
              "       8.30227543e-01, 1.80622008e+00, 2.19251756e-01, 7.54265520e+00,\n",
              "       2.01773815e+00, 1.79619354e+00, 1.56943616e+00, 7.06009495e-01,\n",
              "       4.87266332e-01, 7.18814685e+00, 1.93069081e+01, 3.22695397e+00])"
            ]
          },
          "metadata": {},
          "execution_count": 2
        }
      ]
    },
    {
      "cell_type": "markdown",
      "source": [
        "# operation functions"
      ],
      "metadata": {
        "id": "9ORUfBdbG0ZP"
      }
    },
    {
      "cell_type": "markdown",
      "source": [
        "## sum\n",
        "\n",
        "* ndarray의 element 간의 합을 구함, list sum과 동일"
      ],
      "metadata": {
        "id": "wU-vND2aG5UM"
      }
    },
    {
      "cell_type": "code",
      "source": [
        "test_array = np.arange(1,11)\n",
        "test_array"
      ],
      "metadata": {
        "id": "J7lG6N8AG-os",
        "outputId": "b6a142bb-6aef-48a7-d695-04c9b485d501",
        "colab": {
          "base_uri": "https://localhost:8080/"
        }
      },
      "execution_count": 3,
      "outputs": [
        {
          "output_type": "execute_result",
          "data": {
            "text/plain": [
              "array([ 1,  2,  3,  4,  5,  6,  7,  8,  9, 10])"
            ]
          },
          "metadata": {},
          "execution_count": 3
        }
      ]
    },
    {
      "cell_type": "code",
      "source": [
        "test_array.sum()\n",
        "# np의 sum()"
      ],
      "metadata": {
        "id": "aZjse2VzHEhX",
        "outputId": "56060576-68af-4419-bd6f-1d3e063499e9",
        "colab": {
          "base_uri": "https://localhost:8080/"
        }
      },
      "execution_count": 4,
      "outputs": [
        {
          "output_type": "execute_result",
          "data": {
            "text/plain": [
              "55"
            ]
          },
          "metadata": {},
          "execution_count": 4
        }
      ]
    },
    {
      "cell_type": "code",
      "source": [
        "sum(test_array)\n",
        "# list sum과 결과 똑같"
      ],
      "metadata": {
        "id": "VQOVM7F-HL16",
        "outputId": "5cff8090-99fa-46bf-b0ca-44a74ada4c31",
        "colab": {
          "base_uri": "https://localhost:8080/"
        }
      },
      "execution_count": 5,
      "outputs": [
        {
          "output_type": "execute_result",
          "data": {
            "text/plain": [
              "55"
            ]
          },
          "metadata": {},
          "execution_count": 5
        }
      ]
    },
    {
      "cell_type": "markdown",
      "source": [
        "## axis\n",
        "\n",
        "* 모든 operation func. 실행 시 기준이 되는 dimension 축\n",
        "\n",
        "* 데이터 삽입 시 가장 최근 데이터의 rank가 뒤로 밀림\n",
        "\n",
        "* 3 by 4 mat 생성 시 3; axis 0 // 4; axis 1"
      ],
      "metadata": {
        "id": "djVdnjYiHVoJ"
      }
    },
    {
      "cell_type": "code",
      "source": [
        "test_array = np.arange(1,13).reshape(3,4)\n",
        "test_array"
      ],
      "metadata": {
        "id": "_I5lQNX8HTN4",
        "outputId": "733e9c32-f325-4b5f-967f-642f5d7bef97",
        "colab": {
          "base_uri": "https://localhost:8080/"
        }
      },
      "execution_count": 6,
      "outputs": [
        {
          "output_type": "execute_result",
          "data": {
            "text/plain": [
              "array([[ 1,  2,  3,  4],\n",
              "       [ 5,  6,  7,  8],\n",
              "       [ 9, 10, 11, 12]])"
            ]
          },
          "metadata": {},
          "execution_count": 6
        }
      ]
    },
    {
      "cell_type": "code",
      "source": [
        "test_array.sum(axis = 0)\n",
        "# axis = 0이므로 행끼리 합함"
      ],
      "metadata": {
        "id": "V0Kpn1E-H2Ba",
        "outputId": "a637738e-2c3a-43a9-96a0-dbca75f88fc3",
        "colab": {
          "base_uri": "https://localhost:8080/"
        }
      },
      "execution_count": 7,
      "outputs": [
        {
          "output_type": "execute_result",
          "data": {
            "text/plain": [
              "array([15, 18, 21, 24])"
            ]
          },
          "metadata": {},
          "execution_count": 7
        }
      ]
    },
    {
      "cell_type": "code",
      "source": [
        "test_array.sum(axis = 1)"
      ],
      "metadata": {
        "id": "WwWqrgHHIIK_",
        "outputId": "178a1f69-759a-4797-f50c-7badffc44f45",
        "colab": {
          "base_uri": "https://localhost:8080/"
        }
      },
      "execution_count": 8,
      "outputs": [
        {
          "output_type": "execute_result",
          "data": {
            "text/plain": [
              "array([10, 26, 42])"
            ]
          },
          "metadata": {},
          "execution_count": 8
        }
      ]
    },
    {
      "cell_type": "code",
      "source": [
        "third_order_tensor = np.array([test_array, test_array, test_array, test_array, test_array])\n",
        "third_order_tensor\n",
        "# 5 by 3 by 4 mat\n",
        "# 3 by 4를 5개 합쳐놓은 꼴이므로\n",
        "# axis = 0 -> 5\n",
        "# axis = 1 -> 3\n",
        "# axis = 2 -> 4"
      ],
      "metadata": {
        "id": "3QxVH838IMn-",
        "outputId": "29974b0a-935f-412b-fb78-12fd9f457213",
        "colab": {
          "base_uri": "https://localhost:8080/"
        }
      },
      "execution_count": 11,
      "outputs": [
        {
          "output_type": "execute_result",
          "data": {
            "text/plain": [
              "array([[[ 1,  2,  3,  4],\n",
              "        [ 5,  6,  7,  8],\n",
              "        [ 9, 10, 11, 12]],\n",
              "\n",
              "       [[ 1,  2,  3,  4],\n",
              "        [ 5,  6,  7,  8],\n",
              "        [ 9, 10, 11, 12]],\n",
              "\n",
              "       [[ 1,  2,  3,  4],\n",
              "        [ 5,  6,  7,  8],\n",
              "        [ 9, 10, 11, 12]],\n",
              "\n",
              "       [[ 1,  2,  3,  4],\n",
              "        [ 5,  6,  7,  8],\n",
              "        [ 9, 10, 11, 12]],\n",
              "\n",
              "       [[ 1,  2,  3,  4],\n",
              "        [ 5,  6,  7,  8],\n",
              "        [ 9, 10, 11, 12]]])"
            ]
          },
          "metadata": {},
          "execution_count": 11
        }
      ]
    },
    {
      "cell_type": "code",
      "source": [
        "third_order_tensor.sum(axis = 0)"
      ],
      "metadata": {
        "id": "J1ZzL7K4Itjs",
        "outputId": "1958ebf4-7cad-4cc2-ef29-ecddbbaba863",
        "colab": {
          "base_uri": "https://localhost:8080/"
        }
      },
      "execution_count": 12,
      "outputs": [
        {
          "output_type": "execute_result",
          "data": {
            "text/plain": [
              "array([[ 5, 10, 15, 20],\n",
              "       [25, 30, 35, 40],\n",
              "       [45, 50, 55, 60]])"
            ]
          },
          "metadata": {},
          "execution_count": 12
        }
      ]
    },
    {
      "cell_type": "code",
      "source": [
        "third_order_tensor.sum(axis = 1)"
      ],
      "metadata": {
        "id": "hI1N4kt5I8vA",
        "outputId": "f54746cb-4297-4127-82e1-d712faacfc16",
        "colab": {
          "base_uri": "https://localhost:8080/"
        }
      },
      "execution_count": 13,
      "outputs": [
        {
          "output_type": "execute_result",
          "data": {
            "text/plain": [
              "array([[15, 18, 21, 24],\n",
              "       [15, 18, 21, 24],\n",
              "       [15, 18, 21, 24],\n",
              "       [15, 18, 21, 24],\n",
              "       [15, 18, 21, 24]])"
            ]
          },
          "metadata": {},
          "execution_count": 13
        }
      ]
    },
    {
      "cell_type": "code",
      "source": [
        "third_order_tensor.sum(axis = 2)"
      ],
      "metadata": {
        "id": "nQD7dgP0JAyM",
        "outputId": "da1e0e40-ce82-4415-af16-f14b9a9bc732",
        "colab": {
          "base_uri": "https://localhost:8080/"
        }
      },
      "execution_count": 14,
      "outputs": [
        {
          "output_type": "execute_result",
          "data": {
            "text/plain": [
              "array([[10, 26, 42],\n",
              "       [10, 26, 42],\n",
              "       [10, 26, 42],\n",
              "       [10, 26, 42],\n",
              "       [10, 26, 42]])"
            ]
          },
          "metadata": {},
          "execution_count": 14
        }
      ]
    },
    {
      "cell_type": "markdown",
      "source": [
        "## mean & std"
      ],
      "metadata": {
        "id": "xNg3tLaLJJDk"
      }
    },
    {
      "cell_type": "code",
      "source": [
        "test_array = np.arange(1,13).reshape(3,4)\n",
        "test_array"
      ],
      "metadata": {
        "id": "quInkgF4JKvo",
        "outputId": "d7e98dbd-32da-4eed-8034-f744f3d6c03d",
        "colab": {
          "base_uri": "https://localhost:8080/"
        }
      },
      "execution_count": 19,
      "outputs": [
        {
          "output_type": "execute_result",
          "data": {
            "text/plain": [
              "array([[ 1,  2,  3,  4],\n",
              "       [ 5,  6,  7,  8],\n",
              "       [ 9, 10, 11, 12]])"
            ]
          },
          "metadata": {},
          "execution_count": 19
        }
      ]
    },
    {
      "cell_type": "code",
      "source": [
        "test_array.mean(axis=1)"
      ],
      "metadata": {
        "id": "AJAkE4P8JOf4",
        "outputId": "58689538-4e08-43ab-e8a4-b8490b74383a",
        "colab": {
          "base_uri": "https://localhost:8080/"
        }
      },
      "execution_count": 20,
      "outputs": [
        {
          "output_type": "execute_result",
          "data": {
            "text/plain": [
              "array([ 2.5,  6.5, 10.5])"
            ]
          },
          "metadata": {},
          "execution_count": 20
        }
      ]
    },
    {
      "cell_type": "code",
      "source": [
        "test_array.std(axis=1), test_array.std(axis=0)"
      ],
      "metadata": {
        "id": "p7upi_8lJbm4",
        "outputId": "5e4c2d12-e8b9-4337-f05d-350f86628b5e",
        "colab": {
          "base_uri": "https://localhost:8080/"
        }
      },
      "execution_count": 21,
      "outputs": [
        {
          "output_type": "execute_result",
          "data": {
            "text/plain": [
              "(array([1.11803399, 1.11803399, 1.11803399]),\n",
              " array([3.26598632, 3.26598632, 3.26598632, 3.26598632]))"
            ]
          },
          "metadata": {},
          "execution_count": 21
        }
      ]
    },
    {
      "cell_type": "markdown",
      "source": [
        "## concatenate & stack\n",
        "\n",
        "* numpy array를 합치는(붙이는) 함수"
      ],
      "metadata": {
        "id": "OjasAyBHJjpy"
      }
    },
    {
      "cell_type": "code",
      "source": [
        "a = np.array([1,2,3])\n",
        "b = np.array([2,3,4])\n",
        "# 1 by 3 vec\n",
        "\n",
        "\n",
        "np.vstack((a,b))\n",
        "# 2 by 3 mat"
      ],
      "metadata": {
        "id": "0D8AtW99JnTm",
        "outputId": "67240196-a275-4dcb-ff3d-17e8977bf365",
        "colab": {
          "base_uri": "https://localhost:8080/"
        }
      },
      "execution_count": 24,
      "outputs": [
        {
          "output_type": "execute_result",
          "data": {
            "text/plain": [
              "array([[1, 2, 3],\n",
              "       [2, 3, 4]])"
            ]
          },
          "metadata": {},
          "execution_count": 24
        }
      ]
    },
    {
      "cell_type": "code",
      "source": [
        "a = np.array([[1], [2], [3]])\n",
        "b = np.array([[2], [3], [4]])\n",
        "# 3 by 1 vec\n",
        "\n",
        "\n",
        "np.hstack((a,b))\n",
        "# 3 by 2 mat"
      ],
      "metadata": {
        "id": "SUmIE1clMKtY",
        "outputId": "41260f84-f075-4359-e30b-f5ded73ce4a3",
        "colab": {
          "base_uri": "https://localhost:8080/"
        }
      },
      "execution_count": 26,
      "outputs": [
        {
          "output_type": "execute_result",
          "data": {
            "text/plain": [
              "array([[1, 2],\n",
              "       [2, 3],\n",
              "       [3, 4]])"
            ]
          },
          "metadata": {},
          "execution_count": 26
        }
      ]
    },
    {
      "cell_type": "code",
      "source": [
        "a = np.array([[1,2,3]])\n",
        "b = np.array([[2,3,4]])\n",
        "# 1 by 3 vec\n",
        "\n",
        "# concatenate()는 axis를 설정해줄 수 있음\n",
        "# 이해하기 쉬우려면 붙인 결과 기준으로 0은 행, 1은 열로 붙이는 것\n",
        "\n",
        "np.concatenate((a,b), axis=0)\n",
        "# axis = 0이므로 1by3의 1이 기준이므로 행으로 쌓음"
      ],
      "metadata": {
        "id": "B_5wP-K-Mlwx",
        "outputId": "00dae9b3-daf1-4ce9-91e2-81473e0c17c7",
        "colab": {
          "base_uri": "https://localhost:8080/"
        }
      },
      "execution_count": 31,
      "outputs": [
        {
          "output_type": "execute_result",
          "data": {
            "text/plain": [
              "array([[1, 2, 3],\n",
              "       [2, 3, 4]])"
            ]
          },
          "metadata": {},
          "execution_count": 31
        }
      ]
    },
    {
      "cell_type": "code",
      "source": [
        "a = np.array([[1,2], [3,4]]) # 2x2\n",
        "b = np.array([5,6])          # 1x2\n",
        "\n",
        "print(a.shape)\n",
        "print(b.shape) # 형태가 (2,)라서 연산이 불가, \n",
        "\n",
        "b = b[np.newaxis, :] # np.newaxis로 디멘션 추가\n",
        "print(b.shape) # 형태가 (1,2)로 수정됨\n",
        "\n",
        "# 아니면 아래 셀처럼 처음부터 [[5,6]]으로 생성하는 방법도 있음"
      ],
      "metadata": {
        "id": "cJdgK60qOOFm",
        "outputId": "71fe60d4-8be0-427d-963a-a11cb5395327",
        "colab": {
          "base_uri": "https://localhost:8080/"
        }
      },
      "execution_count": 43,
      "outputs": [
        {
          "output_type": "stream",
          "name": "stdout",
          "text": [
            "(2, 2)\n",
            "(2,)\n",
            "(1, 2)\n"
          ]
        }
      ]
    },
    {
      "cell_type": "code",
      "source": [
        "a = np.array([[1,2], [3,4]]) # 2x2\n",
        "b = np.array([[5,6]])        # 1x2\n",
        "\n",
        "np.concatenate((a,b.T), axis=1)\n",
        "# 2x2와 1x2를 붙이려니 안붙음 -> b.T 연산으로 맞춰줌"
      ],
      "metadata": {
        "id": "c3bEwUlmM7wL",
        "outputId": "764fc84c-8cbc-47ce-b037-78daa4ef4384",
        "colab": {
          "base_uri": "https://localhost:8080/"
        }
      },
      "execution_count": 33,
      "outputs": [
        {
          "output_type": "execute_result",
          "data": {
            "text/plain": [
              "array([[1, 2, 5],\n",
              "       [3, 4, 6]])"
            ]
          },
          "metadata": {},
          "execution_count": 33
        }
      ]
    },
    {
      "cell_type": "markdown",
      "source": [
        "## operations b/t arrays\n",
        "\n",
        "* array 간의 사칙연산"
      ],
      "metadata": {
        "id": "0RgNa4S6OuWn"
      }
    },
    {
      "cell_type": "code",
      "source": [
        "test_a = np.array([[1,2,3], [4,5,6]], float)\n",
        "test_a\n",
        "# 2by3 mat"
      ],
      "metadata": {
        "id": "wgSXHyXDPSqn",
        "outputId": "19fae8be-8e4f-40c2-ef75-7d37a7542cff",
        "colab": {
          "base_uri": "https://localhost:8080/"
        }
      },
      "execution_count": 51,
      "outputs": [
        {
          "output_type": "execute_result",
          "data": {
            "text/plain": [
              "array([[1., 2., 3.],\n",
              "       [4., 5., 6.]])"
            ]
          },
          "metadata": {},
          "execution_count": 51
        }
      ]
    },
    {
      "cell_type": "code",
      "source": [
        "test_a + test_a"
      ],
      "metadata": {
        "id": "-ec-7jP8PcYD",
        "outputId": "eec96242-3f4c-4fef-c157-df3b09a2395b",
        "colab": {
          "base_uri": "https://localhost:8080/"
        }
      },
      "execution_count": 52,
      "outputs": [
        {
          "output_type": "execute_result",
          "data": {
            "text/plain": [
              "array([[ 2.,  4.,  6.],\n",
              "       [ 8., 10., 12.]])"
            ]
          },
          "metadata": {},
          "execution_count": 52
        }
      ]
    },
    {
      "cell_type": "code",
      "source": [
        "test_a - test_a"
      ],
      "metadata": {
        "id": "Zx0rhbkfPsPj",
        "outputId": "ed00a7b5-e23a-476a-e785-a94a123b8d72",
        "colab": {
          "base_uri": "https://localhost:8080/"
        }
      },
      "execution_count": 53,
      "outputs": [
        {
          "output_type": "execute_result",
          "data": {
            "text/plain": [
              "array([[0., 0., 0.],\n",
              "       [0., 0., 0.]])"
            ]
          },
          "metadata": {},
          "execution_count": 53
        }
      ]
    },
    {
      "cell_type": "code",
      "source": [
        "test_a * test_a\n",
        "# 행렬곱이 아니고 같은 위치의 element 간의 연산\n",
        "# (1,1)에 위치한 1과 1의 곱\n",
        "# (2,3)에 위치한 6과 6의 곱"
      ],
      "metadata": {
        "id": "_x5hE1lePuSj",
        "outputId": "db42d720-7a84-41a1-86fa-46fbe8dc4f3b",
        "colab": {
          "base_uri": "https://localhost:8080/"
        }
      },
      "execution_count": 54,
      "outputs": [
        {
          "output_type": "execute_result",
          "data": {
            "text/plain": [
              "array([[ 1.,  4.,  9.],\n",
              "       [16., 25., 36.]])"
            ]
          },
          "metadata": {},
          "execution_count": 54
        }
      ]
    },
    {
      "cell_type": "markdown",
      "source": [
        "## dotproduct(), 행렬곱"
      ],
      "metadata": {
        "id": "kHoHRJT4Qfcw"
      }
    },
    {
      "cell_type": "code",
      "source": [
        "test_a @ test_a.T\n",
        "# 행렬곱은 @로 연산"
      ],
      "metadata": {
        "id": "JKy8UMjZP5oN",
        "outputId": "040dfeb4-f0ce-4092-96bb-1bf702d81454",
        "colab": {
          "base_uri": "https://localhost:8080/"
        }
      },
      "execution_count": 55,
      "outputs": [
        {
          "output_type": "execute_result",
          "data": {
            "text/plain": [
              "array([[14., 32.],\n",
              "       [32., 77.]])"
            ]
          },
          "metadata": {},
          "execution_count": 55
        }
      ]
    },
    {
      "cell_type": "code",
      "source": [
        "test_a = np.arange(1,7).reshape(2,3)\n",
        "test_b = np.arange(7,13).reshape(3,2)\n",
        "\n",
        "# dot() 연산으로도 행렬곱 가능\n",
        "test_a.dot(test_b)"
      ],
      "metadata": {
        "id": "G21FOFSEQMpk",
        "outputId": "539adef9-8022-4ce2-9e0d-c930788024ee",
        "colab": {
          "base_uri": "https://localhost:8080/"
        }
      },
      "execution_count": 57,
      "outputs": [
        {
          "output_type": "execute_result",
          "data": {
            "text/plain": [
              "array([[ 58,  64],\n",
              "       [139, 154]])"
            ]
          },
          "metadata": {},
          "execution_count": 57
        }
      ]
    },
    {
      "cell_type": "markdown",
      "source": [
        "## transpose"
      ],
      "metadata": {
        "id": "bf4GfO8HQi_Y"
      }
    },
    {
      "cell_type": "code",
      "source": [
        "test_a = np.arange(1,7).reshape(2,3)\n",
        "test_a"
      ],
      "metadata": {
        "id": "Tv5oxqLDQoGt",
        "outputId": "49ddd867-c3dc-4b98-86dc-7dc4b06a539f",
        "colab": {
          "base_uri": "https://localhost:8080/"
        }
      },
      "execution_count": 58,
      "outputs": [
        {
          "output_type": "execute_result",
          "data": {
            "text/plain": [
              "array([[1, 2, 3],\n",
              "       [4, 5, 6]])"
            ]
          },
          "metadata": {},
          "execution_count": 58
        }
      ]
    },
    {
      "cell_type": "code",
      "source": [
        "test_a.T"
      ],
      "metadata": {
        "id": "kjA2m_R_QsCh",
        "outputId": "707f4dce-ef45-41a4-9be9-695338551654",
        "colab": {
          "base_uri": "https://localhost:8080/"
        }
      },
      "execution_count": 59,
      "outputs": [
        {
          "output_type": "execute_result",
          "data": {
            "text/plain": [
              "array([[1, 4],\n",
              "       [2, 5],\n",
              "       [3, 6]])"
            ]
          },
          "metadata": {},
          "execution_count": 59
        }
      ]
    },
    {
      "cell_type": "code",
      "source": [
        "test_a.transpose()"
      ],
      "metadata": {
        "id": "hP2A4HKAQtU_",
        "outputId": "6da17367-f615-4bd6-e514-e1857d997861",
        "colab": {
          "base_uri": "https://localhost:8080/"
        }
      },
      "execution_count": 60,
      "outputs": [
        {
          "output_type": "execute_result",
          "data": {
            "text/plain": [
              "array([[1, 4],\n",
              "       [2, 5],\n",
              "       [3, 6]])"
            ]
          },
          "metadata": {},
          "execution_count": 60
        }
      ]
    },
    {
      "cell_type": "markdown",
      "source": [
        "## broadcasting\n",
        "\n",
        "* shape이 다른 배열 간의 연산을 지원\n",
        "\n",
        "* vec-scalar 뿐만 아니고 vec-mat 연산도 지원\n",
        "\n",
        "* shape이 달라도 그냥 구조를 확장시켜서 shape을 맞춰버리는 연산이므로 주의 필요!!"
      ],
      "metadata": {
        "id": "ONzBctjvRP8-"
      }
    },
    {
      "cell_type": "code",
      "source": [
        "test_mat = np.array([[1,2,3], [4,5,6]], float)\n",
        "print(test_mat)\n",
        "\n",
        "scalar = 3"
      ],
      "metadata": {
        "id": "dhxmdxosRQ72",
        "outputId": "cdb196bd-9f43-4ace-9c8a-8b3a8d5c26bc",
        "colab": {
          "base_uri": "https://localhost:8080/"
        }
      },
      "execution_count": 64,
      "outputs": [
        {
          "output_type": "stream",
          "name": "stdout",
          "text": [
            "[[1. 2. 3.]\n",
            " [4. 5. 6.]]\n"
          ]
        }
      ]
    },
    {
      "cell_type": "code",
      "source": [
        "test_mat + scalar\n",
        "# 차원이 달라도 스칼라에 해당하는 값을 test_mat의 모든 칸에 연산함"
      ],
      "metadata": {
        "id": "y5XbmtovRcxV",
        "outputId": "0a934f11-538d-4cae-aad2-303ba0d3c827",
        "colab": {
          "base_uri": "https://localhost:8080/"
        }
      },
      "execution_count": 65,
      "outputs": [
        {
          "output_type": "execute_result",
          "data": {
            "text/plain": [
              "array([[4., 5., 6.],\n",
              "       [7., 8., 9.]])"
            ]
          },
          "metadata": {},
          "execution_count": 65
        }
      ]
    },
    {
      "cell_type": "code",
      "source": [
        "test_mat = np.arange(1,13).reshape(4,3)\n",
        "test_vec = np.arange(10,40,10)\n",
        "# 4yb3 mat와 1by3 vec\n",
        "\n",
        "print(test_mat, \"\\n\", test_vec)"
      ],
      "metadata": {
        "id": "CsnpuL5VRZlh",
        "outputId": "fd14dd41-4b7f-4e9d-805d-7b7d1190e2ba",
        "colab": {
          "base_uri": "https://localhost:8080/"
        }
      },
      "execution_count": 67,
      "outputs": [
        {
          "output_type": "stream",
          "name": "stdout",
          "text": [
            "[[ 1  2  3]\n",
            " [ 4  5  6]\n",
            " [ 7  8  9]\n",
            " [10 11 12]] \n",
            " [10 20 30]\n"
          ]
        }
      ]
    },
    {
      "cell_type": "code",
      "source": [
        "test_mat + test_vec\n",
        "# 둘을 더해버리면 test_vec를 강제로 4by3 mat으로 확장시킨 뒤 연산해버림"
      ],
      "metadata": {
        "id": "OSkTsgAkSVgK",
        "outputId": "426e9060-1b20-4188-f65c-1740bc9663fb",
        "colab": {
          "base_uri": "https://localhost:8080/"
        }
      },
      "execution_count": 68,
      "outputs": [
        {
          "output_type": "execute_result",
          "data": {
            "text/plain": [
              "array([[11, 22, 33],\n",
              "       [14, 25, 36],\n",
              "       [17, 28, 39],\n",
              "       [20, 31, 42]])"
            ]
          },
          "metadata": {},
          "execution_count": 68
        }
      ]
    },
    {
      "cell_type": "markdown",
      "source": [
        "# comparisions"
      ],
      "metadata": {
        "id": "ViM6Y4KWTZA8"
      }
    },
    {
      "cell_type": "markdown",
      "source": [
        "## all & any"
      ],
      "metadata": {
        "id": "HNxoowBRTgQo"
      }
    },
    {
      "cell_type": "code",
      "source": [
        "a = np.arange(10)\n",
        "a"
      ],
      "metadata": {
        "id": "fObMgxRPThXo",
        "outputId": "f33a884a-bc2b-4fab-ee56-3ef82e423490",
        "colab": {
          "base_uri": "https://localhost:8080/"
        }
      },
      "execution_count": 71,
      "outputs": [
        {
          "output_type": "execute_result",
          "data": {
            "text/plain": [
              "array([0, 1, 2, 3, 4, 5, 6, 7, 8, 9])"
            ]
          },
          "metadata": {},
          "execution_count": 71
        }
      ]
    },
    {
      "cell_type": "code",
      "source": [
        "a < 4\n",
        "# array의 모든 element가 4 미만인지를 T/F로 반환"
      ],
      "metadata": {
        "id": "8BX7uvRHTa0D",
        "outputId": "5f030be1-53f4-45c6-82ab-16c9f731582b",
        "colab": {
          "base_uri": "https://localhost:8080/"
        }
      },
      "execution_count": 72,
      "outputs": [
        {
          "output_type": "execute_result",
          "data": {
            "text/plain": [
              "array([ True,  True,  True,  True, False, False, False, False, False,\n",
              "       False])"
            ]
          },
          "metadata": {},
          "execution_count": 72
        }
      ]
    },
    {
      "cell_type": "code",
      "source": [
        "np.any(a > 8)\n",
        "# 하나라도 True -> True\n",
        "# 전부 False -> Flase"
      ],
      "metadata": {
        "id": "NptZc05vUxAZ",
        "outputId": "20aed124-9b4e-4080-82f9-7922a641fc54",
        "colab": {
          "base_uri": "https://localhost:8080/"
        }
      },
      "execution_count": 76,
      "outputs": [
        {
          "output_type": "execute_result",
          "data": {
            "text/plain": [
              "True"
            ]
          },
          "metadata": {},
          "execution_count": 76
        }
      ]
    },
    {
      "cell_type": "code",
      "source": [
        "np.all(a > 5)\n",
        "# 전부 True -> True\n",
        "# 하나라도 False -> False"
      ],
      "metadata": {
        "id": "H6TlGgL9U1F1",
        "outputId": "5d26ee9a-6145-4245-cc4e-d72b93c2c114",
        "colab": {
          "base_uri": "https://localhost:8080/"
        }
      },
      "execution_count": 77,
      "outputs": [
        {
          "output_type": "execute_result",
          "data": {
            "text/plain": [
              "False"
            ]
          },
          "metadata": {},
          "execution_count": 77
        }
      ]
    },
    {
      "cell_type": "markdown",
      "source": [
        "## comparison operation 1\n",
        "\n",
        "* 배열의 크기고 동일하면 같은 위치의 element 간의 비교 결과를 bool type array로 반환"
      ],
      "metadata": {
        "id": "MW0xLaMYVzbp"
      }
    },
    {
      "cell_type": "code",
      "source": [
        "test_a = np.array([1,2,56], int)\n",
        "test_b = np.array([5,3,1], int)\n",
        "\n",
        "test_a > test_b"
      ],
      "metadata": {
        "id": "MWN8gZYIV16j",
        "outputId": "6d7d03e1-c44c-40d0-c6a6-c3421a46b6a1",
        "colab": {
          "base_uri": "https://localhost:8080/"
        }
      },
      "execution_count": 78,
      "outputs": [
        {
          "output_type": "execute_result",
          "data": {
            "text/plain": [
              "array([False, False,  True])"
            ]
          },
          "metadata": {},
          "execution_count": 78
        }
      ]
    },
    {
      "cell_type": "code",
      "source": [
        "test_a == test_b"
      ],
      "metadata": {
        "id": "xcCbh6ftWEjz",
        "outputId": "b364bdaa-e778-404a-d113-5cecb3590a38",
        "colab": {
          "base_uri": "https://localhost:8080/"
        }
      },
      "execution_count": 79,
      "outputs": [
        {
          "output_type": "execute_result",
          "data": {
            "text/plain": [
              "array([False, False, False])"
            ]
          },
          "metadata": {},
          "execution_count": 79
        }
      ]
    },
    {
      "cell_type": "code",
      "source": [
        "(test_a > test_b).any()\n",
        "# test_a가 test_b보다 하나라도 크면 True"
      ],
      "metadata": {
        "id": "RTQL8eemWHh9",
        "outputId": "4b308d20-32c8-4a46-cfe5-546ef24b9df8",
        "colab": {
          "base_uri": "https://localhost:8080/"
        }
      },
      "execution_count": 80,
      "outputs": [
        {
          "output_type": "execute_result",
          "data": {
            "text/plain": [
              "True"
            ]
          },
          "metadata": {},
          "execution_count": 80
        }
      ]
    },
    {
      "cell_type": "markdown",
      "source": [
        "## comparison operation 2"
      ],
      "metadata": {
        "id": "kNlH_8ZdWjZs"
      }
    },
    {
      "cell_type": "code",
      "source": [
        "a = np.array([1,3,0], float)\n",
        "np.logical_and(a>0, a<3)\n",
        "# a>0의 결과 T T F\n",
        "# a<3의 결과 T F T\n",
        "# logical_and는 and 연산과 같으므로 T F F 반환"
      ],
      "metadata": {
        "id": "KYyI6IMzWj2W",
        "outputId": "718f1ab8-3fba-4e8b-9808-6423d04de406",
        "colab": {
          "base_uri": "https://localhost:8080/"
        }
      },
      "execution_count": 81,
      "outputs": [
        {
          "output_type": "execute_result",
          "data": {
            "text/plain": [
              "array([ True, False, False])"
            ]
          },
          "metadata": {},
          "execution_count": 81
        }
      ]
    },
    {
      "cell_type": "code",
      "source": [
        "b = np.array([True, False, True], bool)\n",
        "np.logical_not(b)\n",
        "# b의 결과 T F T\n",
        "# not 붙이면 F T F"
      ],
      "metadata": {
        "id": "E9GmDKeaW2tW",
        "outputId": "79e0414f-8aa9-4f0c-bc63-1de3ffcf498d",
        "colab": {
          "base_uri": "https://localhost:8080/"
        }
      },
      "execution_count": 84,
      "outputs": [
        {
          "output_type": "execute_result",
          "data": {
            "text/plain": [
              "array([False,  True, False])"
            ]
          },
          "metadata": {},
          "execution_count": 84
        }
      ]
    },
    {
      "cell_type": "code",
      "source": [
        "c = np.array([False, True, False], bool)\n",
        "np.logical_or(b,c)\n",
        "# b의 결과 T F T\n",
        "# c의 결과 F T F\n",
        "# b와 c의 or 연산 T T T"
      ],
      "metadata": {
        "id": "2qjENUxYXCvl",
        "outputId": "71280e22-1d08-487f-d82a-d9e9e1eb4474",
        "colab": {
          "base_uri": "https://localhost:8080/"
        }
      },
      "execution_count": 86,
      "outputs": [
        {
          "output_type": "execute_result",
          "data": {
            "text/plain": [
              "array([ True,  True,  True])"
            ]
          },
          "metadata": {},
          "execution_count": 86
        }
      ]
    },
    {
      "cell_type": "markdown",
      "source": [
        "## np.where"
      ],
      "metadata": {
        "id": "TGusRm70YGk9"
      }
    },
    {
      "cell_type": "code",
      "source": [
        "np.where(a>0, 3, 2)\n",
        "# where(condition, True, False)\n",
        "# a>0의 연산 결과를 T,F로 반환하고\n",
        "# T인 자리에는 3을\n",
        "# F인 자리에는 2를 넣음"
      ],
      "metadata": {
        "id": "TkFzATLiX270",
        "outputId": "42edfaec-4b83-45ca-e0f0-00441deb92b6",
        "colab": {
          "base_uri": "https://localhost:8080/"
        }
      },
      "execution_count": 88,
      "outputs": [
        {
          "output_type": "execute_result",
          "data": {
            "text/plain": [
              "array([3, 3, 2])"
            ]
          },
          "metadata": {},
          "execution_count": 88
        }
      ]
    },
    {
      "cell_type": "code",
      "source": [
        "a = np.arange(5,15)\n",
        "np.where(a>10)\n",
        "# condition만 넣어주면 T인 인덱스만 반환"
      ],
      "metadata": {
        "id": "XTR-0fyDYjPC",
        "outputId": "8d56bcbb-f395-4adf-a58c-027b2e67e347",
        "colab": {
          "base_uri": "https://localhost:8080/"
        }
      },
      "execution_count": 95,
      "outputs": [
        {
          "output_type": "execute_result",
          "data": {
            "text/plain": [
              "(array([6, 7, 8, 9]),)"
            ]
          },
          "metadata": {},
          "execution_count": 95
        }
      ]
    },
    {
      "cell_type": "code",
      "source": [
        "a = np.array([1, np.NaN, np.Inf], float)\n",
        "np.isnan(a)\n",
        "# NaN(Not a Number) 값만 True로 반환"
      ],
      "metadata": {
        "id": "87-XOVlPZkM2",
        "outputId": "7d9a686b-176c-446a-a413-2137e9861e83",
        "colab": {
          "base_uri": "https://localhost:8080/"
        }
      },
      "execution_count": 96,
      "outputs": [
        {
          "output_type": "execute_result",
          "data": {
            "text/plain": [
              "array([False,  True, False])"
            ]
          },
          "metadata": {},
          "execution_count": 96
        }
      ]
    },
    {
      "cell_type": "code",
      "source": [
        "np.isfinite(a)\n",
        "# is finite number"
      ],
      "metadata": {
        "id": "GviS1sFGZunH",
        "outputId": "548c2fa2-1c5f-4604-903b-1067dd1eab0c",
        "colab": {
          "base_uri": "https://localhost:8080/"
        }
      },
      "execution_count": 97,
      "outputs": [
        {
          "output_type": "execute_result",
          "data": {
            "text/plain": [
              "array([ True, False, False])"
            ]
          },
          "metadata": {},
          "execution_count": 97
        }
      ]
    },
    {
      "cell_type": "markdown",
      "source": [
        "## argmax & argmin\n",
        "\n",
        "* array 내 최대or최소값의 index 반환"
      ],
      "metadata": {
        "id": "0NRkg1QBaa4t"
      }
    },
    {
      "cell_type": "code",
      "source": [
        "a = np.array([1,23,5,5,216,24,1,623,6,3,4])\n",
        "np.argmax(a), np.argmin(a)"
      ],
      "metadata": {
        "id": "n1Km1YdIacl4",
        "outputId": "fd0ea4fa-61b5-4da8-f187-9f01f47450aa",
        "colab": {
          "base_uri": "https://localhost:8080/"
        }
      },
      "execution_count": 106,
      "outputs": [
        {
          "output_type": "execute_result",
          "data": {
            "text/plain": [
              "(7, 0)"
            ]
          },
          "metadata": {},
          "execution_count": 106
        }
      ]
    },
    {
      "cell_type": "code",
      "source": [
        "a[np.argmax(a)]\n",
        "# np.argmax(a)가 인덱스를 반환하므로 a[~]는 그 값을 반환"
      ],
      "metadata": {
        "id": "oGN-xjOvb5hq",
        "outputId": "7db20808-c703-4e86-99e5-704ef4caf65f",
        "colab": {
          "base_uri": "https://localhost:8080/"
        }
      },
      "execution_count": 107,
      "outputs": [
        {
          "output_type": "execute_result",
          "data": {
            "text/plain": [
              "623"
            ]
          },
          "metadata": {},
          "execution_count": 107
        }
      ]
    },
    {
      "cell_type": "code",
      "source": [
        "# axis 기반의 반환\n",
        "\n",
        "a = np.array([[1,2,4,7], [9,88,6,45], [9,76,3,4]])\n",
        "print(np.argmax(a), np.argmin(a))\n",
        "# axis 지정 안해주면 그냥 0,0부터 끝까지 한줄로 나열한 것으로 계산\n",
        "\n",
        "print(np.argmax(a, axis=1), np.argmin(a, axis=0))\n",
        "# axis를 기준으로 반환"
      ],
      "metadata": {
        "id": "I0qVw5Jzas4B",
        "outputId": "b0676375-90c8-4729-a7e1-fadd1f0b56c2",
        "colab": {
          "base_uri": "https://localhost:8080/"
        }
      },
      "execution_count": 101,
      "outputs": [
        {
          "output_type": "stream",
          "name": "stdout",
          "text": [
            "5 0\n",
            "[3 1 1] [0 0 2 2]\n"
          ]
        }
      ]
    },
    {
      "cell_type": "code",
      "source": [
        "a.argsort()\n",
        "# 행,렬을 기반으로 각 element의 오름차순 순번을 반환"
      ],
      "metadata": {
        "id": "hF1OC2JzbbED",
        "outputId": "5537c72a-e7d2-4d79-94b4-a217232e9895",
        "colab": {
          "base_uri": "https://localhost:8080/"
        }
      },
      "execution_count": 102,
      "outputs": [
        {
          "output_type": "execute_result",
          "data": {
            "text/plain": [
              "array([[0, 1, 2, 3],\n",
              "       [2, 0, 3, 1],\n",
              "       [2, 3, 0, 1]])"
            ]
          },
          "metadata": {},
          "execution_count": 102
        }
      ]
    },
    {
      "cell_type": "markdown",
      "source": [
        "# boolean & fancy index"
      ],
      "metadata": {
        "id": "63b60Emyd0n4"
      }
    },
    {
      "cell_type": "markdown",
      "source": [
        "## boolean index\n",
        "\n",
        "* 특정 조건에 따른 값을 배열 형태로 추출\n",
        "\n",
        "* comparison operation 함수들도 모두 사용 가능"
      ],
      "metadata": {
        "id": "eA_R-MOVcIgW"
      }
    },
    {
      "cell_type": "code",
      "source": [
        "test_array = np.array([1,4,0,2,3,8,9,7], float)\n",
        "test_array > 3\n",
        "# 해당 조건과 각 element를 비교하여 T/F array 반환"
      ],
      "metadata": {
        "id": "kRRZZhfkcKGZ",
        "outputId": "091d9cbd-8cd7-42ac-ea68-f05bfdc36883",
        "colab": {
          "base_uri": "https://localhost:8080/"
        }
      },
      "execution_count": 108,
      "outputs": [
        {
          "output_type": "execute_result",
          "data": {
            "text/plain": [
              "array([False,  True, False, False, False,  True,  True,  True])"
            ]
          },
          "metadata": {},
          "execution_count": 108
        }
      ]
    },
    {
      "cell_type": "code",
      "source": [
        "test_array[test_array > 3]\n",
        "# 조건이 True인 index의 element를 추출"
      ],
      "metadata": {
        "id": "zBHm4iyBcdRg",
        "outputId": "907535d5-7a28-4298-cb53-3c2859f74470",
        "colab": {
          "base_uri": "https://localhost:8080/"
        }
      },
      "execution_count": 109,
      "outputs": [
        {
          "output_type": "execute_result",
          "data": {
            "text/plain": [
              "array([4., 8., 9., 7.])"
            ]
          },
          "metadata": {},
          "execution_count": 109
        }
      ]
    },
    {
      "cell_type": "code",
      "source": [
        "condition = test_array < 3\n",
        "test_array[condition]"
      ],
      "metadata": {
        "id": "XPJqtaOocsSM",
        "outputId": "6ad40593-093b-4d2c-b3c9-4ce239681bad",
        "colab": {
          "base_uri": "https://localhost:8080/"
        }
      },
      "execution_count": 110,
      "outputs": [
        {
          "output_type": "execute_result",
          "data": {
            "text/plain": [
              "array([1., 0., 2.])"
            ]
          },
          "metadata": {},
          "execution_count": 110
        }
      ]
    },
    {
      "cell_type": "markdown",
      "source": [
        "## fancy index"
      ],
      "metadata": {
        "id": "rrsw4TU-d322"
      }
    },
    {
      "cell_type": "code",
      "source": [
        "a = np.array([2,4,6,8], float)\n",
        "b = np.array([0,0,1,3,2,1], int) # 인덱스로 활용해야 하기 때문에 int 선언!!\n",
        "\n",
        "a[b]\n",
        "# bracket idnex, b 배열의 값을 index로 하여 a 값 추출"
      ],
      "metadata": {
        "id": "JWiWFnUsfK_h",
        "outputId": "3285dcca-9131-4d42-b700-a69eecc68182",
        "colab": {
          "base_uri": "https://localhost:8080/"
        }
      },
      "execution_count": 111,
      "outputs": [
        {
          "output_type": "execute_result",
          "data": {
            "text/plain": [
              "array([2., 2., 4., 8., 6., 4.])"
            ]
          },
          "metadata": {},
          "execution_count": 111
        }
      ]
    },
    {
      "cell_type": "code",
      "source": [
        "a.take(b)\n",
        "# take() 메서드; bracket index와 같은 효과"
      ],
      "metadata": {
        "id": "1eqUl9Msfemf",
        "outputId": "c69ee053-98f6-46b1-b61b-222f3073bfd5",
        "colab": {
          "base_uri": "https://localhost:8080/"
        }
      },
      "execution_count": 112,
      "outputs": [
        {
          "output_type": "execute_result",
          "data": {
            "text/plain": [
              "array([2., 2., 4., 8., 6., 4.])"
            ]
          },
          "metadata": {},
          "execution_count": 112
        }
      ]
    },
    {
      "cell_type": "code",
      "source": [
        "# mat 형태의 데이터도 가능\n",
        "\n",
        "a = np.array([[1,4], [9,16]], float)\n",
        "b = np.array([0,0,1,1,0], int)\n",
        "c = np.array([0,1,1,1,1], int)\n",
        "# mat_a에서 b를 행index, c를 열index로 변환\n",
        "\n",
        "a[b,c]\n",
        "# a[0,0], a[0,1], a[1,1], a[1,1], a[0,1]"
      ],
      "metadata": {
        "id": "x9EqOjvrgSZP",
        "outputId": "0dc82e8f-4a8b-4ee7-93fc-9077a18b7b20",
        "colab": {
          "base_uri": "https://localhost:8080/"
        }
      },
      "execution_count": 115,
      "outputs": [
        {
          "output_type": "execute_result",
          "data": {
            "text/plain": [
              "array([ 1.,  4., 16., 16.,  4.])"
            ]
          },
          "metadata": {},
          "execution_count": 115
        }
      ]
    },
    {
      "cell_type": "code",
      "source": [
        "a[b]\n",
        "# row index 적용하기도 가능"
      ],
      "metadata": {
        "id": "6IN4Pmwdg51L",
        "outputId": "48e60e51-7ac8-4185-9b79-8fe1ac0c5c20",
        "colab": {
          "base_uri": "https://localhost:8080/"
        }
      },
      "execution_count": 118,
      "outputs": [
        {
          "output_type": "execute_result",
          "data": {
            "text/plain": [
              "array([[ 1.,  4.],\n",
              "       [ 1.,  4.],\n",
              "       [ 9., 16.],\n",
              "       [ 9., 16.],\n",
              "       [ 1.,  4.]])"
            ]
          },
          "metadata": {},
          "execution_count": 118
        }
      ]
    },
    {
      "cell_type": "markdown",
      "source": [
        "# numpy data i/o"
      ],
      "metadata": {
        "id": "I5oXPnxMhEmX"
      }
    },
    {
      "cell_type": "markdown",
      "source": [
        "## load & save txt"
      ],
      "metadata": {
        "id": "qfZI2PyshJ0Q"
      }
    },
    {
      "cell_type": "code",
      "source": [
        "a = np.loadtxt(\"./populations.txt\", delimiter = \"\\t\")\n",
        "# populations.txt라는 파일을 가져오고, tab을 띄어쓰기로 구분"
      ],
      "metadata": {
        "id": "w92ZrQlAhGaJ"
      },
      "execution_count": null,
      "outputs": []
    },
    {
      "cell_type": "code",
      "source": [
        "np.savetxt(\"int_data_2.csv\", a_int_3, fmt = \"%.2e\", delimiter = \",\")"
      ],
      "metadata": {
        "id": "8hz02Qkqh1m_"
      },
      "execution_count": null,
      "outputs": []
    },
    {
      "cell_type": "markdown",
      "source": [
        "## numpy object - npy"
      ],
      "metadata": {
        "id": "RNvddK_UiVwD"
      }
    },
    {
      "cell_type": "code",
      "source": [
        "np.save(\"npy_test_object\", arr = a_int_3)\n",
        "# pickle 형태로 저장함"
      ],
      "metadata": {
        "id": "dVRtJeudiXeM"
      },
      "execution_count": null,
      "outputs": []
    },
    {
      "cell_type": "code",
      "source": [
        "a_test = np.load(file = \"npy_test_object.npy\")\n",
        "a_test"
      ],
      "metadata": {
        "id": "yR-IrmxFie9L"
      },
      "execution_count": null,
      "outputs": []
    },
    {
      "cell_type": "code",
      "source": [
        "npy_array = np.load(file = \"npy_test.npy\")\n",
        "npy_array"
      ],
      "metadata": {
        "id": "wxA8xH9pimMt"
      },
      "execution_count": null,
      "outputs": []
    }
  ]
}