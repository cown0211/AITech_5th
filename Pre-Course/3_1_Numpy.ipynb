{
  "nbformat": 4,
  "nbformat_minor": 0,
  "metadata": {
    "colab": {
      "provenance": [],
      "authorship_tag": "ABX9TyME5QKSaBAZNRIzdt/Gam7l",
      "include_colab_link": true
    },
    "kernelspec": {
      "name": "python3",
      "display_name": "Python 3"
    },
    "language_info": {
      "name": "python"
    }
  },
  "cells": [
    {
      "cell_type": "markdown",
      "metadata": {
        "id": "view-in-github",
        "colab_type": "text"
      },
      "source": [
        "<a href=\"https://colab.research.google.com/github/cown0211/AITech_5th/blob/main/Pre-Course/3_1_Numpy.ipynb\" target=\"_parent\"><img src=\"https://colab.research.google.com/assets/colab-badge.svg\" alt=\"Open In Colab\"/></a>"
      ]
    },
    {
      "cell_type": "markdown",
      "source": [
        "  수식을 행렬형태로 작성하려면?\n",
        "  \n",
        "  아래와 같이 리스트 형태로...\n",
        "\n",
        "  ```\n",
        "  coefficient_matrix = [[2,2,1], [2,-1,2], [1,-1,2]]\n",
        "  constant_vector = [9,6,5]\n",
        "  ```\n",
        "\n",
        "  but\n",
        "\n",
        "  matrix가 커질수록 리스트는 비효율적!\n",
        "\n",
        "  \n",
        "  # **NumPy**"
      ],
      "metadata": {
        "id": "FTBB4r7Jjc-b"
      }
    },
    {
      "cell_type": "code",
      "source": [
        "# array 생성\n",
        "\n",
        "a = [1,2,3,4,5]\n",
        "b = [5,4,3,2,1]"
      ],
      "metadata": {
        "id": "5PdLYsEjOKpv"
      },
      "execution_count": 12,
      "outputs": []
    },
    {
      "cell_type": "code",
      "source": [
        "import numpy as np\n",
        "\n",
        "a = np.array(a, int) # 사용할 리스트, 데이터 타입\n",
        "a"
      ],
      "metadata": {
        "id": "zSRh33-XOP2w",
        "outputId": "b6f73a60-5541-45cd-80b9-670bc9d663d0",
        "colab": {
          "base_uri": "https://localhost:8080/"
        }
      },
      "execution_count": 6,
      "outputs": [
        {
          "output_type": "execute_result",
          "data": {
            "text/plain": [
              "array([1, 2, 3, 4, 5])"
            ]
          },
          "metadata": {},
          "execution_count": 6
        }
      ]
    },
    {
      "cell_type": "code",
      "execution_count": 9,
      "metadata": {
        "id": "_aYB9bIXixN-",
        "outputId": "facc6c2c-09ec-47b8-fec3-0848ef9c084d",
        "colab": {
          "base_uri": "https://localhost:8080/"
        }
      },
      "outputs": [
        {
          "output_type": "stream",
          "name": "stdout",
          "text": [
            "[1.  4.  5.3 8. ]\n",
            "<class 'numpy.float64'>\n"
          ]
        }
      ],
      "source": [
        "test_array = np.array([1,\"4\",5.3,8], float) # 생성할 리스트, 데이터 타입\n",
        "print(test_array)\n",
        "print(type(test_array[3]))\n",
        "\n",
        "# numpy의 np.array는 하나의 데이터 type만 넣을 수 있음"
      ]
    },
    {
      "cell_type": "markdown",
      "source": [
        "## NumPy array vs Python List\n",
        "\n",
        "* 파이썬 리스트는 데이터의 주소를 저장함\n",
        "\n",
        " * 값은 이미 정적인 공간에 들어가있고 그 값으로 접근하는 주소를 저장하는 개념\n",
        "\n",
        "* 넘파이 어레이는 값 자체를 저장해버림"
      ],
      "metadata": {
        "id": "nGhIGBZzQm95"
      }
    },
    {
      "cell_type": "code",
      "source": [
        "a[0] is b[-1]\n",
        "\n",
        "# a[0] == 1, b[-1] == 1이지만 각각 주소를 저장하기 때문에 True\n",
        "# 파이썬이 저장하는 1의 주소가 같다는 의미"
      ],
      "metadata": {
        "id": "VFuggSCvQlah",
        "outputId": "f72aa2c2-8595-4232-ce57-9e1617aa52d2",
        "colab": {
          "base_uri": "https://localhost:8080/"
        }
      },
      "execution_count": 13,
      "outputs": [
        {
          "output_type": "execute_result",
          "data": {
            "text/plain": [
              "True"
            ]
          },
          "metadata": {},
          "execution_count": 13
        }
      ]
    },
    {
      "cell_type": "code",
      "source": [
        "a = np.array(a)\n",
        "b = np.array(b)\n",
        "a[1] is b[-2]\n",
        "\n",
        "# ndarray에서는 값 자체를 저장하고, 각 어레이가 다른 메모리에 할당돼있으므로 False"
      ],
      "metadata": {
        "id": "2f6PtfNcRpVy",
        "outputId": "73591b6b-a8b8-46a0-e2cf-32cc033e5202",
        "colab": {
          "base_uri": "https://localhost:8080/"
        }
      },
      "execution_count": 11,
      "outputs": [
        {
          "output_type": "execute_result",
          "data": {
            "text/plain": [
              "False"
            ]
          },
          "metadata": {},
          "execution_count": 11
        }
      ]
    },
    {
      "cell_type": "markdown",
      "source": [
        "## shape, dtype\n",
        "\n",
        "* shape: numpy array의 dimension 구성을 반환\n",
        "\n",
        "* dtype: numpy array의 데이터 type 반환"
      ],
      "metadata": {
        "id": "LrQRMSmXSd3z"
      }
    },
    {
      "cell_type": "code",
      "source": [
        "test_array.dtype\n",
        "# ndarray는 모두 같은 타입을 가짐"
      ],
      "metadata": {
        "id": "gzeHiJ8TSSHj",
        "outputId": "678a29f5-3d28-48fe-96c8-5f757aa69d23",
        "colab": {
          "base_uri": "https://localhost:8080/"
        }
      },
      "execution_count": 15,
      "outputs": [
        {
          "output_type": "execute_result",
          "data": {
            "text/plain": [
              "dtype('float64')"
            ]
          },
          "metadata": {},
          "execution_count": 15
        }
      ]
    },
    {
      "cell_type": "code",
      "source": [
        "a = [[1,2,3], [4,5,6], [4,5,6]]\n",
        "np.array(a).shape"
      ],
      "metadata": {
        "id": "gGVz2aVYSv_o",
        "outputId": "fd9bf4cd-3ba8-4b38-c6f9-b8060270559b",
        "colab": {
          "base_uri": "https://localhost:8080/"
        }
      },
      "execution_count": 19,
      "outputs": [
        {
          "output_type": "execute_result",
          "data": {
            "text/plain": [
              "(3, 3)"
            ]
          },
          "metadata": {},
          "execution_count": 19
        }
      ]
    },
    {
      "cell_type": "markdown",
      "source": [
        "## reshape\n",
        "\n",
        "* array shape을 변경, element 갯수는 동일"
      ],
      "metadata": {
        "id": "Kq2-PUo9VDzi"
      }
    },
    {
      "cell_type": "code",
      "source": [
        "test_matrix = [[1,2,3,4], [1,2,5,8]]\n",
        "np.array(test_matrix).shape # 2*4 matrix"
      ],
      "metadata": {
        "id": "QLc5KL4QSwD6",
        "outputId": "4cbc2d89-37b3-47c9-b294-d35af403c056",
        "colab": {
          "base_uri": "https://localhost:8080/"
        }
      },
      "execution_count": 20,
      "outputs": [
        {
          "output_type": "execute_result",
          "data": {
            "text/plain": [
              "(2, 4)"
            ]
          },
          "metadata": {},
          "execution_count": 20
        }
      ]
    },
    {
      "cell_type": "code",
      "source": [
        "np.array(test_matrix).reshape(8,) # 2행4열 행렬을 8행1열 벡터로 변환"
      ],
      "metadata": {
        "id": "box1Cn0uVmCj",
        "outputId": "ef4075cc-98e6-435d-ca44-138193816a93",
        "colab": {
          "base_uri": "https://localhost:8080/"
        }
      },
      "execution_count": 21,
      "outputs": [
        {
          "output_type": "execute_result",
          "data": {
            "text/plain": [
              "array([1, 2, 3, 4, 1, 2, 5, 8])"
            ]
          },
          "metadata": {},
          "execution_count": 21
        }
      ]
    },
    {
      "cell_type": "code",
      "source": [
        "np.array(test_matrix).reshape(2,4)"
      ],
      "metadata": {
        "id": "65shr05dVz13",
        "outputId": "394da195-dbbd-43f9-a231-8ac9e41297f3",
        "colab": {
          "base_uri": "https://localhost:8080/"
        }
      },
      "execution_count": 23,
      "outputs": [
        {
          "output_type": "execute_result",
          "data": {
            "text/plain": [
              "array([[1, 2, 3, 4],\n",
              "       [1, 2, 5, 8]])"
            ]
          },
          "metadata": {},
          "execution_count": 23
        }
      ]
    },
    {
      "cell_type": "code",
      "source": [
        "np.array(test_matrix).reshape(-1,2)\n",
        "# -1; size를 기반으로 row 개수 선정\n",
        "# 여기에선 전체 element = 8이고, reshape 열 개수를 2로 했으므로 \n",
        "# row를 4로 자동으로 선정"
      ],
      "metadata": {
        "id": "KQd1C2lGV5lF",
        "outputId": "b055c815-81c5-47b2-d0b7-6077f0baac3b",
        "colab": {
          "base_uri": "https://localhost:8080/"
        }
      },
      "execution_count": 24,
      "outputs": [
        {
          "output_type": "execute_result",
          "data": {
            "text/plain": [
              "array([[1, 2],\n",
              "       [3, 4],\n",
              "       [1, 2],\n",
              "       [5, 8]])"
            ]
          },
          "metadata": {},
          "execution_count": 24
        }
      ]
    },
    {
      "cell_type": "code",
      "source": [
        "np.array(test_matrix).reshape(2,-1)\n",
        "# 열을 알아서 4개로 선정"
      ],
      "metadata": {
        "id": "iqxA_9E6WPRT",
        "outputId": "264dd044-a8b5-49cd-fcf2-10c3b94b5f12",
        "colab": {
          "base_uri": "https://localhost:8080/"
        }
      },
      "execution_count": 25,
      "outputs": [
        {
          "output_type": "execute_result",
          "data": {
            "text/plain": [
              "array([[1, 2, 3, 4],\n",
              "       [1, 2, 5, 8]])"
            ]
          },
          "metadata": {},
          "execution_count": 25
        }
      ]
    },
    {
      "cell_type": "code",
      "source": [
        "np.array(test_matrix).reshape(2,2,2)\n",
        "# 3차원으로 재정렬"
      ],
      "metadata": {
        "id": "R9fKAeWWWUUu",
        "outputId": "d5e178e2-2d92-4849-8026-77df9ea66561",
        "colab": {
          "base_uri": "https://localhost:8080/"
        }
      },
      "execution_count": 26,
      "outputs": [
        {
          "output_type": "execute_result",
          "data": {
            "text/plain": [
              "array([[[1, 2],\n",
              "        [3, 4]],\n",
              "\n",
              "       [[1, 2],\n",
              "        [5, 8]]])"
            ]
          },
          "metadata": {},
          "execution_count": 26
        }
      ]
    },
    {
      "cell_type": "code",
      "source": [
        "np.array(test_matrix).reshape(1,-1,2)\n",
        "# 열을 알아서 4개로 선정"
      ],
      "metadata": {
        "id": "R4uloizbWhV_",
        "outputId": "470c1672-2dc5-499a-8acf-ad449cc1e09d",
        "colab": {
          "base_uri": "https://localhost:8080/"
        }
      },
      "execution_count": 27,
      "outputs": [
        {
          "output_type": "execute_result",
          "data": {
            "text/plain": [
              "array([[[1, 2],\n",
              "        [3, 4],\n",
              "        [1, 2],\n",
              "        [5, 8]]])"
            ]
          },
          "metadata": {},
          "execution_count": 27
        }
      ]
    },
    {
      "cell_type": "markdown",
      "source": [
        "## flatten\n",
        "\n",
        "* 다차원 array를 1차원 array로 변환"
      ],
      "metadata": {
        "id": "RdOwMaSwWxQO"
      }
    },
    {
      "cell_type": "code",
      "source": [
        "test_matrix = [[[1,2,3,4], [1,2,5,8]], [[1,2,3,4], [1,2,5,8]]] # 2,2,4 mat\n",
        "np.array(test_matrix).flatten()\n",
        "# 2,2,4 mat -> 16 열벡터"
      ],
      "metadata": {
        "id": "GhC4PdscW1XJ",
        "outputId": "8f10b33e-ab0c-403c-c7b9-f7e007d9b00a",
        "colab": {
          "base_uri": "https://localhost:8080/"
        }
      },
      "execution_count": 31,
      "outputs": [
        {
          "output_type": "execute_result",
          "data": {
            "text/plain": [
              "(16,)"
            ]
          },
          "metadata": {},
          "execution_count": 31
        }
      ]
    },
    {
      "cell_type": "markdown",
      "source": [
        "## indexing"
      ],
      "metadata": {
        "id": "ZGYweCowXZZw"
      }
    },
    {
      "cell_type": "code",
      "source": [
        "a = np.array([[1,2,3], [4.5,5,6]], int)\n",
        "a"
      ],
      "metadata": {
        "id": "-9SS5QGdXkcm",
        "outputId": "2a7c25fb-1026-4098-8d45-d26b8d50aff7",
        "colab": {
          "base_uri": "https://localhost:8080/"
        }
      },
      "execution_count": 32,
      "outputs": [
        {
          "output_type": "execute_result",
          "data": {
            "text/plain": [
              "array([[1, 2, 3],\n",
              "       [4, 5, 6]])"
            ]
          },
          "metadata": {},
          "execution_count": 32
        }
      ]
    },
    {
      "cell_type": "code",
      "source": [
        "print(a[0][2])\n",
        "print(a[0,2])"
      ],
      "metadata": {
        "id": "huDSH2-TXt3I",
        "outputId": "c488faac-9ffe-4ead-d433-cbaeeb7e855a",
        "colab": {
          "base_uri": "https://localhost:8080/"
        }
      },
      "execution_count": 33,
      "outputs": [
        {
          "output_type": "stream",
          "name": "stdout",
          "text": [
            "3\n",
            "3\n"
          ]
        }
      ]
    },
    {
      "cell_type": "code",
      "source": [
        "a[0][0] = 10\n",
        "a"
      ],
      "metadata": {
        "id": "2Vw2udRqX1Pg",
        "outputId": "cb34aeea-78f4-4a0f-fe0b-d54bad578373",
        "colab": {
          "base_uri": "https://localhost:8080/"
        }
      },
      "execution_count": 34,
      "outputs": [
        {
          "output_type": "execute_result",
          "data": {
            "text/plain": [
              "array([[10,  2,  3],\n",
              "       [ 4,  5,  6]])"
            ]
          },
          "metadata": {},
          "execution_count": 34
        }
      ]
    },
    {
      "cell_type": "code",
      "source": [
        "a[0,0] = 12\n",
        "a"
      ],
      "metadata": {
        "id": "IJJW4_jwX38g",
        "outputId": "a7298740-7129-400c-a0ef-1328668a51af",
        "colab": {
          "base_uri": "https://localhost:8080/"
        }
      },
      "execution_count": 35,
      "outputs": [
        {
          "output_type": "execute_result",
          "data": {
            "text/plain": [
              "array([[12,  2,  3],\n",
              "       [ 4,  5,  6]])"
            ]
          },
          "metadata": {},
          "execution_count": 35
        }
      ]
    },
    {
      "cell_type": "markdown",
      "source": [
        "## slicing"
      ],
      "metadata": {
        "id": "nomd2bd8ZwP7"
      }
    },
    {
      "cell_type": "code",
      "source": [
        "a = np.array([[1,2,3,4,5], [4.5,5,6,62,5], [1,2,4,6,3], [5,3,6,7,8]], int)\n",
        "a"
      ],
      "metadata": {
        "id": "uJG4zagcaBO1",
        "outputId": "d3aef3d9-8d19-4a31-903b-c591e3ad7ccc",
        "colab": {
          "base_uri": "https://localhost:8080/"
        }
      },
      "execution_count": 37,
      "outputs": [
        {
          "output_type": "execute_result",
          "data": {
            "text/plain": [
              "array([[ 1,  2,  3,  4,  5],\n",
              "       [ 4,  5,  6, 62,  5],\n",
              "       [ 1,  2,  4,  6,  3],\n",
              "       [ 5,  3,  6,  7,  8]])"
            ]
          },
          "metadata": {},
          "execution_count": 37
        }
      ]
    },
    {
      "cell_type": "code",
      "source": [
        "a[:,1] # 2번째 열만 추출"
      ],
      "metadata": {
        "id": "J3-tVa-SaI5s",
        "outputId": "f9a99248-b934-4788-caab-f2e423ef4150",
        "colab": {
          "base_uri": "https://localhost:8080/"
        }
      },
      "execution_count": 38,
      "outputs": [
        {
          "output_type": "execute_result",
          "data": {
            "text/plain": [
              "array([2, 5, 2, 3])"
            ]
          },
          "metadata": {},
          "execution_count": 38
        }
      ]
    },
    {
      "cell_type": "code",
      "source": [
        "a[2:4,3:5]"
      ],
      "metadata": {
        "id": "PWOthhKlaP9g",
        "outputId": "dc2c2464-6592-41fa-c899-0d98b139bc8a",
        "colab": {
          "base_uri": "https://localhost:8080/"
        }
      },
      "execution_count": 42,
      "outputs": [
        {
          "output_type": "execute_result",
          "data": {
            "text/plain": [
              "array([[6, 3],\n",
              "       [7, 8]])"
            ]
          },
          "metadata": {},
          "execution_count": 42
        }
      ]
    },
    {
      "cell_type": "code",
      "source": [
        "a[1] # 2번째 행만 추출"
      ],
      "metadata": {
        "id": "fNKSOHlWbFC5",
        "outputId": "ded7cc1e-45bd-4b6f-a325-750cbb8a31a9",
        "colab": {
          "base_uri": "https://localhost:8080/"
        }
      },
      "execution_count": 43,
      "outputs": [
        {
          "output_type": "execute_result",
          "data": {
            "text/plain": [
              "array([ 4,  5,  6, 62,  5])"
            ]
          },
          "metadata": {},
          "execution_count": 43
        }
      ]
    },
    {
      "cell_type": "code",
      "source": [
        "a[:, ::2] # 2칸씩 뛰어서 추출"
      ],
      "metadata": {
        "id": "3iQiyc45beap",
        "outputId": "f4fbe7fa-02c3-4247-eb9c-9ea5d1991847",
        "colab": {
          "base_uri": "https://localhost:8080/"
        }
      },
      "execution_count": 45,
      "outputs": [
        {
          "output_type": "execute_result",
          "data": {
            "text/plain": [
              "array([[1, 3, 5],\n",
              "       [4, 6, 5],\n",
              "       [1, 4, 3],\n",
              "       [5, 6, 8]])"
            ]
          },
          "metadata": {},
          "execution_count": 45
        }
      ]
    },
    {
      "cell_type": "code",
      "source": [
        "a[::2, ::3] # 2칸씩, 3칸씩 추출"
      ],
      "metadata": {
        "id": "09xTetyUbjOj",
        "outputId": "20341761-295a-43ad-e4ad-e46a4c5a6492",
        "colab": {
          "base_uri": "https://localhost:8080/"
        }
      },
      "execution_count": 46,
      "outputs": [
        {
          "output_type": "execute_result",
          "data": {
            "text/plain": [
              "array([[1, 4],\n",
              "       [1, 6]])"
            ]
          },
          "metadata": {},
          "execution_count": 46
        }
      ]
    },
    {
      "cell_type": "markdown",
      "source": [
        "## creation function"
      ],
      "metadata": {
        "id": "YLf3zPQrbtYW"
      }
    },
    {
      "cell_type": "code",
      "source": [
        " # arange; array 범위를 지정하여 값의 list 생성\n",
        "\n",
        "np.arange(30) # list의 range와 같음"
      ],
      "metadata": {
        "id": "Ptoxuv8bbv5B",
        "outputId": "87033a43-a50d-4b05-aea3-aff605ce9c19",
        "colab": {
          "base_uri": "https://localhost:8080/"
        }
      },
      "execution_count": 48,
      "outputs": [
        {
          "output_type": "execute_result",
          "data": {
            "text/plain": [
              "array([ 0,  1,  2,  3,  4,  5,  6,  7,  8,  9, 10, 11, 12, 13, 14, 15, 16,\n",
              "       17, 18, 19, 20, 21, 22, 23, 24, 25, 26, 27, 28, 29])"
            ]
          },
          "metadata": {},
          "execution_count": 48
        }
      ]
    },
    {
      "cell_type": "code",
      "source": [
        "np.arange(0, 5, 0.6) # 시작, 끝, step"
      ],
      "metadata": {
        "id": "MLZrHHWrb6Lb",
        "outputId": "35ccdfd1-9b98-4f5e-9037-6e11c154d66e",
        "colab": {
          "base_uri": "https://localhost:8080/"
        }
      },
      "execution_count": 49,
      "outputs": [
        {
          "output_type": "execute_result",
          "data": {
            "text/plain": [
              "array([0. , 0.6, 1.2, 1.8, 2.4, 3. , 3.6, 4.2, 4.8])"
            ]
          },
          "metadata": {},
          "execution_count": 49
        }
      ]
    },
    {
      "cell_type": "code",
      "source": [
        "np.arange(30).reshape(5,6)"
      ],
      "metadata": {
        "id": "EvkDQdujcEIx",
        "outputId": "71e1b1d1-1597-482f-e465-c151cb66c564",
        "colab": {
          "base_uri": "https://localhost:8080/"
        }
      },
      "execution_count": 50,
      "outputs": [
        {
          "output_type": "execute_result",
          "data": {
            "text/plain": [
              "array([[ 0,  1,  2,  3,  4,  5],\n",
              "       [ 6,  7,  8,  9, 10, 11],\n",
              "       [12, 13, 14, 15, 16, 17],\n",
              "       [18, 19, 20, 21, 22, 23],\n",
              "       [24, 25, 26, 27, 28, 29]])"
            ]
          },
          "metadata": {},
          "execution_count": 50
        }
      ]
    },
    {
      "cell_type": "code",
      "source": [
        "# ones, zeros and empty\n",
        "\n",
        "# zeros; 0만 있는 ndarray\n",
        "np.zeros(shape=(10,), dtype = np.int8)"
      ],
      "metadata": {
        "id": "oBgHIQUOcOVb",
        "outputId": "e49225e2-2410-4fac-b9fc-2f69cfafdc08",
        "colab": {
          "base_uri": "https://localhost:8080/"
        }
      },
      "execution_count": 51,
      "outputs": [
        {
          "output_type": "execute_result",
          "data": {
            "text/plain": [
              "array([0, 0, 0, 0, 0, 0, 0, 0, 0, 0], dtype=int8)"
            ]
          },
          "metadata": {},
          "execution_count": 51
        }
      ]
    },
    {
      "cell_type": "code",
      "source": [
        "np.zeros((2,5)) # 2 by 5 mat"
      ],
      "metadata": {
        "id": "4kh2vWMlcauf",
        "outputId": "eb1aaaf0-f8be-4888-d439-18e96df228ab",
        "colab": {
          "base_uri": "https://localhost:8080/"
        }
      },
      "execution_count": 52,
      "outputs": [
        {
          "output_type": "execute_result",
          "data": {
            "text/plain": [
              "array([[0., 0., 0., 0., 0.],\n",
              "       [0., 0., 0., 0., 0.]])"
            ]
          },
          "metadata": {},
          "execution_count": 52
        }
      ]
    },
    {
      "cell_type": "code",
      "source": [
        "# ones; 1만 있는 ndarray\n",
        "\n",
        "np.ones(shape = (10,), dtype = np.int8)"
      ],
      "metadata": {
        "id": "KVuQYwjUcf1q",
        "outputId": "089a15fe-85ef-4f6b-f53c-797136beca50",
        "colab": {
          "base_uri": "https://localhost:8080/"
        }
      },
      "execution_count": 54,
      "outputs": [
        {
          "output_type": "execute_result",
          "data": {
            "text/plain": [
              "array([1, 1, 1, 1, 1, 1, 1, 1, 1, 1], dtype=int8)"
            ]
          },
          "metadata": {},
          "execution_count": 54
        }
      ]
    },
    {
      "cell_type": "code",
      "source": [
        "np.ones((2,5))"
      ],
      "metadata": {
        "id": "DZHwLedScqnq",
        "outputId": "fe666e37-668b-495f-cba8-6b064795090e",
        "colab": {
          "base_uri": "https://localhost:8080/"
        }
      },
      "execution_count": 55,
      "outputs": [
        {
          "output_type": "execute_result",
          "data": {
            "text/plain": [
              "array([[1., 1., 1., 1., 1.],\n",
              "       [1., 1., 1., 1., 1.]])"
            ]
          },
          "metadata": {},
          "execution_count": 55
        }
      ]
    },
    {
      "cell_type": "code",
      "source": [
        "# empty; shape만 주어지고 값은 비어있는 ndarray 생성\n",
        "# 메모리만 잡고 값은 x, 이전에 할당된 값이 표현\n",
        "\n",
        "np.empty(shape = (10,), dtype = np.int8)"
      ],
      "metadata": {
        "id": "WsGCwk_tcxYb",
        "outputId": "43943f3b-6fab-43db-9b43-e4721d4cff40",
        "colab": {
          "base_uri": "https://localhost:8080/"
        }
      },
      "execution_count": 56,
      "outputs": [
        {
          "output_type": "execute_result",
          "data": {
            "text/plain": [
              "array([1, 1, 1, 1, 1, 1, 1, 1, 1, 1], dtype=int8)"
            ]
          },
          "metadata": {},
          "execution_count": 56
        }
      ]
    },
    {
      "cell_type": "code",
      "source": [
        "np.empty((3,5))"
      ],
      "metadata": {
        "id": "Fev6ZGVudClr",
        "outputId": "dab6464b-2afa-4305-a527-5529f2431b87",
        "colab": {
          "base_uri": "https://localhost:8080/"
        }
      },
      "execution_count": 57,
      "outputs": [
        {
          "output_type": "execute_result",
          "data": {
            "text/plain": [
              "array([[3.99432707e-316, 3.85371204e-322, 0.00000000e+000,\n",
              "        0.00000000e+000, 0.00000000e+000],\n",
              "       [1.50008929e+248, 4.31174539e-096, 9.80058441e+252,\n",
              "        1.23971686e+224, 1.05162657e-153],\n",
              "       [9.03292329e+271, 9.08366793e+223, 1.06244660e-153,\n",
              "        3.44981369e+175, 6.81019663e-310]])"
            ]
          },
          "metadata": {},
          "execution_count": 57
        }
      ]
    },
    {
      "cell_type": "code",
      "source": [
        "# something_like; ndarray의 shape 크기 만큼 1,0 또는 empty array 반환\n",
        "\n",
        "test_matrix = np.arange(30).reshape(5,6)\n",
        "np.empty_like(test_matrix)"
      ],
      "metadata": {
        "id": "9KwRYmfzdemO",
        "outputId": "4d7217d6-b1f9-490e-9f3e-4458f825225e",
        "colab": {
          "base_uri": "https://localhost:8080/"
        }
      },
      "execution_count": 59,
      "outputs": [
        {
          "output_type": "execute_result",
          "data": {
            "text/plain": [
              "array([[   48858016,           0,           3,           0, 34359738373,\n",
              "                  0],\n",
              "       [          0, 17179869185,           0,           0,           0,\n",
              "                  0],\n",
              "       [          0,           0,           0,           0,           0,\n",
              "                  0],\n",
              "       [          0, 17179869185,           0,           0,           0,\n",
              "                  0],\n",
              "       [          0,           0,           0,    44302328,    79810944,\n",
              "                  0]])"
            ]
          },
          "metadata": {},
          "execution_count": 59
        }
      ]
    },
    {
      "cell_type": "code",
      "source": [
        "test_matrix = np.arange(30).reshape(5,6)\n",
        "np.ones_like(test_matrix)"
      ],
      "metadata": {
        "id": "c0oFMvZdewip",
        "outputId": "8e09f6dd-0d6d-4e07-878d-fffada7f43f3",
        "colab": {
          "base_uri": "https://localhost:8080/"
        }
      },
      "execution_count": 60,
      "outputs": [
        {
          "output_type": "execute_result",
          "data": {
            "text/plain": [
              "array([[1, 1, 1, 1, 1, 1],\n",
              "       [1, 1, 1, 1, 1, 1],\n",
              "       [1, 1, 1, 1, 1, 1],\n",
              "       [1, 1, 1, 1, 1, 1],\n",
              "       [1, 1, 1, 1, 1, 1]])"
            ]
          },
          "metadata": {},
          "execution_count": 60
        }
      ]
    },
    {
      "cell_type": "markdown",
      "source": [
        "## identity\n",
        "\n",
        "단위행렬 생성"
      ],
      "metadata": {
        "id": "Gq5WQuxrfW2i"
      }
    },
    {
      "cell_type": "code",
      "source": [
        "np.identity(n=3, dtype = np.int8)"
      ],
      "metadata": {
        "id": "xGXtWiZJf81K",
        "outputId": "1fd80045-ef35-4a71-b4a4-83fac8a26fc0",
        "colab": {
          "base_uri": "https://localhost:8080/"
        }
      },
      "execution_count": 61,
      "outputs": [
        {
          "output_type": "execute_result",
          "data": {
            "text/plain": [
              "array([[1, 0, 0],\n",
              "       [0, 1, 0],\n",
              "       [0, 0, 1]], dtype=int8)"
            ]
          },
          "metadata": {},
          "execution_count": 61
        }
      ]
    },
    {
      "cell_type": "markdown",
      "source": [
        "## eye\n",
        "\n",
        "대각선의 값이 1이고, k로 index 변경이 가능"
      ],
      "metadata": {
        "id": "_Y7CKbLjgSPg"
      }
    },
    {
      "cell_type": "code",
      "source": [
        "np.eye(3)"
      ],
      "metadata": {
        "id": "b8ubDZXygXH8",
        "outputId": "4a14be8e-2609-43f3-9056-353f715ac7ab",
        "colab": {
          "base_uri": "https://localhost:8080/"
        }
      },
      "execution_count": 62,
      "outputs": [
        {
          "output_type": "execute_result",
          "data": {
            "text/plain": [
              "array([[1., 0., 0.],\n",
              "       [0., 1., 0.],\n",
              "       [0., 0., 1.]])"
            ]
          },
          "metadata": {},
          "execution_count": 62
        }
      ]
    },
    {
      "cell_type": "code",
      "source": [
        "np.eye(3, 5)"
      ],
      "metadata": {
        "id": "rLtjNo9xgghk",
        "outputId": "244fa895-b0e4-4d53-aace-7590a546fc32",
        "colab": {
          "base_uri": "https://localhost:8080/"
        }
      },
      "execution_count": 64,
      "outputs": [
        {
          "output_type": "execute_result",
          "data": {
            "text/plain": [
              "array([[1., 0., 0., 0., 0.],\n",
              "       [0., 1., 0., 0., 0.],\n",
              "       [0., 0., 1., 0., 0.]])"
            ]
          },
          "metadata": {},
          "execution_count": 64
        }
      ]
    },
    {
      "cell_type": "code",
      "source": [
        "np.eye(3, 5, k=1)"
      ],
      "metadata": {
        "id": "cPCc3AUmggrh",
        "outputId": "fbda5d7d-f83d-4eae-c117-83cca670df40",
        "colab": {
          "base_uri": "https://localhost:8080/"
        }
      },
      "execution_count": 65,
      "outputs": [
        {
          "output_type": "execute_result",
          "data": {
            "text/plain": [
              "array([[0., 1., 0., 0., 0.],\n",
              "       [0., 0., 1., 0., 0.],\n",
              "       [0., 0., 0., 1., 0.]])"
            ]
          },
          "metadata": {},
          "execution_count": 65
        }
      ]
    },
    {
      "cell_type": "code",
      "source": [
        "np.eye(3, 5, k=2)"
      ],
      "metadata": {
        "id": "Eg_QqFDSgdTq",
        "outputId": "940ae8de-71dc-4be3-caf3-b2c59cfce943",
        "colab": {
          "base_uri": "https://localhost:8080/"
        }
      },
      "execution_count": 63,
      "outputs": [
        {
          "output_type": "execute_result",
          "data": {
            "text/plain": [
              "array([[0., 0., 1., 0., 0.],\n",
              "       [0., 0., 0., 1., 0.],\n",
              "       [0., 0., 0., 0., 1.]])"
            ]
          },
          "metadata": {},
          "execution_count": 63
        }
      ]
    },
    {
      "cell_type": "markdown",
      "source": [
        "## diag\n",
        "\n",
        "대각 행렬의 값을 추출, k로 index 조정"
      ],
      "metadata": {
        "id": "2O5c78n8g-ZU"
      }
    },
    {
      "cell_type": "code",
      "source": [
        "matrix = np.arange(9).reshape(3,3)\n",
        "print(matrix)\n",
        "print(np.diag(matrix))"
      ],
      "metadata": {
        "id": "a4Kd7IYjhAMm",
        "outputId": "1188d0b1-7e95-4d36-cf9b-4e14202714af",
        "colab": {
          "base_uri": "https://localhost:8080/"
        }
      },
      "execution_count": 67,
      "outputs": [
        {
          "output_type": "stream",
          "name": "stdout",
          "text": [
            "[[0 1 2]\n",
            " [3 4 5]\n",
            " [6 7 8]]\n",
            "[0 4 8]\n"
          ]
        }
      ]
    },
    {
      "cell_type": "code",
      "source": [
        "matrix = np.arange(9).reshape(3,3)\n",
        "print(matrix)\n",
        "print(np.diag(matrix, k = 1))"
      ],
      "metadata": {
        "id": "83yrhf2nhRIS",
        "outputId": "212d4502-f55f-4e4a-9649-b24a3e510530",
        "colab": {
          "base_uri": "https://localhost:8080/"
        }
      },
      "execution_count": 69,
      "outputs": [
        {
          "output_type": "stream",
          "name": "stdout",
          "text": [
            "[[0 1 2]\n",
            " [3 4 5]\n",
            " [6 7 8]]\n",
            "[1 5]\n"
          ]
        }
      ]
    },
    {
      "cell_type": "markdown",
      "source": [],
      "metadata": {
        "id": "Npkojmhajp_v"
      }
    },
    {
      "cell_type": "markdown",
      "source": [
        "## random sampling\n",
        "\n",
        "데이터 분포에 따른 sampling으로 array 생성"
      ],
      "metadata": {
        "id": "C5ZevqAxh_X-"
      }
    },
    {
      "cell_type": "code",
      "source": [
        "np.random.uniform(0,1,10).reshape(2,5)"
      ],
      "metadata": {
        "id": "_S6i4PthiDsl",
        "outputId": "9d1acb43-2652-43fe-b695-4cdedfb1c686",
        "colab": {
          "base_uri": "https://localhost:8080/"
        }
      },
      "execution_count": 70,
      "outputs": [
        {
          "output_type": "execute_result",
          "data": {
            "text/plain": [
              "array([[0.63642901, 0.70917155, 0.94367368, 0.02670333, 0.44726251],\n",
              "       [0.35980325, 0.92190251, 0.38038028, 0.67924035, 0.34001774]])"
            ]
          },
          "metadata": {},
          "execution_count": 70
        }
      ]
    },
    {
      "cell_type": "code",
      "source": [
        "np.random.normal(0,1,10).reshape(2,5)"
      ],
      "metadata": {
        "id": "CN1L9UOAiKPw",
        "outputId": "4cf3f1bf-b1d0-4b8e-8418-16652c268535",
        "colab": {
          "base_uri": "https://localhost:8080/"
        }
      },
      "execution_count": 71,
      "outputs": [
        {
          "output_type": "execute_result",
          "data": {
            "text/plain": [
              "array([[-0.56585113,  0.32985024, -0.01195053,  0.74610163,  0.52741899],\n",
              "       [ 0.134003  , -0.25648522, -0.5567959 , -1.6608065 ,  0.21276222]])"
            ]
          },
          "metadata": {},
          "execution_count": 71
        }
      ]
    }
  ]
}