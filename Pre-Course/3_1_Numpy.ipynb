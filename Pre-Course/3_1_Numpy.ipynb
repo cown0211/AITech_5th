{
  "nbformat": 4,
  "nbformat_minor": 0,
  "metadata": {
    "colab": {
      "provenance": [],
      "authorship_tag": "ABX9TyMsrGwEmV2Jtz8x7XUZOtDc",
      "include_colab_link": true
    },
    "kernelspec": {
      "name": "python3",
      "display_name": "Python 3"
    },
    "language_info": {
      "name": "python"
    }
  },
  "cells": [
    {
      "cell_type": "markdown",
      "metadata": {
        "id": "view-in-github",
        "colab_type": "text"
      },
      "source": [
        "<a href=\"https://colab.research.google.com/github/cown0211/AITech_5th/blob/main/Pre-Course/3_1_Numpy.ipynb\" target=\"_parent\"><img src=\"https://colab.research.google.com/assets/colab-badge.svg\" alt=\"Open In Colab\"/></a>"
      ]
    },
    {
      "cell_type": "markdown",
      "source": [
        "  수식을 행렬형태로 작성하려면?\n",
        "  \n",
        "  아래와 같이 리스트 형태로...\n",
        "\n",
        "  ```\n",
        "  coefficient_matrix = [[2,2,1], [2,-1,2], [1,-1,2]]\n",
        "  constant_vector = [9,6,5]\n",
        "  ```\n",
        "\n",
        "  but\n",
        "\n",
        "  matrix가 커질수록 리스트는 비효율적!\n",
        "\n",
        "  \n",
        "  # **NumPy**"
      ],
      "metadata": {
        "id": "FTBB4r7Jjc-b"
      }
    },
    {
      "cell_type": "code",
      "execution_count": null,
      "metadata": {
        "id": "_aYB9bIXixN-"
      },
      "outputs": [],
      "source": [
        "import numpy as np"
      ]
    }
  ]
}